{
 "cells": [
  {
   "cell_type": "markdown",
   "id": "21e55b78",
   "metadata": {},
   "source": [
    "## 1. Пример использования матричного умножения в сети с тремя слоями"
   ]
  },
  {
   "cell_type": "markdown",
   "id": "15311e3b",
   "metadata": {},
   "source": [
    "<img src=\"img/Backpropagation_1_1.png\" width=\"800\" height=\"800\">"
   ]
  },
  {
   "cell_type": "markdown",
   "id": "c9b8fa81",
   "metadata": {},
   "source": [
    "### Выходные сигналы второго слоя\n",
    "\n",
    "Приступим к работе над примером, представленным на этой диаграмме. Входными сигналами нейронной сети являются следующие: 0,9; 0,1 и 0,8. Поэтому входная матрица I имеет следующий вид."
   ]
  },
  {
   "cell_type": "code",
   "execution_count": 11,
   "id": "39f37c61",
   "metadata": {},
   "outputs": [],
   "source": [
    "import numpy as np\n",
    "from scipy import special"
   ]
  },
  {
   "cell_type": "code",
   "execution_count": 5,
   "id": "5dce038a",
   "metadata": {},
   "outputs": [],
   "source": [
    "I = np.array([[0.9], \n",
    "              [0.1], \n",
    "              [0.8]])"
   ]
  },
  {
   "cell_type": "markdown",
   "id": "25be60c4",
   "metadata": {},
   "source": [
    "Как уже было показано, сглаженные комбинированные входные сигналы для этого слоя определяются выражением $X = W -I$, где $I$ — матрица входных сигналов, a $W$ — матрица весов."
   ]
  },
  {
   "cell_type": "code",
   "execution_count": 6,
   "id": "ad3fb93e",
   "metadata": {},
   "outputs": [],
   "source": [
    "w_input_hidden = np.array([[0.9, 0.3, 0.4], \n",
    "                           [0.2, 0.8, 0.2], \n",
    "                           [0.1, 0.5, 0.6]])"
   ]
  },
  {
   "cell_type": "code",
   "execution_count": 7,
   "id": "230f621c",
   "metadata": {},
   "outputs": [
    {
     "data": {
      "text/plain": [
       "array([[1.16],\n",
       "       [0.42],\n",
       "       [0.62]])"
      ]
     },
     "execution_count": 7,
     "metadata": {},
     "output_type": "execute_result"
    }
   ],
   "source": [
    "X_hidden = w_input_hidden @ I\n",
    "X_hidden"
   ]
  },
  {
   "cell_type": "code",
   "execution_count": 8,
   "id": "1c60cded",
   "metadata": {},
   "outputs": [],
   "source": [
    "sigmoid = lambda x: special.expit(x)"
   ]
  },
  {
   "cell_type": "code",
   "execution_count": 12,
   "id": "14610a7d",
   "metadata": {},
   "outputs": [
    {
     "data": {
      "text/plain": [
       "array([[0.76133271],\n",
       "       [0.60348325],\n",
       "       [0.65021855]])"
      ]
     },
     "execution_count": 12,
     "metadata": {},
     "output_type": "execute_result"
    }
   ],
   "source": [
    "X_hsigmoid = sigmoid(X_hidden)\n",
    "X_hsigmoid"
   ]
  },
  {
   "cell_type": "markdown",
   "id": "ef0d537b",
   "metadata": {},
   "source": [
    "### Выходные сигналы третьего слоя слоя"
   ]
  },
  {
   "cell_type": "code",
   "execution_count": 13,
   "id": "d7808321",
   "metadata": {},
   "outputs": [],
   "source": [
    "w_hidden_output = np.array([[0.3, 0.7, 0.5], \n",
    "                            [0.6, 0.5, 0.2], \n",
    "                            [0.8, 0.1, 0.9]])"
   ]
  },
  {
   "cell_type": "code",
   "execution_count": 14,
   "id": "145831f1",
   "metadata": {},
   "outputs": [
    {
     "data": {
      "text/plain": [
       "array([[0.97594736],\n",
       "       [0.88858496],\n",
       "       [1.25461119]])"
      ]
     },
     "execution_count": 14,
     "metadata": {},
     "output_type": "execute_result"
    }
   ],
   "source": [
    "X_output = w_hidden_output @ X_hsigmoid\n",
    "X_output"
   ]
  },
  {
   "cell_type": "code",
   "execution_count": 16,
   "id": "eca7b62f",
   "metadata": {},
   "outputs": [
    {
     "data": {
      "text/plain": [
       "array([[0.72630335],\n",
       "       [0.70859807],\n",
       "       [0.77809706]])"
      ]
     },
     "execution_count": 16,
     "metadata": {},
     "output_type": "execute_result"
    }
   ],
   "source": [
    "X_osigmoid = sigmoid(X_output)\n",
    "X_osigmoid"
   ]
  },
  {
   "cell_type": "markdown",
   "id": "6e5d0423",
   "metadata": {},
   "source": [
    "<img src=\"img/Backpropagation_1_2.png\" width=\"800\" height=\"800\">"
   ]
  },
  {
   "cell_type": "markdown",
   "id": "f7aaa95d",
   "metadata": {},
   "source": [
    "## 2. Обратное распространение ошибок\n",
    "\n",
    "На следующей диаграмме отображена простая сеть с двумя входными узлами, но на этот раз с двумя выходными узлами.\n",
    "\n",
    "<img src=\"img/Backpropagation_2_1.png\" width=\"800\" height=\"800\">\n",
    "\n",
    "Ошибка на первом выходном узле обозначена как $e_1$ Не забывайте, что это разность между желаемым значением, предоставляемым тренировочными данными $t_1$ и фактическим выходным значением $o_1$. Таким образом $e_1 = (t_1 - o_1)$. Ошибка на втором выходном узле обозначена как $e_2$."
   ]
  },
  {
   "cell_type": "markdown",
   "id": "979872f2",
   "metadata": {},
   "source": [
    "### Повышаем количество слоев\n",
    "\n",
    "<img src=\"img/Backpropagation_2_2.png\" width=\"800\" height=\"800\">\n",
    "\n",
    "Ошибка на первом скрытом узле представляет собой сумму ошибок, распределенных по всем связям, исходящим из этого узла в прямом направлении. На приведенной выше диаграмме показано, что имеется некоторая доля выходной ошибки $e_{\\text{выходной, 1}}$ приписываемая связи с весом $w_{11}$, и некоторая доля выходной ошибки $e_{\\text{выходной, 2}}$ приписываемая связи с весом $w_{12}$. Вышесказанное можно записать в виде следующего выражения:\n",
    "\n",
    "$\\large e_{\\text{скрытый, 1}} = \\text{сумма ошибок, распределенных по связям} w_{11} \\text{ и } w_{12}$\n",
    "\n",
    "\n",
    "\n",
    "$\\large e_{\\text{скрытый, 1}} = e_{\\text{выходной, 1}} \\cdot \\frac{w_{11}}{w_{11} + w_{21}} + e_{\\text{выходной, 2}} \\cdot \\frac{w_{12}}{w_{12} + w_{22}}$\n",
    "\n",
    "Чтобы проиллюстрировать, как эта теория выглядит на практике, приведем диаграмму, демонстрирующую обратное распространение ошибок в простой трехслойной сети на примере конкретных данных.\n",
    "\n",
    "<img src=\"img/Backpropagation_2_3.png\" width=\"800\" height=\"800\">\n",
    "\n",
    "Проследим за обратным распространением одной из ошибок. Вы видите, что после распределения ошибки 0,5 на втором узле выходного слоя между двумя связями с весами 1,0 и 4,0 мы получаем доли, равные 0,1 и 0,4 соответственно. Также можно видеть, что объединенная ошибка на втором узле скрытого слоя представляетсобой сумму распределенных ошибок, в данном случае равных 0,48 и 0,4, сложение которых дает 0,88.\n",
    "\n",
    "На следующей диаграмме демонстрируется применение той же методики к слою, который предшествует скрытому.\n",
    "\n",
    "<img src=\"img/Backpropagation_2_4.png\" width=\"800\" height=\"800\">"
   ]
  },
  {
   "cell_type": "markdown",
   "id": "ca4bbb96",
   "metadata": {},
   "source": [
    "## 3. Описание обратного распространения ошибок с помощью матричной алгебры"
   ]
  },
  {
   "cell_type": "code",
   "execution_count": null,
   "id": "af607498",
   "metadata": {},
   "outputs": [],
   "source": []
  }
 ],
 "metadata": {
  "kernelspec": {
   "display_name": "Python 3 (ipykernel)",
   "language": "python",
   "name": "python3"
  },
  "language_info": {
   "codemirror_mode": {
    "name": "ipython",
    "version": 3
   },
   "file_extension": ".py",
   "mimetype": "text/x-python",
   "name": "python",
   "nbconvert_exporter": "python",
   "pygments_lexer": "ipython3",
   "version": "3.9.7"
  },
  "varInspector": {
   "cols": {
    "lenName": 16,
    "lenType": 16,
    "lenVar": 40
   },
   "kernels_config": {
    "python": {
     "delete_cmd_postfix": "",
     "delete_cmd_prefix": "del ",
     "library": "var_list.py",
     "varRefreshCmd": "print(var_dic_list())"
    },
    "r": {
     "delete_cmd_postfix": ") ",
     "delete_cmd_prefix": "rm(",
     "library": "var_list.r",
     "varRefreshCmd": "cat(var_dic_list()) "
    }
   },
   "types_to_exclude": [
    "module",
    "function",
    "builtin_function_or_method",
    "instance",
    "_Feature"
   ],
   "window_display": false
  }
 },
 "nbformat": 4,
 "nbformat_minor": 5
}
