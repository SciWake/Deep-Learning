{
 "cells": [
  {
   "cell_type": "markdown",
   "metadata": {
    "id": "Ot3c4fjZwC4T"
   },
   "source": [
    "<img src=\"https://s8.hostingkartinok.com/uploads/images/2018/08/308b49fcfbc619d629fe4604bceb67ac.jpg\" width=500, height=450>\n",
    "<h3 style=\"text-align: center;\"><b>Физтех-Школа Прикладной математики и информатики (ФПМИ) МФТИ</b></h3>"
   ]
  },
  {
   "cell_type": "markdown",
   "metadata": {
    "id": "P2JdzEXmwRU5"
   },
   "source": [
    "---"
   ]
  },
  {
   "cell_type": "markdown",
   "metadata": {
    "id": "eYtJxkhKpYK2"
   },
   "source": [
    "# Embeddings\n",
    "\n",
    "Привет! В этом домашнем задании мы с помощью эмбеддингов решим задачу семантической классификации твитов.\n",
    "\n",
    "Для этого мы воспользуемся предобученными эмбеддингами word2vec."
   ]
  },
  {
   "cell_type": "markdown",
   "metadata": {
    "id": "jBOdoFS8AdpP"
   },
   "source": [
    "Для начала скачаем датасет для семантической классификации твитов:"
   ]
  },
  {
   "cell_type": "code",
   "execution_count": 1,
   "metadata": {
    "id": "wXjhtsfF_gBK"
   },
   "outputs": [
    {
     "name": "stderr",
     "output_type": "stream",
     "text": [
      "'gdown' is not recognized as an internal or external command,\n",
      "operable program or batch file.\n",
      "'export' is not recognized as an internal or external command,\n",
      "operable program or batch file.\n",
      "unzip:  cannot find or open archive.zip, archive.zip.zip or archive.zip.ZIP.\n"
     ]
    }
   ],
   "source": [
    "!gdown https://drive.google.com/uc?id=1eE1FiUkXkcbw0McId4i7qY-L8hH-_Qph&export=download\n",
    "!unzip archive.zip"
   ]
  },
  {
   "cell_type": "markdown",
   "metadata": {
    "id": "Sh6wW-K53Mle"
   },
   "source": [
    "Импортируем нужные библиотеки:"
   ]
  },
  {
   "cell_type": "code",
   "execution_count": 1,
   "metadata": {
    "id": "A2Y5CHRm6NFe"
   },
   "outputs": [],
   "source": [
    "import math\n",
    "import random\n",
    "import string\n",
    "\n",
    "import numpy as np\n",
    "import pandas as pd\n",
    "import seaborn as sns\n",
    "\n",
    "import torch\n",
    "import nltk\n",
    "import gensim\n",
    "import gensim.downloader as api"
   ]
  },
  {
   "cell_type": "code",
   "execution_count": 2,
   "metadata": {
    "id": "73Lb0wbESrgQ"
   },
   "outputs": [],
   "source": [
    "random.seed(42)\n",
    "np.random.seed(42)\n",
    "torch.random.manual_seed(42)\n",
    "torch.cuda.random.manual_seed(42)\n",
    "torch.cuda.random.manual_seed_all(42)\n",
    "\n",
    "device = \"cuda\" if torch.cuda.is_available() else \"cpu\""
   ]
  },
  {
   "cell_type": "code",
   "execution_count": 3,
   "metadata": {
    "id": "L_Wv-4bu83Fl"
   },
   "outputs": [],
   "source": [
    "data = pd.read_csv(\"training.1600000.processed.noemoticon.csv\", encoding=\"latin\", header=None, names=[\"emotion\", \"id\", \"date\", \"flag\", \"user\", \"text\"])"
   ]
  },
  {
   "cell_type": "markdown",
   "metadata": {
    "id": "RY1pvYDS3Yuj"
   },
   "source": [
    "Посмотрим на данные:"
   ]
  },
  {
   "cell_type": "code",
   "execution_count": 4,
   "metadata": {
    "id": "jST2tjgjCTWD"
   },
   "outputs": [
    {
     "data": {
      "text/html": [
       "<div>\n",
       "<style scoped>\n",
       "    .dataframe tbody tr th:only-of-type {\n",
       "        vertical-align: middle;\n",
       "    }\n",
       "\n",
       "    .dataframe tbody tr th {\n",
       "        vertical-align: top;\n",
       "    }\n",
       "\n",
       "    .dataframe thead th {\n",
       "        text-align: right;\n",
       "    }\n",
       "</style>\n",
       "<table border=\"1\" class=\"dataframe\">\n",
       "  <thead>\n",
       "    <tr style=\"text-align: right;\">\n",
       "      <th></th>\n",
       "      <th>emotion</th>\n",
       "      <th>id</th>\n",
       "      <th>date</th>\n",
       "      <th>flag</th>\n",
       "      <th>user</th>\n",
       "      <th>text</th>\n",
       "    </tr>\n",
       "  </thead>\n",
       "  <tbody>\n",
       "    <tr>\n",
       "      <th>0</th>\n",
       "      <td>0</td>\n",
       "      <td>1467810369</td>\n",
       "      <td>Mon Apr 06 22:19:45 PDT 2009</td>\n",
       "      <td>NO_QUERY</td>\n",
       "      <td>_TheSpecialOne_</td>\n",
       "      <td>@switchfoot http://twitpic.com/2y1zl - Awww, t...</td>\n",
       "    </tr>\n",
       "    <tr>\n",
       "      <th>1</th>\n",
       "      <td>0</td>\n",
       "      <td>1467810672</td>\n",
       "      <td>Mon Apr 06 22:19:49 PDT 2009</td>\n",
       "      <td>NO_QUERY</td>\n",
       "      <td>scotthamilton</td>\n",
       "      <td>is upset that he can't update his Facebook by ...</td>\n",
       "    </tr>\n",
       "    <tr>\n",
       "      <th>2</th>\n",
       "      <td>0</td>\n",
       "      <td>1467810917</td>\n",
       "      <td>Mon Apr 06 22:19:53 PDT 2009</td>\n",
       "      <td>NO_QUERY</td>\n",
       "      <td>mattycus</td>\n",
       "      <td>@Kenichan I dived many times for the ball. Man...</td>\n",
       "    </tr>\n",
       "    <tr>\n",
       "      <th>3</th>\n",
       "      <td>0</td>\n",
       "      <td>1467811184</td>\n",
       "      <td>Mon Apr 06 22:19:57 PDT 2009</td>\n",
       "      <td>NO_QUERY</td>\n",
       "      <td>ElleCTF</td>\n",
       "      <td>my whole body feels itchy and like its on fire</td>\n",
       "    </tr>\n",
       "    <tr>\n",
       "      <th>4</th>\n",
       "      <td>0</td>\n",
       "      <td>1467811193</td>\n",
       "      <td>Mon Apr 06 22:19:57 PDT 2009</td>\n",
       "      <td>NO_QUERY</td>\n",
       "      <td>Karoli</td>\n",
       "      <td>@nationwideclass no, it's not behaving at all....</td>\n",
       "    </tr>\n",
       "  </tbody>\n",
       "</table>\n",
       "</div>"
      ],
      "text/plain": [
       "   emotion          id                          date      flag  \\\n",
       "0        0  1467810369  Mon Apr 06 22:19:45 PDT 2009  NO_QUERY   \n",
       "1        0  1467810672  Mon Apr 06 22:19:49 PDT 2009  NO_QUERY   \n",
       "2        0  1467810917  Mon Apr 06 22:19:53 PDT 2009  NO_QUERY   \n",
       "3        0  1467811184  Mon Apr 06 22:19:57 PDT 2009  NO_QUERY   \n",
       "4        0  1467811193  Mon Apr 06 22:19:57 PDT 2009  NO_QUERY   \n",
       "\n",
       "              user                                               text  \n",
       "0  _TheSpecialOne_  @switchfoot http://twitpic.com/2y1zl - Awww, t...  \n",
       "1    scotthamilton  is upset that he can't update his Facebook by ...  \n",
       "2         mattycus  @Kenichan I dived many times for the ball. Man...  \n",
       "3          ElleCTF    my whole body feels itchy and like its on fire   \n",
       "4           Karoli  @nationwideclass no, it's not behaving at all....  "
      ]
     },
     "execution_count": 4,
     "metadata": {},
     "output_type": "execute_result"
    }
   ],
   "source": [
    "data.head()"
   ]
  },
  {
   "cell_type": "markdown",
   "metadata": {
    "id": "OhbR5JJyA2VW"
   },
   "source": [
    "Выведем несколько примеров твитов, чтобы понимать, с чем мы имеем дело:"
   ]
  },
  {
   "cell_type": "code",
   "execution_count": 5,
   "metadata": {
    "id": "kCBwe0wR83C2"
   },
   "outputs": [
    {
     "name": "stdout",
     "output_type": "stream",
     "text": [
      "@chrishasboobs AHHH I HOPE YOUR OK!!! \n",
      "@misstoriblack cool , i have no tweet apps  for my razr 2\n",
      "@TiannaChaos i know  just family drama. its lame.hey next time u hang out with kim n u guys like have a sleepover or whatever, ill call u\n",
      "School email won't open  and I have geography stuff on there to revise! *Stupid School* :'(\n",
      "upper airways problem \n",
      "Going to miss Pastor's sermon on Faith... \n",
      "on lunch....dj should come eat with me \n",
      "@piginthepoke oh why are you feeling like that? \n",
      "gahh noo!peyton needs to live!this is horrible \n",
      "@mrstessyman thank you glad you like it! There is a product review bit on the site  Enjoy knitting it!\n"
     ]
    }
   ],
   "source": [
    "examples = data[\"text\"].sample(10)\n",
    "print(\"\\n\".join(examples))"
   ]
  },
  {
   "cell_type": "markdown",
   "metadata": {
    "id": "GvcYW8aX3mKt"
   },
   "source": [
    "Как вилим, тексты твитов очень \"грязные\". Нужно предобработать датасет, прежде чем строить для него модель классификации.\n",
    "\n",
    "Чтобы сравнивать различные методы обработки текста/модели/прочее, разделим датасет на dev(для обучения модели) и test(для получения качества модели)."
   ]
  },
  {
   "cell_type": "code",
   "execution_count": 6,
   "metadata": {
    "id": "f8hUK-jnQg6O"
   },
   "outputs": [],
   "source": [
    "indexes = np.arange(data.shape[0])\n",
    "np.random.shuffle(indexes)\n",
    "dev_size = math.ceil(data.shape[0] * 0.8)\n",
    "\n",
    "dev_indexes = indexes[:dev_size]\n",
    "test_indexes = indexes[dev_size:]\n",
    "\n",
    "dev_data = data.iloc[dev_indexes]\n",
    "test_data = data.iloc[test_indexes]\n",
    "\n",
    "dev_data.reset_index(drop=True, inplace=True)\n",
    "test_data.reset_index(drop=True, inplace=True)"
   ]
  },
  {
   "cell_type": "markdown",
   "metadata": {
    "id": "6ivcpeFoCnZA"
   },
   "source": [
    "## Обработка текста"
   ]
  },
  {
   "cell_type": "markdown",
   "metadata": {
    "id": "Df4nca285Dar"
   },
   "source": [
    "Токенизируем текст, избавимся от знаков пунктуации и выкинем все слова, состоящие менее чем из 4 букв:"
   ]
  },
  {
   "cell_type": "code",
   "execution_count": 7,
   "metadata": {
    "id": "nsNHNDES9ZVF"
   },
   "outputs": [
    {
     "name": "stdout",
     "output_type": "stream",
     "text": [
      "@ claire_nelson i ' m on the north devon coast the next few weeks will be down in devon again in may sometime i hope though !\n"
     ]
    }
   ],
   "source": [
    "tokenizer = nltk.WordPunctTokenizer()\n",
    "line = tokenizer.tokenize(dev_data[\"text\"][0].lower())\n",
    "print(\" \".join(line))"
   ]
  },
  {
   "cell_type": "code",
   "execution_count": 8,
   "metadata": {
    "id": "GcBS_u_hTuxp"
   },
   "outputs": [
    {
     "name": "stdout",
     "output_type": "stream",
     "text": [
      "north devon coast next weeks will down devon again sometime hope though\n"
     ]
    }
   ],
   "source": [
    "filtered_line = [w for w in line if all(c not in string.punctuation for c in w) and len(w) > 3]\n",
    "print(\" \".join(filtered_line))"
   ]
  },
  {
   "cell_type": "markdown",
   "metadata": {
    "id": "cuFmlXkC6E7X"
   },
   "source": [
    "Загрузим предобученную модель эмбеддингов. \n",
    "\n",
    "Если хотите, можно попробовать другую. Полный список можно найти здесь: https://github.com/RaRe-Technologies/gensim-data.\n",
    "\n",
    "Данная модель выдает эмбеддинги для **слов**. Строить по эмбеддингам слов эмбеддинги предложений мы будем ниже."
   ]
  },
  {
   "cell_type": "code",
   "execution_count": 9,
   "metadata": {
    "id": "cACJpje2T5bc",
    "tags": []
   },
   "outputs": [],
   "source": [
    "word2vec = api.load(\"word2vec-google-news-300\")"
   ]
  },
  {
   "cell_type": "code",
   "execution_count": 10,
   "metadata": {
    "id": "NafmYHrkT5YD"
   },
   "outputs": [
    {
     "name": "stdout",
     "output_type": "stream",
     "text": [
      "(300,)\n"
     ]
    }
   ],
   "source": [
    "emb_line = [word2vec.get_vector(w) for w in filtered_line if w in word2vec]\n",
    "print(sum(emb_line).shape)"
   ]
  },
  {
   "cell_type": "markdown",
   "metadata": {
    "id": "LTS6LCkd6_E7"
   },
   "source": [
    "Нормализуем эмбеддинги, прежде чем обучать на них сеть. \n",
    "(наверное, вы помните, что нейронные сети гораздо лучше обучаются на нормализованных данных)"
   ]
  },
  {
   "cell_type": "code",
   "execution_count": 11,
   "metadata": {
    "id": "3PyLTZ6xf3Oq"
   },
   "outputs": [
    {
     "name": "stdout",
     "output_type": "stream",
     "text": [
      "(300,)\n",
      "[False, False, False, False, False, False, False, False, False, False, False, False]\n"
     ]
    }
   ],
   "source": [
    "mean = np.mean(word2vec.vectors, 0)\n",
    "std = np.std(word2vec.vectors, 0)\n",
    "norm_emb_line = [(word2vec.get_vector(w) - mean) / std for w in filtered_line if w in word2vec and len(w) > 3]\n",
    "print(sum(norm_emb_line).shape)\n",
    "print([all(norm_emb_line[i] == emb_line[i]) for i in range(len(emb_line))])"
   ]
  },
  {
   "cell_type": "markdown",
   "metadata": {
    "id": "q7vm6Ppd7Ubw"
   },
   "source": [
    "Сделаем датасет, который будет по запросу возвращать подготовленные данные."
   ]
  },
  {
   "cell_type": "code",
   "execution_count": 12,
   "metadata": {
    "id": "b4eZajF7pZ1X"
   },
   "outputs": [],
   "source": [
    "from torch.utils.data import Dataset, random_split\n",
    "\n",
    "\n",
    "class TwitterDataset(Dataset):\n",
    "    def __init__(self, data: pd.DataFrame, feature_column: str, target_column: str, word2vec: gensim.models.Word2Vec):\n",
    "        self.tokenizer = nltk.WordPunctTokenizer()\n",
    "        \n",
    "        self.data = data\n",
    "\n",
    "        self.feature_column = feature_column\n",
    "        self.target_column = target_column\n",
    "\n",
    "        self.word2vec = word2vec\n",
    "\n",
    "        self.label2num = lambda label: 0 if label == 0 else 1\n",
    "        self.mean = np.mean(word2vec.vectors, axis=0)\n",
    "        self.std = np.std(word2vec.vectors, axis=0)\n",
    "\n",
    "    def __getitem__(self, item):\n",
    "        text = self.data[self.feature_column][item]\n",
    "        label = self.label2num(self.data[self.target_column][item])\n",
    "\n",
    "        tokens = self.get_tokens_(text)\n",
    "        embeddings = self.get_embeddings_(tokens)\n",
    "\n",
    "        return {\"feature\": embeddings, \"target\": label}\n",
    "\n",
    "    def get_tokens_(self, text):\n",
    "        # Получи все токены из текста и профильтруй их\n",
    "        return [w for w in self.tokenizer.tokenize(text.strip().lower()) if all(c not in string.punctuation for c in w) and len(w) > 3]\n",
    "\n",
    "    def get_embeddings_(self, tokens):\n",
    "        # Получи эмбеддинги слов и усредни их\n",
    "        embeddings = [(self.word2vec.get_vector(w) - self.mean) / self.std for w in tokens if w in self.word2vec and len(w) > 3]\n",
    "\n",
    "        if len(embeddings) == 0:\n",
    "            embeddings = np.zeros((1, self.word2vec.vector_size))\n",
    "        else:\n",
    "            embeddings = np.array(embeddings)\n",
    "            if len(embeddings.shape) == 1:\n",
    "                embeddings = embeddings.reshape(-1, 1)\n",
    "\n",
    "        return embeddings\n",
    "\n",
    "    def __len__(self):\n",
    "        return self.data.shape[0]"
   ]
  },
  {
   "cell_type": "code",
   "execution_count": 13,
   "metadata": {
    "id": "IZJpttbXpZyz"
   },
   "outputs": [],
   "source": [
    "dev = TwitterDataset(dev_data, \"text\", \"emotion\", word2vec)"
   ]
  },
  {
   "cell_type": "markdown",
   "metadata": {
    "id": "Sr-aetH0_LH1"
   },
   "source": [
    "Отлично, мы готовы с помощью эмбеддингов слов превращать твиты в векторы и обучать нейронную сеть.\n",
    "\n",
    "Превращать твиты в векторы, используя эмбеддинги слов, можно несколькими способами. А именно такими:"
   ]
  },
  {
   "cell_type": "markdown",
   "metadata": {
    "id": "4AhHrWa196Yc"
   },
   "source": [
    "## Average embedding (2 балла)\n",
    "---\n",
    "Это самый простой вариант, как получить вектор предложения, используя векторные представления слов в предложении. А именно: вектор предложения есть средний вектор всех слов в предлоежнии (которые остались после токенизации и удаления коротких слов, конечно). "
   ]
  },
  {
   "cell_type": "code",
   "execution_count": 14,
   "metadata": {
    "id": "ScdokSW-994t"
   },
   "outputs": [
    {
     "name": "stdout",
     "output_type": "stream",
     "text": [
      "1280\n"
     ]
    }
   ],
   "source": [
    "indexes = np.arange(len(dev))\n",
    "np.random.shuffle(indexes)\n",
    "example_indexes = indexes[::1000]\n",
    "\n",
    "examples = {\"features\": [np.sum(dev[i][\"feature\"], axis=0) for i in example_indexes], \n",
    "            \"targets\": [dev[i][\"target\"] for i in example_indexes]}\n",
    "print(len(examples[\"features\"]))"
   ]
  },
  {
   "cell_type": "markdown",
   "metadata": {
    "id": "1yGQ_lOx_1NL"
   },
   "source": [
    "Давайте сделаем визуализацию полученных векторов твитов тренировочного (dev) датасета. Так мы увидим, насколько хорошо твиты с разными target значениями отделяются друг от друга, т.е. насколько хорошо усреднение эмбеддингов слов предложения передает информацию о предложении."
   ]
  },
  {
   "cell_type": "markdown",
   "metadata": {
    "id": "LZwFksd_8uYO"
   },
   "source": [
    "Для визуализации векторов надо получить их проекцию на плоскость. Сделаем это с помощью `PCA`. Если хотите, можете вместо PCA использовать TSNE: так у вас получится более точная проекция на плоскость (а значит, более информативная, т.е. отражающая реальное положение векторов твитов в пространстве). Но TSNE будет работать намного дольше."
   ]
  },
  {
   "cell_type": "code",
   "execution_count": 15,
   "metadata": {
    "id": "aKFZRSHdtIac"
   },
   "outputs": [
    {
     "name": "stderr",
     "output_type": "stream",
     "text": [
      "D:\\Programs\\anaconda3\\lib\\site-packages\\sklearn\\manifold\\_t_sne.py:780: FutureWarning: The default initialization in TSNE will change from 'random' to 'pca' in 1.2.\n",
      "  warnings.warn(\n",
      "D:\\Programs\\anaconda3\\lib\\site-packages\\sklearn\\manifold\\_t_sne.py:790: FutureWarning: The default learning rate in TSNE will change from 200.0 to 'auto' in 1.2.\n",
      "  warnings.warn(\n"
     ]
    }
   ],
   "source": [
    "from sklearn.decomposition import PCA\n",
    "from sklearn.manifold import TSNE\n",
    "\n",
    "\n",
    "tsne = TSNE(n_components=2)\n",
    "examples[\"transformed_features\"] = tsne.fit_transform(examples['features'])"
   ]
  },
  {
   "cell_type": "code",
   "execution_count": 16,
   "metadata": {
    "id": "szEOWdiNtIX8"
   },
   "outputs": [
    {
     "data": {
      "text/html": [
       "\n",
       "    <div class=\"bk-root\">\n",
       "        <a href=\"https://bokeh.org\" target=\"_blank\" class=\"bk-logo bk-logo-small bk-logo-notebook\"></a>\n",
       "        <span id=\"1002\">Loading BokehJS ...</span>\n",
       "    </div>"
      ]
     },
     "metadata": {},
     "output_type": "display_data"
    },
    {
     "data": {
      "application/javascript": [
       "\n",
       "(function(root) {\n",
       "  function now() {\n",
       "    return new Date();\n",
       "  }\n",
       "\n",
       "  const force = true;\n",
       "\n",
       "  if (typeof root._bokeh_onload_callbacks === \"undefined\" || force === true) {\n",
       "    root._bokeh_onload_callbacks = [];\n",
       "    root._bokeh_is_loading = undefined;\n",
       "  }\n",
       "\n",
       "  const JS_MIME_TYPE = 'application/javascript';\n",
       "  const HTML_MIME_TYPE = 'text/html';\n",
       "  const EXEC_MIME_TYPE = 'application/vnd.bokehjs_exec.v0+json';\n",
       "  const CLASS_NAME = 'output_bokeh rendered_html';\n",
       "\n",
       "  /**\n",
       "   * Render data to the DOM node\n",
       "   */\n",
       "  function render(props, node) {\n",
       "    const script = document.createElement(\"script\");\n",
       "    node.appendChild(script);\n",
       "  }\n",
       "\n",
       "  /**\n",
       "   * Handle when an output is cleared or removed\n",
       "   */\n",
       "  function handleClearOutput(event, handle) {\n",
       "    const cell = handle.cell;\n",
       "\n",
       "    const id = cell.output_area._bokeh_element_id;\n",
       "    const server_id = cell.output_area._bokeh_server_id;\n",
       "    // Clean up Bokeh references\n",
       "    if (id != null && id in Bokeh.index) {\n",
       "      Bokeh.index[id].model.document.clear();\n",
       "      delete Bokeh.index[id];\n",
       "    }\n",
       "\n",
       "    if (server_id !== undefined) {\n",
       "      // Clean up Bokeh references\n",
       "      const cmd_clean = \"from bokeh.io.state import curstate; print(curstate().uuid_to_server['\" + server_id + \"'].get_sessions()[0].document.roots[0]._id)\";\n",
       "      cell.notebook.kernel.execute(cmd_clean, {\n",
       "        iopub: {\n",
       "          output: function(msg) {\n",
       "            const id = msg.content.text.trim();\n",
       "            if (id in Bokeh.index) {\n",
       "              Bokeh.index[id].model.document.clear();\n",
       "              delete Bokeh.index[id];\n",
       "            }\n",
       "          }\n",
       "        }\n",
       "      });\n",
       "      // Destroy server and session\n",
       "      const cmd_destroy = \"import bokeh.io.notebook as ion; ion.destroy_server('\" + server_id + \"')\";\n",
       "      cell.notebook.kernel.execute(cmd_destroy);\n",
       "    }\n",
       "  }\n",
       "\n",
       "  /**\n",
       "   * Handle when a new output is added\n",
       "   */\n",
       "  function handleAddOutput(event, handle) {\n",
       "    const output_area = handle.output_area;\n",
       "    const output = handle.output;\n",
       "\n",
       "    // limit handleAddOutput to display_data with EXEC_MIME_TYPE content only\n",
       "    if ((output.output_type != \"display_data\") || (!Object.prototype.hasOwnProperty.call(output.data, EXEC_MIME_TYPE))) {\n",
       "      return\n",
       "    }\n",
       "\n",
       "    const toinsert = output_area.element.find(\".\" + CLASS_NAME.split(' ')[0]);\n",
       "\n",
       "    if (output.metadata[EXEC_MIME_TYPE][\"id\"] !== undefined) {\n",
       "      toinsert[toinsert.length - 1].firstChild.textContent = output.data[JS_MIME_TYPE];\n",
       "      // store reference to embed id on output_area\n",
       "      output_area._bokeh_element_id = output.metadata[EXEC_MIME_TYPE][\"id\"];\n",
       "    }\n",
       "    if (output.metadata[EXEC_MIME_TYPE][\"server_id\"] !== undefined) {\n",
       "      const bk_div = document.createElement(\"div\");\n",
       "      bk_div.innerHTML = output.data[HTML_MIME_TYPE];\n",
       "      const script_attrs = bk_div.children[0].attributes;\n",
       "      for (let i = 0; i < script_attrs.length; i++) {\n",
       "        toinsert[toinsert.length - 1].firstChild.setAttribute(script_attrs[i].name, script_attrs[i].value);\n",
       "        toinsert[toinsert.length - 1].firstChild.textContent = bk_div.children[0].textContent\n",
       "      }\n",
       "      // store reference to server id on output_area\n",
       "      output_area._bokeh_server_id = output.metadata[EXEC_MIME_TYPE][\"server_id\"];\n",
       "    }\n",
       "  }\n",
       "\n",
       "  function register_renderer(events, OutputArea) {\n",
       "\n",
       "    function append_mime(data, metadata, element) {\n",
       "      // create a DOM node to render to\n",
       "      const toinsert = this.create_output_subarea(\n",
       "        metadata,\n",
       "        CLASS_NAME,\n",
       "        EXEC_MIME_TYPE\n",
       "      );\n",
       "      this.keyboard_manager.register_events(toinsert);\n",
       "      // Render to node\n",
       "      const props = {data: data, metadata: metadata[EXEC_MIME_TYPE]};\n",
       "      render(props, toinsert[toinsert.length - 1]);\n",
       "      element.append(toinsert);\n",
       "      return toinsert\n",
       "    }\n",
       "\n",
       "    /* Handle when an output is cleared or removed */\n",
       "    events.on('clear_output.CodeCell', handleClearOutput);\n",
       "    events.on('delete.Cell', handleClearOutput);\n",
       "\n",
       "    /* Handle when a new output is added */\n",
       "    events.on('output_added.OutputArea', handleAddOutput);\n",
       "\n",
       "    /**\n",
       "     * Register the mime type and append_mime function with output_area\n",
       "     */\n",
       "    OutputArea.prototype.register_mime_type(EXEC_MIME_TYPE, append_mime, {\n",
       "      /* Is output safe? */\n",
       "      safe: true,\n",
       "      /* Index of renderer in `output_area.display_order` */\n",
       "      index: 0\n",
       "    });\n",
       "  }\n",
       "\n",
       "  // register the mime type if in Jupyter Notebook environment and previously unregistered\n",
       "  if (root.Jupyter !== undefined) {\n",
       "    const events = require('base/js/events');\n",
       "    const OutputArea = require('notebook/js/outputarea').OutputArea;\n",
       "\n",
       "    if (OutputArea.prototype.mime_types().indexOf(EXEC_MIME_TYPE) == -1) {\n",
       "      register_renderer(events, OutputArea);\n",
       "    }\n",
       "  }\n",
       "\n",
       "  \n",
       "  if (typeof (root._bokeh_timeout) === \"undefined\" || force === true) {\n",
       "    root._bokeh_timeout = Date.now() + 5000;\n",
       "    root._bokeh_failed_load = false;\n",
       "  }\n",
       "\n",
       "  const NB_LOAD_WARNING = {'data': {'text/html':\n",
       "     \"<div style='background-color: #fdd'>\\n\"+\n",
       "     \"<p>\\n\"+\n",
       "     \"BokehJS does not appear to have successfully loaded. If loading BokehJS from CDN, this \\n\"+\n",
       "     \"may be due to a slow or bad network connection. Possible fixes:\\n\"+\n",
       "     \"</p>\\n\"+\n",
       "     \"<ul>\\n\"+\n",
       "     \"<li>re-rerun `output_notebook()` to attempt to load from CDN again, or</li>\\n\"+\n",
       "     \"<li>use INLINE resources instead, as so:</li>\\n\"+\n",
       "     \"</ul>\\n\"+\n",
       "     \"<code>\\n\"+\n",
       "     \"from bokeh.resources import INLINE\\n\"+\n",
       "     \"output_notebook(resources=INLINE)\\n\"+\n",
       "     \"</code>\\n\"+\n",
       "     \"</div>\"}};\n",
       "\n",
       "  function display_loaded() {\n",
       "    const el = document.getElementById(\"1002\");\n",
       "    if (el != null) {\n",
       "      el.textContent = \"BokehJS is loading...\";\n",
       "    }\n",
       "    if (root.Bokeh !== undefined) {\n",
       "      if (el != null) {\n",
       "        el.textContent = \"BokehJS \" + root.Bokeh.version + \" successfully loaded.\";\n",
       "      }\n",
       "    } else if (Date.now() < root._bokeh_timeout) {\n",
       "      setTimeout(display_loaded, 100)\n",
       "    }\n",
       "  }\n",
       "\n",
       "\n",
       "  function run_callbacks() {\n",
       "    try {\n",
       "      root._bokeh_onload_callbacks.forEach(function(callback) {\n",
       "        if (callback != null)\n",
       "          callback();\n",
       "      });\n",
       "    } finally {\n",
       "      delete root._bokeh_onload_callbacks\n",
       "    }\n",
       "    console.debug(\"Bokeh: all callbacks have finished\");\n",
       "  }\n",
       "\n",
       "  function load_libs(css_urls, js_urls, callback) {\n",
       "    if (css_urls == null) css_urls = [];\n",
       "    if (js_urls == null) js_urls = [];\n",
       "\n",
       "    root._bokeh_onload_callbacks.push(callback);\n",
       "    if (root._bokeh_is_loading > 0) {\n",
       "      console.debug(\"Bokeh: BokehJS is being loaded, scheduling callback at\", now());\n",
       "      return null;\n",
       "    }\n",
       "    if (js_urls == null || js_urls.length === 0) {\n",
       "      run_callbacks();\n",
       "      return null;\n",
       "    }\n",
       "    console.debug(\"Bokeh: BokehJS not loaded, scheduling load and callback at\", now());\n",
       "    root._bokeh_is_loading = css_urls.length + js_urls.length;\n",
       "\n",
       "    function on_load() {\n",
       "      root._bokeh_is_loading--;\n",
       "      if (root._bokeh_is_loading === 0) {\n",
       "        console.debug(\"Bokeh: all BokehJS libraries/stylesheets loaded\");\n",
       "        run_callbacks()\n",
       "      }\n",
       "    }\n",
       "\n",
       "    function on_error(url) {\n",
       "      console.error(\"failed to load \" + url);\n",
       "    }\n",
       "\n",
       "    for (let i = 0; i < css_urls.length; i++) {\n",
       "      const url = css_urls[i];\n",
       "      const element = document.createElement(\"link\");\n",
       "      element.onload = on_load;\n",
       "      element.onerror = on_error.bind(null, url);\n",
       "      element.rel = \"stylesheet\";\n",
       "      element.type = \"text/css\";\n",
       "      element.href = url;\n",
       "      console.debug(\"Bokeh: injecting link tag for BokehJS stylesheet: \", url);\n",
       "      document.body.appendChild(element);\n",
       "    }\n",
       "\n",
       "    for (let i = 0; i < js_urls.length; i++) {\n",
       "      const url = js_urls[i];\n",
       "      const element = document.createElement('script');\n",
       "      element.onload = on_load;\n",
       "      element.onerror = on_error.bind(null, url);\n",
       "      element.async = false;\n",
       "      element.src = url;\n",
       "      console.debug(\"Bokeh: injecting script tag for BokehJS library: \", url);\n",
       "      document.head.appendChild(element);\n",
       "    }\n",
       "  };\n",
       "\n",
       "  function inject_raw_css(css) {\n",
       "    const element = document.createElement(\"style\");\n",
       "    element.appendChild(document.createTextNode(css));\n",
       "    document.body.appendChild(element);\n",
       "  }\n",
       "\n",
       "  \n",
       "  const js_urls = [\"https://cdn.bokeh.org/bokeh/release/bokeh-2.4.2.min.js\", \"https://cdn.bokeh.org/bokeh/release/bokeh-gl-2.4.2.min.js\", \"https://cdn.bokeh.org/bokeh/release/bokeh-widgets-2.4.2.min.js\", \"https://cdn.bokeh.org/bokeh/release/bokeh-tables-2.4.2.min.js\", \"https://cdn.bokeh.org/bokeh/release/bokeh-mathjax-2.4.2.min.js\"];\n",
       "  const css_urls = [];\n",
       "  \n",
       "\n",
       "  const inline_js = [\n",
       "    function(Bokeh) {\n",
       "      Bokeh.set_log_level(\"info\");\n",
       "    },\n",
       "    function(Bokeh) {\n",
       "    \n",
       "    \n",
       "    }\n",
       "  ];\n",
       "\n",
       "  function run_inline_js() {\n",
       "    \n",
       "    if (root.Bokeh !== undefined || force === true) {\n",
       "      \n",
       "    for (let i = 0; i < inline_js.length; i++) {\n",
       "      inline_js[i].call(root, root.Bokeh);\n",
       "    }\n",
       "    if (force === true) {\n",
       "        display_loaded();\n",
       "      }} else if (Date.now() < root._bokeh_timeout) {\n",
       "      setTimeout(run_inline_js, 100);\n",
       "    } else if (!root._bokeh_failed_load) {\n",
       "      console.log(\"Bokeh: BokehJS failed to load within specified timeout.\");\n",
       "      root._bokeh_failed_load = true;\n",
       "    } else if (force !== true) {\n",
       "      const cell = $(document.getElementById(\"1002\")).parents('.cell').data().cell;\n",
       "      cell.output_area.append_execute_result(NB_LOAD_WARNING)\n",
       "    }\n",
       "\n",
       "  }\n",
       "\n",
       "  if (root._bokeh_is_loading === 0) {\n",
       "    console.debug(\"Bokeh: BokehJS loaded, going straight to plotting\");\n",
       "    run_inline_js();\n",
       "  } else {\n",
       "    load_libs(css_urls, js_urls, function() {\n",
       "      console.debug(\"Bokeh: BokehJS plotting callback run at\", now());\n",
       "      run_inline_js();\n",
       "    });\n",
       "  }\n",
       "}(window));"
      ],
      "application/vnd.bokehjs_load.v0+json": "\n(function(root) {\n  function now() {\n    return new Date();\n  }\n\n  const force = true;\n\n  if (typeof root._bokeh_onload_callbacks === \"undefined\" || force === true) {\n    root._bokeh_onload_callbacks = [];\n    root._bokeh_is_loading = undefined;\n  }\n\n  \n\n  \n  if (typeof (root._bokeh_timeout) === \"undefined\" || force === true) {\n    root._bokeh_timeout = Date.now() + 5000;\n    root._bokeh_failed_load = false;\n  }\n\n  const NB_LOAD_WARNING = {'data': {'text/html':\n     \"<div style='background-color: #fdd'>\\n\"+\n     \"<p>\\n\"+\n     \"BokehJS does not appear to have successfully loaded. If loading BokehJS from CDN, this \\n\"+\n     \"may be due to a slow or bad network connection. Possible fixes:\\n\"+\n     \"</p>\\n\"+\n     \"<ul>\\n\"+\n     \"<li>re-rerun `output_notebook()` to attempt to load from CDN again, or</li>\\n\"+\n     \"<li>use INLINE resources instead, as so:</li>\\n\"+\n     \"</ul>\\n\"+\n     \"<code>\\n\"+\n     \"from bokeh.resources import INLINE\\n\"+\n     \"output_notebook(resources=INLINE)\\n\"+\n     \"</code>\\n\"+\n     \"</div>\"}};\n\n  function display_loaded() {\n    const el = document.getElementById(\"1002\");\n    if (el != null) {\n      el.textContent = \"BokehJS is loading...\";\n    }\n    if (root.Bokeh !== undefined) {\n      if (el != null) {\n        el.textContent = \"BokehJS \" + root.Bokeh.version + \" successfully loaded.\";\n      }\n    } else if (Date.now() < root._bokeh_timeout) {\n      setTimeout(display_loaded, 100)\n    }\n  }\n\n\n  function run_callbacks() {\n    try {\n      root._bokeh_onload_callbacks.forEach(function(callback) {\n        if (callback != null)\n          callback();\n      });\n    } finally {\n      delete root._bokeh_onload_callbacks\n    }\n    console.debug(\"Bokeh: all callbacks have finished\");\n  }\n\n  function load_libs(css_urls, js_urls, callback) {\n    if (css_urls == null) css_urls = [];\n    if (js_urls == null) js_urls = [];\n\n    root._bokeh_onload_callbacks.push(callback);\n    if (root._bokeh_is_loading > 0) {\n      console.debug(\"Bokeh: BokehJS is being loaded, scheduling callback at\", now());\n      return null;\n    }\n    if (js_urls == null || js_urls.length === 0) {\n      run_callbacks();\n      return null;\n    }\n    console.debug(\"Bokeh: BokehJS not loaded, scheduling load and callback at\", now());\n    root._bokeh_is_loading = css_urls.length + js_urls.length;\n\n    function on_load() {\n      root._bokeh_is_loading--;\n      if (root._bokeh_is_loading === 0) {\n        console.debug(\"Bokeh: all BokehJS libraries/stylesheets loaded\");\n        run_callbacks()\n      }\n    }\n\n    function on_error(url) {\n      console.error(\"failed to load \" + url);\n    }\n\n    for (let i = 0; i < css_urls.length; i++) {\n      const url = css_urls[i];\n      const element = document.createElement(\"link\");\n      element.onload = on_load;\n      element.onerror = on_error.bind(null, url);\n      element.rel = \"stylesheet\";\n      element.type = \"text/css\";\n      element.href = url;\n      console.debug(\"Bokeh: injecting link tag for BokehJS stylesheet: \", url);\n      document.body.appendChild(element);\n    }\n\n    for (let i = 0; i < js_urls.length; i++) {\n      const url = js_urls[i];\n      const element = document.createElement('script');\n      element.onload = on_load;\n      element.onerror = on_error.bind(null, url);\n      element.async = false;\n      element.src = url;\n      console.debug(\"Bokeh: injecting script tag for BokehJS library: \", url);\n      document.head.appendChild(element);\n    }\n  };\n\n  function inject_raw_css(css) {\n    const element = document.createElement(\"style\");\n    element.appendChild(document.createTextNode(css));\n    document.body.appendChild(element);\n  }\n\n  \n  const js_urls = [\"https://cdn.bokeh.org/bokeh/release/bokeh-2.4.2.min.js\", \"https://cdn.bokeh.org/bokeh/release/bokeh-gl-2.4.2.min.js\", \"https://cdn.bokeh.org/bokeh/release/bokeh-widgets-2.4.2.min.js\", \"https://cdn.bokeh.org/bokeh/release/bokeh-tables-2.4.2.min.js\", \"https://cdn.bokeh.org/bokeh/release/bokeh-mathjax-2.4.2.min.js\"];\n  const css_urls = [];\n  \n\n  const inline_js = [\n    function(Bokeh) {\n      Bokeh.set_log_level(\"info\");\n    },\n    function(Bokeh) {\n    \n    \n    }\n  ];\n\n  function run_inline_js() {\n    \n    if (root.Bokeh !== undefined || force === true) {\n      \n    for (let i = 0; i < inline_js.length; i++) {\n      inline_js[i].call(root, root.Bokeh);\n    }\n    if (force === true) {\n        display_loaded();\n      }} else if (Date.now() < root._bokeh_timeout) {\n      setTimeout(run_inline_js, 100);\n    } else if (!root._bokeh_failed_load) {\n      console.log(\"Bokeh: BokehJS failed to load within specified timeout.\");\n      root._bokeh_failed_load = true;\n    } else if (force !== true) {\n      const cell = $(document.getElementById(\"1002\")).parents('.cell').data().cell;\n      cell.output_area.append_execute_result(NB_LOAD_WARNING)\n    }\n\n  }\n\n  if (root._bokeh_is_loading === 0) {\n    console.debug(\"Bokeh: BokehJS loaded, going straight to plotting\");\n    run_inline_js();\n  } else {\n    load_libs(css_urls, js_urls, function() {\n      console.debug(\"Bokeh: BokehJS plotting callback run at\", now());\n      run_inline_js();\n    });\n  }\n}(window));"
     },
     "metadata": {},
     "output_type": "display_data"
    }
   ],
   "source": [
    "import bokeh.models as bm, bokeh.plotting as pl\n",
    "from bokeh.io import output_notebook\n",
    "output_notebook()\n",
    "\n",
    "def draw_vectors(x, y, radius=10, alpha=0.25, color='blue',\n",
    "                 width=600, height=400, show=True, **kwargs):\n",
    "    \"\"\" draws an interactive plot for data points with auxilirary info on hover \"\"\"\n",
    "    data_source = bm.ColumnDataSource({ 'x' : x, 'y' : y, 'color': color, **kwargs })\n",
    "\n",
    "    fig = pl.figure(active_scroll='wheel_zoom', width=width, height=height)\n",
    "    fig.scatter('x', 'y', size=radius, color='color', alpha=alpha, source=data_source)\n",
    "\n",
    "    fig.add_tools(bm.HoverTool(tooltips=[(key, \"@\" + key) for key in kwargs.keys()]))\n",
    "    if show: pl.show(fig)\n",
    "    return fig"
   ]
  },
  {
   "cell_type": "code",
   "execution_count": 17,
   "metadata": {
    "id": "7OONK8ldtIWe"
   },
   "outputs": [
    {
     "data": {
      "text/html": [
       "\n",
       "\n",
       "\n",
       "\n",
       "\n",
       "\n",
       "  <div class=\"bk-root\" id=\"ad936f29-ae8e-4e03-8bfb-c167fa29f7a2\" data-root-id=\"1004\"></div>\n"
      ]
     },
     "metadata": {},
     "output_type": "display_data"
    },
    {
     "data": {
      "application/javascript": [
       "(function(root) {\n",
       "  function embed_document(root) {\n",
       "    \n",
       "  const docs_json = {\"061d1077-4b83-48eb-b081-7c05b05634eb\":{\"defs\":[],\"roots\":{\"references\":[{\"attributes\":{\"below\":[{\"id\":\"1013\"}],\"center\":[{\"id\":\"1016\"},{\"id\":\"1020\"}],\"height\":400,\"left\":[{\"id\":\"1017\"}],\"renderers\":[{\"id\":\"1039\"}],\"title\":{\"id\":\"1043\"},\"toolbar\":{\"id\":\"1028\"},\"x_range\":{\"id\":\"1005\"},\"x_scale\":{\"id\":\"1009\"},\"y_range\":{\"id\":\"1007\"},\"y_scale\":{\"id\":\"1011\"}},\"id\":\"1004\",\"subtype\":\"Figure\",\"type\":\"Plot\"},{\"attributes\":{\"overlay\":{\"id\":\"1027\"}},\"id\":\"1023\",\"type\":\"BoxZoomTool\"},{\"attributes\":{\"fill_alpha\":{\"value\":0.25},\"fill_color\":{\"field\":\"color\"},\"hatch_alpha\":{\"value\":0.25},\"hatch_color\":{\"field\":\"color\"},\"line_alpha\":{\"value\":0.25},\"line_color\":{\"field\":\"color\"},\"size\":{\"value\":10},\"x\":{\"field\":\"x\"},\"y\":{\"field\":\"y\"}},\"id\":\"1036\",\"type\":\"Scatter\"},{\"attributes\":{},\"id\":\"1021\",\"type\":\"PanTool\"},{\"attributes\":{\"coordinates\":null,\"group\":null},\"id\":\"1043\",\"type\":\"Title\"},{\"attributes\":{},\"id\":\"1026\",\"type\":\"HelpTool\"},{\"attributes\":{},\"id\":\"1052\",\"type\":\"Selection\"},{\"attributes\":{\"callback\":null,\"tooltips\":[]},\"id\":\"1041\",\"type\":\"HoverTool\"},{\"attributes\":{},\"id\":\"1022\",\"type\":\"WheelZoomTool\"},{\"attributes\":{\"data\":{\"color\":[\"red\",\"red\",\"red\",\"blue\",\"red\",\"blue\",\"blue\",\"blue\",\"blue\",\"blue\",\"blue\",\"blue\",\"blue\",\"red\",\"red\",\"blue\",\"blue\",\"blue\",\"red\",\"blue\",\"blue\",\"blue\",\"blue\",\"red\",\"blue\",\"blue\",\"red\",\"red\",\"blue\",\"red\",\"blue\",\"red\",\"red\",\"blue\",\"red\",\"red\",\"blue\",\"red\",\"blue\",\"blue\",\"red\",\"blue\",\"blue\",\"blue\",\"red\",\"red\",\"red\",\"red\",\"blue\",\"red\",\"blue\",\"blue\",\"blue\",\"red\",\"blue\",\"red\",\"blue\",\"blue\",\"red\",\"red\",\"red\",\"blue\",\"blue\",\"red\",\"red\",\"blue\",\"blue\",\"red\",\"blue\",\"blue\",\"blue\",\"blue\",\"red\",\"red\",\"red\",\"red\",\"red\",\"blue\",\"red\",\"red\",\"blue\",\"blue\",\"red\",\"red\",\"blue\",\"red\",\"red\",\"red\",\"blue\",\"red\",\"red\",\"red\",\"red\",\"blue\",\"blue\",\"red\",\"red\",\"blue\",\"red\",\"red\",\"blue\",\"red\",\"blue\",\"red\",\"red\",\"red\",\"red\",\"blue\",\"red\",\"blue\",\"blue\",\"blue\",\"blue\",\"red\",\"red\",\"blue\",\"blue\",\"blue\",\"red\",\"blue\",\"red\",\"red\",\"red\",\"red\",\"blue\",\"blue\",\"red\",\"blue\",\"red\",\"blue\",\"blue\",\"blue\",\"red\",\"blue\",\"red\",\"blue\",\"red\",\"red\",\"blue\",\"red\",\"red\",\"blue\",\"red\",\"red\",\"blue\",\"red\",\"red\",\"blue\",\"blue\",\"blue\",\"blue\",\"red\",\"red\",\"red\",\"blue\",\"red\",\"red\",\"red\",\"blue\",\"red\",\"red\",\"red\",\"red\",\"red\",\"red\",\"blue\",\"blue\",\"red\",\"blue\",\"blue\",\"red\",\"red\",\"red\",\"blue\",\"red\",\"red\",\"blue\",\"red\",\"blue\",\"blue\",\"red\",\"blue\",\"red\",\"red\",\"blue\",\"blue\",\"blue\",\"blue\",\"blue\",\"red\",\"red\",\"red\",\"blue\",\"blue\",\"blue\",\"red\",\"red\",\"blue\",\"blue\",\"blue\",\"blue\",\"blue\",\"blue\",\"red\",\"red\",\"red\",\"red\",\"red\",\"red\",\"red\",\"red\",\"red\",\"blue\",\"blue\",\"blue\",\"red\",\"blue\",\"red\",\"blue\",\"blue\",\"red\",\"blue\",\"red\",\"blue\",\"blue\",\"red\",\"blue\",\"blue\",\"blue\",\"blue\",\"red\",\"blue\",\"red\",\"red\",\"red\",\"blue\",\"red\",\"blue\",\"red\",\"red\",\"red\",\"blue\",\"red\",\"blue\",\"red\",\"blue\",\"red\",\"blue\",\"red\",\"blue\",\"blue\",\"blue\",\"blue\",\"blue\",\"blue\",\"blue\",\"red\",\"red\",\"red\",\"red\",\"blue\",\"red\",\"red\",\"blue\",\"blue\",\"blue\",\"red\",\"red\",\"red\",\"red\",\"blue\",\"blue\",\"blue\",\"blue\",\"blue\",\"blue\",\"blue\",\"red\",\"blue\",\"red\",\"red\",\"red\",\"blue\",\"red\",\"red\",\"blue\",\"blue\",\"red\",\"blue\",\"blue\",\"red\",\"red\",\"blue\",\"red\",\"red\",\"blue\",\"blue\",\"red\",\"blue\",\"red\",\"red\",\"blue\",\"red\",\"red\",\"blue\",\"red\",\"blue\",\"blue\",\"red\",\"red\",\"blue\",\"blue\",\"blue\",\"red\",\"blue\",\"blue\",\"red\",\"red\",\"red\",\"blue\",\"blue\",\"red\",\"blue\",\"red\",\"red\",\"red\",\"red\",\"red\",\"blue\",\"blue\",\"red\",\"red\",\"red\",\"red\",\"red\",\"blue\",\"red\",\"red\",\"red\",\"blue\",\"blue\",\"blue\",\"blue\",\"blue\",\"red\",\"blue\",\"blue\",\"red\",\"red\",\"blue\",\"blue\",\"blue\",\"blue\",\"red\",\"blue\",\"blue\",\"blue\",\"blue\",\"red\",\"blue\",\"red\",\"blue\",\"red\",\"red\",\"blue\",\"blue\",\"blue\",\"red\",\"red\",\"blue\",\"red\",\"red\",\"red\",\"blue\",\"red\",\"blue\",\"blue\",\"blue\",\"red\",\"red\",\"red\",\"blue\",\"blue\",\"red\",\"blue\",\"blue\",\"red\",\"blue\",\"blue\",\"red\",\"blue\",\"blue\",\"red\",\"blue\",\"red\",\"red\",\"blue\",\"blue\",\"blue\",\"red\",\"blue\",\"blue\",\"blue\",\"red\",\"red\",\"blue\",\"blue\",\"blue\",\"red\",\"blue\",\"blue\",\"blue\",\"red\",\"blue\",\"blue\",\"blue\",\"blue\",\"red\",\"blue\",\"blue\",\"red\",\"red\",\"red\",\"blue\",\"blue\",\"blue\",\"red\",\"red\",\"blue\",\"blue\",\"blue\",\"red\",\"blue\",\"blue\",\"blue\",\"blue\",\"blue\",\"red\",\"red\",\"blue\",\"blue\",\"blue\",\"red\",\"red\",\"blue\",\"red\",\"red\",\"red\",\"blue\",\"red\",\"red\",\"blue\",\"red\",\"blue\",\"blue\",\"red\",\"blue\",\"blue\",\"red\",\"red\",\"blue\",\"blue\",\"blue\",\"blue\",\"red\",\"red\",\"red\",\"red\",\"blue\",\"blue\",\"blue\",\"red\",\"blue\",\"blue\",\"red\",\"blue\",\"red\",\"red\",\"blue\",\"red\",\"blue\",\"red\",\"red\",\"blue\",\"red\",\"blue\",\"blue\",\"blue\",\"red\",\"blue\",\"red\",\"blue\",\"blue\",\"blue\",\"blue\",\"blue\",\"red\",\"blue\",\"blue\",\"red\",\"blue\",\"red\",\"blue\",\"red\",\"blue\",\"red\",\"red\",\"red\",\"red\",\"red\",\"red\",\"blue\",\"blue\",\"blue\",\"red\",\"blue\",\"red\",\"red\",\"blue\",\"red\",\"red\",\"red\",\"red\",\"red\",\"red\",\"blue\",\"blue\",\"blue\",\"red\",\"blue\",\"red\",\"blue\",\"blue\",\"red\",\"red\",\"red\",\"blue\",\"red\",\"blue\",\"blue\",\"blue\",\"red\",\"blue\",\"blue\",\"red\",\"blue\",\"blue\",\"blue\",\"blue\",\"blue\",\"blue\",\"red\",\"red\",\"red\",\"blue\",\"blue\",\"red\",\"blue\",\"blue\",\"blue\",\"red\",\"blue\",\"red\",\"blue\",\"blue\",\"red\",\"red\",\"blue\",\"red\",\"red\",\"red\",\"blue\",\"red\",\"red\",\"blue\",\"red\",\"red\",\"blue\",\"blue\",\"blue\",\"red\",\"red\",\"red\",\"blue\",\"blue\",\"blue\",\"red\",\"red\",\"red\",\"red\",\"blue\",\"blue\",\"red\",\"red\",\"red\",\"red\",\"red\",\"red\",\"blue\",\"blue\",\"red\",\"red\",\"red\",\"blue\",\"red\",\"red\",\"red\",\"blue\",\"red\",\"red\",\"blue\",\"red\",\"red\",\"blue\",\"blue\",\"blue\",\"red\",\"blue\",\"blue\",\"blue\",\"red\",\"red\",\"red\",\"blue\",\"blue\",\"red\",\"red\",\"blue\",\"red\",\"blue\",\"blue\",\"blue\",\"red\",\"red\",\"blue\",\"red\",\"red\",\"blue\",\"red\",\"blue\",\"blue\",\"red\",\"red\",\"red\",\"red\",\"red\",\"red\",\"red\",\"red\",\"red\",\"blue\",\"blue\",\"blue\",\"red\",\"red\",\"blue\",\"blue\",\"blue\",\"red\",\"blue\",\"blue\",\"blue\",\"blue\",\"red\",\"blue\",\"red\",\"blue\",\"red\",\"red\",\"red\",\"blue\",\"red\",\"red\",\"red\",\"blue\",\"red\",\"blue\",\"blue\",\"blue\",\"red\",\"red\",\"red\",\"blue\",\"blue\",\"blue\",\"red\",\"red\",\"red\",\"blue\",\"red\",\"red\",\"red\",\"blue\",\"red\",\"blue\",\"red\",\"red\",\"blue\",\"red\",\"blue\",\"blue\",\"red\",\"red\",\"blue\",\"blue\",\"blue\",\"blue\",\"red\",\"blue\",\"blue\",\"red\",\"red\",\"red\",\"red\",\"blue\",\"blue\",\"red\",\"red\",\"red\",\"red\",\"red\",\"blue\",\"blue\",\"red\",\"red\",\"red\",\"blue\",\"blue\",\"blue\",\"blue\",\"blue\",\"red\",\"red\",\"red\",\"blue\",\"blue\",\"red\",\"red\",\"red\",\"red\",\"red\",\"blue\",\"blue\",\"blue\",\"red\",\"red\",\"red\",\"red\",\"red\",\"blue\",\"red\",\"red\",\"red\",\"blue\",\"red\",\"red\",\"red\",\"red\",\"red\",\"red\",\"red\",\"red\",\"red\",\"blue\",\"blue\",\"blue\",\"blue\",\"blue\",\"red\",\"blue\",\"blue\",\"red\",\"blue\",\"red\",\"red\",\"blue\",\"red\",\"red\",\"blue\",\"red\",\"blue\",\"red\",\"red\",\"red\",\"blue\",\"red\",\"blue\",\"blue\",\"blue\",\"red\",\"blue\",\"blue\",\"red\",\"blue\",\"blue\",\"blue\",\"blue\",\"red\",\"blue\",\"red\",\"red\",\"red\",\"red\",\"blue\",\"blue\",\"red\",\"red\",\"blue\",\"red\",\"red\",\"blue\",\"red\",\"blue\",\"red\",\"blue\",\"blue\",\"red\",\"blue\",\"blue\",\"blue\",\"red\",\"blue\",\"red\",\"blue\",\"blue\",\"red\",\"red\",\"red\",\"blue\",\"blue\",\"blue\",\"red\",\"blue\",\"red\",\"blue\",\"blue\",\"red\",\"blue\",\"blue\",\"blue\",\"red\",\"red\",\"red\",\"blue\",\"red\",\"red\",\"red\",\"blue\",\"red\",\"red\",\"blue\",\"red\",\"blue\",\"blue\",\"blue\",\"red\",\"blue\",\"blue\",\"red\",\"red\",\"red\",\"blue\",\"blue\",\"blue\",\"red\",\"blue\",\"red\",\"blue\",\"red\",\"red\",\"blue\",\"red\",\"red\",\"red\",\"blue\",\"blue\",\"blue\",\"red\",\"red\",\"red\",\"red\",\"red\",\"red\",\"blue\",\"red\",\"red\",\"blue\",\"red\",\"red\",\"blue\",\"red\",\"blue\",\"blue\",\"blue\",\"blue\",\"red\",\"blue\",\"blue\",\"blue\",\"blue\",\"red\",\"red\",\"blue\",\"blue\",\"red\",\"red\",\"red\",\"blue\",\"red\",\"red\",\"blue\",\"blue\",\"red\",\"red\",\"blue\",\"red\",\"red\",\"blue\",\"red\",\"red\",\"red\",\"blue\",\"blue\",\"red\",\"red\",\"red\",\"blue\",\"red\",\"blue\",\"red\",\"blue\",\"red\",\"blue\",\"red\",\"blue\",\"red\",\"red\",\"blue\",\"blue\",\"blue\",\"red\",\"red\",\"red\",\"red\",\"red\",\"red\",\"blue\",\"red\",\"blue\",\"red\",\"blue\",\"red\",\"blue\",\"blue\",\"blue\",\"red\",\"blue\",\"blue\",\"red\",\"blue\",\"blue\",\"blue\",\"red\",\"red\",\"red\",\"blue\",\"blue\",\"blue\",\"red\",\"red\",\"blue\",\"red\",\"red\",\"red\",\"red\",\"blue\",\"red\",\"red\",\"red\",\"red\",\"blue\",\"blue\",\"blue\",\"red\",\"blue\",\"red\",\"red\",\"blue\",\"red\",\"blue\",\"blue\",\"red\",\"red\",\"red\",\"blue\",\"blue\",\"blue\",\"blue\",\"red\",\"red\",\"blue\",\"blue\",\"red\",\"blue\",\"blue\",\"blue\",\"blue\",\"red\",\"blue\",\"red\",\"red\",\"blue\",\"blue\",\"blue\",\"blue\",\"blue\",\"red\",\"red\",\"red\",\"red\",\"blue\",\"red\",\"blue\",\"red\",\"blue\",\"red\",\"blue\",\"red\",\"blue\",\"red\",\"blue\",\"blue\",\"red\",\"blue\",\"red\",\"blue\",\"red\",\"blue\",\"blue\",\"blue\",\"red\",\"red\",\"blue\",\"red\",\"red\",\"blue\",\"blue\",\"blue\",\"red\",\"blue\",\"blue\",\"red\",\"red\",\"red\",\"blue\",\"red\",\"blue\",\"blue\",\"red\",\"red\",\"red\",\"blue\",\"red\",\"blue\",\"blue\",\"blue\",\"red\",\"blue\",\"red\",\"red\",\"red\",\"red\",\"red\",\"red\",\"blue\",\"red\",\"blue\",\"blue\",\"blue\",\"red\",\"blue\",\"red\",\"red\",\"blue\",\"blue\",\"red\",\"red\",\"blue\",\"red\",\"blue\",\"red\",\"red\",\"blue\",\"red\",\"red\",\"blue\",\"red\",\"red\",\"red\",\"blue\",\"blue\",\"blue\",\"red\",\"blue\",\"blue\",\"blue\",\"red\",\"blue\",\"red\",\"red\",\"blue\",\"red\",\"blue\",\"blue\",\"red\",\"blue\",\"red\",\"blue\",\"blue\",\"red\",\"blue\",\"blue\",\"red\",\"blue\",\"blue\",\"blue\",\"red\",\"red\",\"blue\",\"blue\",\"red\",\"blue\",\"red\",\"red\",\"red\",\"blue\",\"blue\",\"blue\",\"red\",\"blue\",\"blue\",\"blue\",\"red\",\"blue\",\"blue\",\"blue\",\"blue\",\"blue\",\"red\",\"blue\",\"blue\",\"red\",\"red\",\"blue\",\"red\",\"red\",\"red\",\"blue\",\"blue\",\"blue\",\"red\",\"blue\",\"blue\",\"blue\",\"red\",\"red\",\"red\",\"red\",\"red\",\"blue\",\"blue\",\"red\",\"blue\",\"red\",\"blue\",\"blue\",\"blue\",\"red\",\"red\",\"red\",\"blue\",\"blue\",\"red\",\"red\",\"blue\",\"red\",\"blue\",\"blue\",\"red\",\"blue\",\"blue\",\"red\",\"red\",\"red\",\"red\",\"red\",\"red\",\"blue\",\"red\",\"red\",\"blue\",\"blue\",\"red\",\"blue\",\"blue\",\"blue\",\"red\",\"blue\",\"blue\",\"blue\",\"blue\",\"blue\",\"red\",\"red\",\"red\",\"red\",\"red\",\"red\",\"blue\",\"blue\",\"red\",\"red\",\"red\",\"blue\",\"red\",\"blue\",\"blue\",\"red\",\"blue\",\"blue\",\"red\",\"blue\",\"red\",\"red\",\"blue\",\"red\",\"red\",\"blue\",\"blue\",\"blue\",\"red\",\"red\",\"red\",\"blue\",\"blue\",\"red\",\"blue\",\"blue\",\"blue\",\"red\",\"red\",\"red\",\"blue\",\"red\",\"red\",\"red\",\"blue\",\"blue\",\"red\",\"blue\",\"blue\",\"blue\",\"blue\",\"blue\",\"blue\",\"blue\",\"blue\",\"blue\",\"red\",\"blue\",\"red\",\"red\",\"blue\",\"blue\",\"red\",\"red\",\"blue\",\"blue\",\"blue\",\"red\"],\"x\":{\"__ndarray__\":\"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\",\"dtype\":\"float32\",\"order\":\"little\",\"shape\":[1280]},\"y\":{\"__ndarray__\":\"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\",\"dtype\":\"float32\",\"order\":\"little\",\"shape\":[1280]}},\"selected\":{\"id\":\"1052\"},\"selection_policy\":{\"id\":\"1051\"}},\"id\":\"1003\",\"type\":\"ColumnDataSource\"},{\"attributes\":{},\"id\":\"1024\",\"type\":\"SaveTool\"},{\"attributes\":{},\"id\":\"1046\",\"type\":\"BasicTickFormatter\"},{\"attributes\":{\"coordinates\":null,\"data_source\":{\"id\":\"1003\"},\"glyph\":{\"id\":\"1036\"},\"group\":null,\"hover_glyph\":null,\"muted_glyph\":{\"id\":\"1038\"},\"nonselection_glyph\":{\"id\":\"1037\"},\"view\":{\"id\":\"1040\"}},\"id\":\"1039\",\"type\":\"GlyphRenderer\"},{\"attributes\":{},\"id\":\"1009\",\"type\":\"LinearScale\"},{\"attributes\":{\"active_scroll\":{\"id\":\"1022\"},\"tools\":[{\"id\":\"1021\"},{\"id\":\"1022\"},{\"id\":\"1023\"},{\"id\":\"1024\"},{\"id\":\"1025\"},{\"id\":\"1026\"},{\"id\":\"1041\"}]},\"id\":\"1028\",\"type\":\"Toolbar\"},{\"attributes\":{},\"id\":\"1014\",\"type\":\"BasicTicker\"},{\"attributes\":{\"axis\":{\"id\":\"1013\"},\"coordinates\":null,\"group\":null,\"ticker\":null},\"id\":\"1016\",\"type\":\"Grid\"},{\"attributes\":{},\"id\":\"1007\",\"type\":\"DataRange1d\"},{\"attributes\":{\"coordinates\":null,\"formatter\":{\"id\":\"1046\"},\"group\":null,\"major_label_policy\":{\"id\":\"1047\"},\"ticker\":{\"id\":\"1018\"}},\"id\":\"1017\",\"type\":\"LinearAxis\"},{\"attributes\":{},\"id\":\"1011\",\"type\":\"LinearScale\"},{\"attributes\":{},\"id\":\"1005\",\"type\":\"DataRange1d\"},{\"attributes\":{\"fill_alpha\":{\"value\":0.1},\"fill_color\":{\"field\":\"color\"},\"hatch_alpha\":{\"value\":0.1},\"hatch_color\":{\"field\":\"color\"},\"line_alpha\":{\"value\":0.1},\"line_color\":{\"field\":\"color\"},\"size\":{\"value\":10},\"x\":{\"field\":\"x\"},\"y\":{\"field\":\"y\"}},\"id\":\"1037\",\"type\":\"Scatter\"},{\"attributes\":{},\"id\":\"1047\",\"type\":\"AllLabels\"},{\"attributes\":{},\"id\":\"1018\",\"type\":\"BasicTicker\"},{\"attributes\":{\"axis\":{\"id\":\"1017\"},\"coordinates\":null,\"dimension\":1,\"group\":null,\"ticker\":null},\"id\":\"1020\",\"type\":\"Grid\"},{\"attributes\":{},\"id\":\"1049\",\"type\":\"BasicTickFormatter\"},{\"attributes\":{\"source\":{\"id\":\"1003\"}},\"id\":\"1040\",\"type\":\"CDSView\"},{\"attributes\":{},\"id\":\"1050\",\"type\":\"AllLabels\"},{\"attributes\":{\"coordinates\":null,\"formatter\":{\"id\":\"1049\"},\"group\":null,\"major_label_policy\":{\"id\":\"1050\"},\"ticker\":{\"id\":\"1014\"}},\"id\":\"1013\",\"type\":\"LinearAxis\"},{\"attributes\":{},\"id\":\"1025\",\"type\":\"ResetTool\"},{\"attributes\":{\"bottom_units\":\"screen\",\"coordinates\":null,\"fill_alpha\":0.5,\"fill_color\":\"lightgrey\",\"group\":null,\"left_units\":\"screen\",\"level\":\"overlay\",\"line_alpha\":1.0,\"line_color\":\"black\",\"line_dash\":[4,4],\"line_width\":2,\"right_units\":\"screen\",\"syncable\":false,\"top_units\":\"screen\"},\"id\":\"1027\",\"type\":\"BoxAnnotation\"},{\"attributes\":{\"fill_alpha\":{\"value\":0.2},\"fill_color\":{\"field\":\"color\"},\"hatch_alpha\":{\"value\":0.2},\"hatch_color\":{\"field\":\"color\"},\"line_alpha\":{\"value\":0.2},\"line_color\":{\"field\":\"color\"},\"size\":{\"value\":10},\"x\":{\"field\":\"x\"},\"y\":{\"field\":\"y\"}},\"id\":\"1038\",\"type\":\"Scatter\"},{\"attributes\":{},\"id\":\"1051\",\"type\":\"UnionRenderers\"}],\"root_ids\":[\"1004\"]},\"title\":\"Bokeh Application\",\"version\":\"2.4.2\"}};\n",
       "  const render_items = [{\"docid\":\"061d1077-4b83-48eb-b081-7c05b05634eb\",\"root_ids\":[\"1004\"],\"roots\":{\"1004\":\"ad936f29-ae8e-4e03-8bfb-c167fa29f7a2\"}}];\n",
       "  root.Bokeh.embed.embed_items_notebook(docs_json, render_items);\n",
       "\n",
       "  }\n",
       "  if (root.Bokeh !== undefined) {\n",
       "    embed_document(root);\n",
       "  } else {\n",
       "    let attempts = 0;\n",
       "    const timer = setInterval(function(root) {\n",
       "      if (root.Bokeh !== undefined) {\n",
       "        clearInterval(timer);\n",
       "        embed_document(root);\n",
       "      } else {\n",
       "        attempts++;\n",
       "        if (attempts > 100) {\n",
       "          clearInterval(timer);\n",
       "          console.log(\"Bokeh: ERROR: Unable to run BokehJS code because BokehJS library is missing\");\n",
       "        }\n",
       "      }\n",
       "    }, 10, root)\n",
       "  }\n",
       "})(window);"
      ],
      "application/vnd.bokehjs_exec.v0+json": ""
     },
     "metadata": {
      "application/vnd.bokehjs_exec.v0+json": {
       "id": "1004"
      }
     },
     "output_type": "display_data"
    },
    {
     "data": {
      "text/html": [
       "<div style=\"display: table;\"><div style=\"display: table-row;\"><div style=\"display: table-cell;\"><b title=\"bokeh.plotting.figure.Figure\">Figure</b>(</div><div style=\"display: table-cell;\">id&nbsp;=&nbsp;'1004', <span id=\"1110\" style=\"cursor: pointer;\">&hellip;)</span></div></div><div class=\"1109\" style=\"display: none;\"><div style=\"display: table-cell;\"></div><div style=\"display: table-cell;\">above&nbsp;=&nbsp;[],</div></div><div class=\"1109\" style=\"display: none;\"><div style=\"display: table-cell;\"></div><div style=\"display: table-cell;\">align&nbsp;=&nbsp;'start',</div></div><div class=\"1109\" style=\"display: none;\"><div style=\"display: table-cell;\"></div><div style=\"display: table-cell;\">aspect_ratio&nbsp;=&nbsp;None,</div></div><div class=\"1109\" style=\"display: none;\"><div style=\"display: table-cell;\"></div><div style=\"display: table-cell;\">aspect_scale&nbsp;=&nbsp;1,</div></div><div class=\"1109\" style=\"display: none;\"><div style=\"display: table-cell;\"></div><div style=\"display: table-cell;\">background&nbsp;=&nbsp;None,</div></div><div class=\"1109\" style=\"display: none;\"><div style=\"display: table-cell;\"></div><div style=\"display: table-cell;\">background_fill_alpha&nbsp;=&nbsp;1.0,</div></div><div class=\"1109\" style=\"display: none;\"><div style=\"display: table-cell;\"></div><div style=\"display: table-cell;\">background_fill_color&nbsp;=&nbsp;'#ffffff',</div></div><div class=\"1109\" style=\"display: none;\"><div style=\"display: table-cell;\"></div><div style=\"display: table-cell;\">below&nbsp;=&nbsp;[LinearAxis(id='1013', ...)],</div></div><div class=\"1109\" style=\"display: none;\"><div style=\"display: table-cell;\"></div><div style=\"display: table-cell;\">border_fill_alpha&nbsp;=&nbsp;1.0,</div></div><div class=\"1109\" style=\"display: none;\"><div style=\"display: table-cell;\"></div><div style=\"display: table-cell;\">border_fill_color&nbsp;=&nbsp;'#ffffff',</div></div><div class=\"1109\" style=\"display: none;\"><div style=\"display: table-cell;\"></div><div style=\"display: table-cell;\">center&nbsp;=&nbsp;[Grid(id='1016', ...), Grid(id='1020', ...)],</div></div><div class=\"1109\" style=\"display: none;\"><div style=\"display: table-cell;\"></div><div style=\"display: table-cell;\">css_classes&nbsp;=&nbsp;[],</div></div><div class=\"1109\" style=\"display: none;\"><div style=\"display: table-cell;\"></div><div style=\"display: table-cell;\">disabled&nbsp;=&nbsp;False,</div></div><div class=\"1109\" style=\"display: none;\"><div style=\"display: table-cell;\"></div><div style=\"display: table-cell;\">extra_x_ranges&nbsp;=&nbsp;{},</div></div><div class=\"1109\" style=\"display: none;\"><div style=\"display: table-cell;\"></div><div style=\"display: table-cell;\">extra_x_scales&nbsp;=&nbsp;{},</div></div><div class=\"1109\" style=\"display: none;\"><div style=\"display: table-cell;\"></div><div style=\"display: table-cell;\">extra_y_ranges&nbsp;=&nbsp;{},</div></div><div class=\"1109\" style=\"display: none;\"><div style=\"display: table-cell;\"></div><div style=\"display: table-cell;\">extra_y_scales&nbsp;=&nbsp;{},</div></div><div class=\"1109\" style=\"display: none;\"><div style=\"display: table-cell;\"></div><div style=\"display: table-cell;\">frame_height&nbsp;=&nbsp;None,</div></div><div class=\"1109\" style=\"display: none;\"><div style=\"display: table-cell;\"></div><div style=\"display: table-cell;\">frame_width&nbsp;=&nbsp;None,</div></div><div class=\"1109\" style=\"display: none;\"><div style=\"display: table-cell;\"></div><div style=\"display: table-cell;\">height&nbsp;=&nbsp;400,</div></div><div class=\"1109\" style=\"display: none;\"><div style=\"display: table-cell;\"></div><div style=\"display: table-cell;\">height_policy&nbsp;=&nbsp;'auto',</div></div><div class=\"1109\" style=\"display: none;\"><div style=\"display: table-cell;\"></div><div style=\"display: table-cell;\">hidpi&nbsp;=&nbsp;True,</div></div><div class=\"1109\" style=\"display: none;\"><div style=\"display: table-cell;\"></div><div style=\"display: table-cell;\">inner_height&nbsp;=&nbsp;0,</div></div><div class=\"1109\" style=\"display: none;\"><div style=\"display: table-cell;\"></div><div style=\"display: table-cell;\">inner_width&nbsp;=&nbsp;0,</div></div><div class=\"1109\" style=\"display: none;\"><div style=\"display: table-cell;\"></div><div style=\"display: table-cell;\">js_event_callbacks&nbsp;=&nbsp;{},</div></div><div class=\"1109\" style=\"display: none;\"><div style=\"display: table-cell;\"></div><div style=\"display: table-cell;\">js_property_callbacks&nbsp;=&nbsp;{},</div></div><div class=\"1109\" style=\"display: none;\"><div style=\"display: table-cell;\"></div><div style=\"display: table-cell;\">left&nbsp;=&nbsp;[LinearAxis(id='1017', ...)],</div></div><div class=\"1109\" style=\"display: none;\"><div style=\"display: table-cell;\"></div><div style=\"display: table-cell;\">lod_factor&nbsp;=&nbsp;10,</div></div><div class=\"1109\" style=\"display: none;\"><div style=\"display: table-cell;\"></div><div style=\"display: table-cell;\">lod_interval&nbsp;=&nbsp;300,</div></div><div class=\"1109\" style=\"display: none;\"><div style=\"display: table-cell;\"></div><div style=\"display: table-cell;\">lod_threshold&nbsp;=&nbsp;2000,</div></div><div class=\"1109\" style=\"display: none;\"><div style=\"display: table-cell;\"></div><div style=\"display: table-cell;\">lod_timeout&nbsp;=&nbsp;500,</div></div><div class=\"1109\" style=\"display: none;\"><div style=\"display: table-cell;\"></div><div style=\"display: table-cell;\">margin&nbsp;=&nbsp;(0, 0, 0, 0),</div></div><div class=\"1109\" style=\"display: none;\"><div style=\"display: table-cell;\"></div><div style=\"display: table-cell;\">match_aspect&nbsp;=&nbsp;False,</div></div><div class=\"1109\" style=\"display: none;\"><div style=\"display: table-cell;\"></div><div style=\"display: table-cell;\">max_height&nbsp;=&nbsp;None,</div></div><div class=\"1109\" style=\"display: none;\"><div style=\"display: table-cell;\"></div><div style=\"display: table-cell;\">max_width&nbsp;=&nbsp;None,</div></div><div class=\"1109\" style=\"display: none;\"><div style=\"display: table-cell;\"></div><div style=\"display: table-cell;\">min_border&nbsp;=&nbsp;5,</div></div><div class=\"1109\" style=\"display: none;\"><div style=\"display: table-cell;\"></div><div style=\"display: table-cell;\">min_border_bottom&nbsp;=&nbsp;None,</div></div><div class=\"1109\" style=\"display: none;\"><div style=\"display: table-cell;\"></div><div style=\"display: table-cell;\">min_border_left&nbsp;=&nbsp;None,</div></div><div class=\"1109\" style=\"display: none;\"><div style=\"display: table-cell;\"></div><div style=\"display: table-cell;\">min_border_right&nbsp;=&nbsp;None,</div></div><div class=\"1109\" style=\"display: none;\"><div style=\"display: table-cell;\"></div><div style=\"display: table-cell;\">min_border_top&nbsp;=&nbsp;None,</div></div><div class=\"1109\" style=\"display: none;\"><div style=\"display: table-cell;\"></div><div style=\"display: table-cell;\">min_height&nbsp;=&nbsp;None,</div></div><div class=\"1109\" style=\"display: none;\"><div style=\"display: table-cell;\"></div><div style=\"display: table-cell;\">min_width&nbsp;=&nbsp;None,</div></div><div class=\"1109\" style=\"display: none;\"><div style=\"display: table-cell;\"></div><div style=\"display: table-cell;\">name&nbsp;=&nbsp;None,</div></div><div class=\"1109\" style=\"display: none;\"><div style=\"display: table-cell;\"></div><div style=\"display: table-cell;\">outer_height&nbsp;=&nbsp;0,</div></div><div class=\"1109\" style=\"display: none;\"><div style=\"display: table-cell;\"></div><div style=\"display: table-cell;\">outer_width&nbsp;=&nbsp;0,</div></div><div class=\"1109\" style=\"display: none;\"><div style=\"display: table-cell;\"></div><div style=\"display: table-cell;\">outline_line_alpha&nbsp;=&nbsp;1.0,</div></div><div class=\"1109\" style=\"display: none;\"><div style=\"display: table-cell;\"></div><div style=\"display: table-cell;\">outline_line_cap&nbsp;=&nbsp;'butt',</div></div><div class=\"1109\" style=\"display: none;\"><div style=\"display: table-cell;\"></div><div style=\"display: table-cell;\">outline_line_color&nbsp;=&nbsp;'#e5e5e5',</div></div><div class=\"1109\" style=\"display: none;\"><div style=\"display: table-cell;\"></div><div style=\"display: table-cell;\">outline_line_dash&nbsp;=&nbsp;[],</div></div><div class=\"1109\" style=\"display: none;\"><div style=\"display: table-cell;\"></div><div style=\"display: table-cell;\">outline_line_dash_offset&nbsp;=&nbsp;0,</div></div><div class=\"1109\" style=\"display: none;\"><div style=\"display: table-cell;\"></div><div style=\"display: table-cell;\">outline_line_join&nbsp;=&nbsp;'bevel',</div></div><div class=\"1109\" style=\"display: none;\"><div style=\"display: table-cell;\"></div><div style=\"display: table-cell;\">outline_line_width&nbsp;=&nbsp;1,</div></div><div class=\"1109\" style=\"display: none;\"><div style=\"display: table-cell;\"></div><div style=\"display: table-cell;\">output_backend&nbsp;=&nbsp;'canvas',</div></div><div class=\"1109\" style=\"display: none;\"><div style=\"display: table-cell;\"></div><div style=\"display: table-cell;\">renderers&nbsp;=&nbsp;[GlyphRenderer(id='1039', ...)],</div></div><div class=\"1109\" style=\"display: none;\"><div style=\"display: table-cell;\"></div><div style=\"display: table-cell;\">reset_policy&nbsp;=&nbsp;'standard',</div></div><div class=\"1109\" style=\"display: none;\"><div style=\"display: table-cell;\"></div><div style=\"display: table-cell;\">right&nbsp;=&nbsp;[],</div></div><div class=\"1109\" style=\"display: none;\"><div style=\"display: table-cell;\"></div><div style=\"display: table-cell;\">sizing_mode&nbsp;=&nbsp;None,</div></div><div class=\"1109\" style=\"display: none;\"><div style=\"display: table-cell;\"></div><div style=\"display: table-cell;\">subscribed_events&nbsp;=&nbsp;[],</div></div><div class=\"1109\" style=\"display: none;\"><div style=\"display: table-cell;\"></div><div style=\"display: table-cell;\">syncable&nbsp;=&nbsp;True,</div></div><div class=\"1109\" style=\"display: none;\"><div style=\"display: table-cell;\"></div><div style=\"display: table-cell;\">tags&nbsp;=&nbsp;[],</div></div><div class=\"1109\" style=\"display: none;\"><div style=\"display: table-cell;\"></div><div style=\"display: table-cell;\">title&nbsp;=&nbsp;Title(id='1043', ...),</div></div><div class=\"1109\" style=\"display: none;\"><div style=\"display: table-cell;\"></div><div style=\"display: table-cell;\">title_location&nbsp;=&nbsp;'above',</div></div><div class=\"1109\" style=\"display: none;\"><div style=\"display: table-cell;\"></div><div style=\"display: table-cell;\">toolbar&nbsp;=&nbsp;Toolbar(id='1028', ...),</div></div><div class=\"1109\" style=\"display: none;\"><div style=\"display: table-cell;\"></div><div style=\"display: table-cell;\">toolbar_location&nbsp;=&nbsp;'right',</div></div><div class=\"1109\" style=\"display: none;\"><div style=\"display: table-cell;\"></div><div style=\"display: table-cell;\">toolbar_sticky&nbsp;=&nbsp;True,</div></div><div class=\"1109\" style=\"display: none;\"><div style=\"display: table-cell;\"></div><div style=\"display: table-cell;\">visible&nbsp;=&nbsp;True,</div></div><div class=\"1109\" style=\"display: none;\"><div style=\"display: table-cell;\"></div><div style=\"display: table-cell;\">width&nbsp;=&nbsp;600,</div></div><div class=\"1109\" style=\"display: none;\"><div style=\"display: table-cell;\"></div><div style=\"display: table-cell;\">width_policy&nbsp;=&nbsp;'auto',</div></div><div class=\"1109\" style=\"display: none;\"><div style=\"display: table-cell;\"></div><div style=\"display: table-cell;\">x_range&nbsp;=&nbsp;DataRange1d(id='1005', ...),</div></div><div class=\"1109\" style=\"display: none;\"><div style=\"display: table-cell;\"></div><div style=\"display: table-cell;\">x_scale&nbsp;=&nbsp;LinearScale(id='1009', ...),</div></div><div class=\"1109\" style=\"display: none;\"><div style=\"display: table-cell;\"></div><div style=\"display: table-cell;\">y_range&nbsp;=&nbsp;DataRange1d(id='1007', ...),</div></div><div class=\"1109\" style=\"display: none;\"><div style=\"display: table-cell;\"></div><div style=\"display: table-cell;\">y_scale&nbsp;=&nbsp;LinearScale(id='1011', ...))</div></div></div>\n",
       "<script>\n",
       "(function() {\n",
       "  let expanded = false;\n",
       "  const ellipsis = document.getElementById(\"1110\");\n",
       "  ellipsis.addEventListener(\"click\", function() {\n",
       "    const rows = document.getElementsByClassName(\"1109\");\n",
       "    for (let i = 0; i < rows.length; i++) {\n",
       "      const el = rows[i];\n",
       "      el.style.display = expanded ? \"none\" : \"table-row\";\n",
       "    }\n",
       "    ellipsis.innerHTML = expanded ? \"&hellip;)\" : \"&lsaquo;&lsaquo;&lsaquo;\";\n",
       "    expanded = !expanded;\n",
       "  });\n",
       "})();\n",
       "</script>\n"
      ],
      "text/plain": [
       "Figure(id='1004', ...)"
      ]
     },
     "execution_count": 17,
     "metadata": {},
     "output_type": "execute_result"
    }
   ],
   "source": [
    "draw_vectors(\n",
    "    examples[\"transformed_features\"][:, 0], \n",
    "    examples[\"transformed_features\"][:, 1], \n",
    "    color=[[\"red\", \"blue\"][t] for t in examples[\"targets\"]]\n",
    "    )"
   ]
  },
  {
   "cell_type": "markdown",
   "metadata": {
    "id": "0fNF6LRQ9MPI"
   },
   "source": [
    "Скорее всего, на визуализации нет четкого разделения твитов между классами. Это значит, что по полученным нами векторам твитов не так-то просто определить, к какому классу твит пренадлежит. Значит, обычный линейный классификатор не очень хорошо справится с задачей. Надо будет делать глубокую (хотя бы два слоя) нейронную сеть.\n",
    "\n",
    "Подготовим загрузчики данных.\n",
    "Усреднее векторов будем делать в \"батчевалке\"(`collate_fn`). Она используется для того, чтобы собирать из данных `torch.Tensor` батчи, которые можно отправлять в модель.\n"
   ]
  },
  {
   "cell_type": "code",
   "execution_count": 18,
   "metadata": {
    "id": "y1XapsADtITv"
   },
   "outputs": [],
   "source": [
    "from torch.utils.data import DataLoader\n",
    "\n",
    "\n",
    "batch_size = 1024\n",
    "# При других значениях не работает на моём компьютере\n",
    "num_workers = 0\n",
    "\n",
    "def average_emb(batch):\n",
    "    features = [np.mean(b[\"feature\"], axis=0) for b in batch]\n",
    "    targets = [b[\"target\"] for b in batch]\n",
    "\n",
    "    return {\"features\": torch.FloatTensor(features), \"targets\": torch.LongTensor(targets)}\n",
    "\n",
    "\n",
    "train_size = math.ceil(len(dev) * 0.8)\n",
    "\n",
    "train, valid = random_split(dev, [train_size, len(dev) - train_size])\n",
    "\n",
    "train_loader = DataLoader(train, batch_size=batch_size, num_workers=num_workers, shuffle=True, drop_last=True, collate_fn=average_emb)\n",
    "valid_loader = DataLoader(valid, batch_size=batch_size, num_workers=num_workers, shuffle=False, drop_last=False, collate_fn=average_emb)"
   ]
  },
  {
   "cell_type": "markdown",
   "metadata": {
    "id": "p-zs0WEK-Vkt"
   },
   "source": [
    "Определим функции для тренировки и теста модели:"
   ]
  },
  {
   "cell_type": "code",
   "execution_count": 19,
   "metadata": {
    "id": "U--T2Gjw1r27"
   },
   "outputs": [],
   "source": [
    "from tqdm.notebook import tqdm\n",
    "from sklearn.metrics import accuracy_score\n",
    "\n",
    "def training(model, optimizer, criterion, train_loader, epoch, device=\"cpu\"):\n",
    "    pbar = tqdm(train_loader, desc=f\"Epoch {e + 1}. Train Loss: {0}\")\n",
    "    model.train()\n",
    "    for batch in pbar:\n",
    "        features = batch[\"features\"].to(device)\n",
    "        targets = batch[\"targets\"].to(device)\n",
    "\n",
    "        # Получи предсказания модели\n",
    "        y_pred = model(features)\n",
    "        y_pred = y_pred.reshape(-1)\n",
    "        # Посчитай лосс\n",
    "        loss = criterion(y_pred, targets.float()) \n",
    "        # Обнови параметры модели\n",
    "        loss.backward()\n",
    "        optimizer.step()\n",
    "        optimizer.zero_grad()\n",
    "        \n",
    "        pbar.set_description(f\"Epoch {e + 1}. Train Loss: {loss:.4}\")\n",
    "    \n",
    "\n",
    "def testing(model, criterion, test_loader, device=\"cpu\"):\n",
    "    pbar = tqdm(test_loader, desc=f\"Test Loss: {0}, Test Acc: {0}\")\n",
    "    mean_loss = 0\n",
    "    mean_acc = 0\n",
    "    model.eval()\n",
    "    with torch.no_grad():\n",
    "        for batch in pbar:\n",
    "            features = batch[\"features\"].to(device)\n",
    "            targets = batch[\"targets\"].to(device)\n",
    "\n",
    "            # Получи предсказания модели\n",
    "            y_pred = model(features)\n",
    "            y_pred = y_pred.reshape(-1)\n",
    "            # Посчитай лосс\n",
    "            loss = criterion(y_pred, targets.float())\n",
    "            # Посчитай точность модели\n",
    "            acc = accuracy_score(targets.cpu().numpy(), y_pred.cpu().numpy() > 0.5)\n",
    "\n",
    "            mean_loss += loss.item()\n",
    "            mean_acc += acc.item()\n",
    "\n",
    "            pbar.set_description(f\"Test Loss: {loss:.4}, Test Acc: {acc:.4}\")\n",
    "\n",
    "    pbar.set_description(f\"Test Loss: {mean_loss / len(test_loader):.4}, Test Acc: {mean_acc / len(test_loader):.4}\")\n",
    "\n",
    "    return {\"Test Loss\": mean_loss / len(test_loader), \"Test Acc\": mean_acc / len(test_loader)}"
   ]
  },
  {
   "cell_type": "markdown",
   "metadata": {
    "id": "oVg_XBBb-YBH"
   },
   "source": [
    "Создадим модель, оптимизатор и целевую функцию. Вы можете сами выбрать количество слоев в нейронной сети, ваш любимый оптимизатор и целевую функцию.\n"
   ]
  },
  {
   "cell_type": "code",
   "execution_count": 20,
   "metadata": {},
   "outputs": [],
   "source": [
    "import torch.nn as nn\n",
    "from torch.optim import Adam\n",
    "\n",
    "\n",
    "# Не забудь поиграться с параметрами ;)\n",
    "vector_size = dev.word2vec.vector_size\n",
    "num_classes = 1\n",
    "lr = 1e-3\n",
    "num_epochs = 4\n",
    "\n",
    "\n",
    "class one_model(nn.Module):\n",
    "    def __init__(self, vector_size, num_classes):\n",
    "        super().__init__()\n",
    "        self.seq_1 = nn.Sequential(\n",
    "            nn.Linear(vector_size, 256),\n",
    "            nn.ReLU(),\n",
    "            nn.Linear(256, 128),\n",
    "            nn.ReLU(),\n",
    "            nn.Linear(128, num_classes),\n",
    "            nn.Sigmoid()\n",
    "        )\n",
    "    \n",
    "    def forward(self, x):\n",
    "        return self.seq_1(x)\n",
    "\n",
    "model =  one_model(vector_size, num_classes)\n",
    "model = model.cuda()\n",
    "\n",
    "# Твой лосс\n",
    "criterion = nn.BCELoss()\n",
    "# Твой оптимайзер\n",
    "optimizer = torch.optim.Adam(model.parameters(), lr=lr)"
   ]
  },
  {
   "cell_type": "markdown",
   "metadata": {
    "id": "-AitU8AR-zBj"
   },
   "source": [
    "Наконец, обучим модель и протестируем её.\n",
    "\n",
    "После каждой эпохи будем проверять качество модели на валидационной части датасета. Если метрика стала лучше, будем сохранять модель. **Подумайте, какая метрика (точность или лосс) будет лучше работать в этой задаче?** \n",
    "\n",
    "Accuracy является более понятным для человека. Но для решения задаче оптимизации, accuracy не явлется дифференцируем, поэтому, в задаче оптимизации лучше использовать loss. При оптимизации Loss, мы автоматически оптимизируем метрику accuracy. Стоит, учитывать, что accuracy не устойчива к дисбалансу классов."
   ]
  },
  {
   "cell_type": "code",
   "execution_count": 21,
   "metadata": {
    "id": "gKhk71Pmx1F1",
    "scrolled": true
   },
   "outputs": [
    {
     "data": {
      "application/vnd.jupyter.widget-view+json": {
       "model_id": "f8b989971f8a43728c853af252b7a632",
       "version_major": 2,
       "version_minor": 0
      },
      "text/plain": [
       "Epoch 1. Train Loss: 0:   0%|          | 0/1000 [00:00<?, ?it/s]"
      ]
     },
     "metadata": {},
     "output_type": "display_data"
    },
    {
     "name": "stderr",
     "output_type": "stream",
     "text": [
      "C:\\Users\\bimas\\AppData\\Local\\Temp\\ipykernel_11252\\1856977367.py:12: UserWarning: Creating a tensor from a list of numpy.ndarrays is extremely slow. Please consider converting the list to a single numpy.ndarray with numpy.array() before converting to a tensor. (Triggered internally at  C:\\cb\\pytorch_1000000000000\\work\\torch\\csrc\\utils\\tensor_new.cpp:204.)\n",
      "  return {\"features\": torch.FloatTensor(features), \"targets\": torch.LongTensor(targets)}\n"
     ]
    },
    {
     "data": {
      "application/vnd.jupyter.widget-view+json": {
       "model_id": "45bcdec55af24da18c61b93865a40160",
       "version_major": 2,
       "version_minor": 0
      },
      "text/plain": [
       "Test Loss: 0, Test Acc: 0:   0%|          | 0/250 [00:00<?, ?it/s]"
      ]
     },
     "metadata": {},
     "output_type": "display_data"
    },
    {
     "name": "stdout",
     "output_type": "stream",
     "text": [
      "{'Test Loss': 0.5055626019239425, 'Test Acc': 0.7507890625}\n"
     ]
    },
    {
     "data": {
      "application/vnd.jupyter.widget-view+json": {
       "model_id": "c29faf8c6bd341e0bb3fbcad3c357349",
       "version_major": 2,
       "version_minor": 0
      },
      "text/plain": [
       "Epoch 2. Train Loss: 0:   0%|          | 0/1000 [00:00<?, ?it/s]"
      ]
     },
     "metadata": {},
     "output_type": "display_data"
    },
    {
     "data": {
      "application/vnd.jupyter.widget-view+json": {
       "model_id": "721bedcae71f434b8fe1cabf966a6572",
       "version_major": 2,
       "version_minor": 0
      },
      "text/plain": [
       "Test Loss: 0, Test Acc: 0:   0%|          | 0/250 [00:00<?, ?it/s]"
      ]
     },
     "metadata": {},
     "output_type": "display_data"
    },
    {
     "name": "stdout",
     "output_type": "stream",
     "text": [
      "{'Test Loss': 0.4975341240167618, 'Test Acc': 0.75558203125}\n"
     ]
    },
    {
     "data": {
      "application/vnd.jupyter.widget-view+json": {
       "model_id": "140e7d040caa4bad80d07c34206b18dd",
       "version_major": 2,
       "version_minor": 0
      },
      "text/plain": [
       "Epoch 3. Train Loss: 0:   0%|          | 0/1000 [00:00<?, ?it/s]"
      ]
     },
     "metadata": {},
     "output_type": "display_data"
    },
    {
     "data": {
      "application/vnd.jupyter.widget-view+json": {
       "model_id": "62cf2660439448e89e70d9cc5ec09fcb",
       "version_major": 2,
       "version_minor": 0
      },
      "text/plain": [
       "Test Loss: 0, Test Acc: 0:   0%|          | 0/250 [00:00<?, ?it/s]"
      ]
     },
     "metadata": {},
     "output_type": "display_data"
    },
    {
     "name": "stdout",
     "output_type": "stream",
     "text": [
      "{'Test Loss': 0.4951206104755402, 'Test Acc': 0.75741015625}\n"
     ]
    },
    {
     "data": {
      "application/vnd.jupyter.widget-view+json": {
       "model_id": "ca8da2f6dfc74129bf006e908c68bf5a",
       "version_major": 2,
       "version_minor": 0
      },
      "text/plain": [
       "Epoch 4. Train Loss: 0:   0%|          | 0/1000 [00:00<?, ?it/s]"
      ]
     },
     "metadata": {},
     "output_type": "display_data"
    },
    {
     "data": {
      "application/vnd.jupyter.widget-view+json": {
       "model_id": "db6c31552d744e5bb2efb9731ea980d0",
       "version_major": 2,
       "version_minor": 0
      },
      "text/plain": [
       "Test Loss: 0, Test Acc: 0:   0%|          | 0/250 [00:00<?, ?it/s]"
      ]
     },
     "metadata": {},
     "output_type": "display_data"
    },
    {
     "name": "stdout",
     "output_type": "stream",
     "text": [
      "{'Test Loss': 0.49213365352153776, 'Test Acc': 0.75862109375}\n"
     ]
    }
   ],
   "source": [
    "best_metric = np.inf\n",
    "for e in range(num_epochs):\n",
    "    training(model, optimizer, criterion, train_loader, e, device)\n",
    "    log = testing(model, criterion, valid_loader, device)\n",
    "    print(log)\n",
    "    if log[\"Test Loss\"] < best_metric:\n",
    "        torch.save(model.state_dict(), \"model.pt\")\n",
    "        best_metric = log[\"Test Loss\"]"
   ]
  },
  {
   "cell_type": "code",
   "execution_count": 22,
   "metadata": {
    "id": "di4dGwD4x1Dt"
   },
   "outputs": [
    {
     "data": {
      "application/vnd.jupyter.widget-view+json": {
       "model_id": "3cc16e356dec43ccbab40c895de206f5",
       "version_major": 2,
       "version_minor": 0
      },
      "text/plain": [
       "Test Loss: 0, Test Acc: 0:   0%|          | 0/313 [00:00<?, ?it/s]"
      ]
     },
     "metadata": {},
     "output_type": "display_data"
    },
    {
     "name": "stdout",
     "output_type": "stream",
     "text": [
      "{'Test Loss': 0.4947385760351492, 'Test Acc': 0.7570917781549521}\n"
     ]
    }
   ],
   "source": [
    "test_loader = DataLoader(\n",
    "    TwitterDataset(test_data, \"text\", \"emotion\", word2vec), \n",
    "    batch_size=batch_size, \n",
    "    num_workers=num_workers, \n",
    "    shuffle=False,\n",
    "    drop_last=False, \n",
    "    collate_fn=average_emb)\n",
    "\n",
    "model.load_state_dict(torch.load(\"model.pt\", map_location=device))\n",
    "\n",
    "print(testing(model, criterion, test_loader, device=device))"
   ]
  },
  {
   "cell_type": "markdown",
   "metadata": {
    "id": "ZRvzpldHSAu0"
   },
   "source": [
    "## Embeddings for unknown words (8 баллов)\n",
    "\n",
    "Пока что использовалась не вся информация из текста. Часть информации фильтровалось – если слова не было в словаре эмбеддингов, то мы просто превращали слово в нулевой вектор. Хочется использовать информацию по-максимуму. Поэтому рассмотрим другие способы обработки слов, которых нет в словаре. А именно:\n",
    "\n",
    "- Для каждого незнакомого слова будем запоминать его контекст(слова слева и справа от этого слова). Эмбеддингом нашего незнакомого слова будет сумма эмбеддингов всех слов из его контекста. (4 балла)\n",
    "- Для каждого слова текста получим его эмбеддинг из Tfidf с помощью ```TfidfVectorizer``` из [sklearn](https://scikit-learn.org/stable/modules/generated/sklearn.feature_extraction.text.TfidfVectorizer.html#sklearn.feature_extraction.text.TfidfVectorizer). Итоговым эмбеддингом для каждого слова будет сумма двух эмбеддингов: предобученного и Tfidf-ного. Для слов, которых нет в словаре предобученных эмбеддингов, результирующий эмбеддинг будет просто полученный из Tfidf. (4 балла)\n",
    "\n",
    "Реализуйте оба варианта **ниже**. Напишите, какой способ сработал лучше и ваши мысли, почему так получилось."
   ]
  },
  {
   "cell_type": "markdown",
   "metadata": {},
   "source": [
    "# Вариант 1"
   ]
  },
  {
   "cell_type": "code",
   "execution_count": 23,
   "metadata": {
    "id": "RxhEpKalU1UQ"
   },
   "outputs": [],
   "source": [
    "class TwitterOne(Dataset):\n",
    "    def __init__(self, data: pd.DataFrame, feature_column: str, target_column: str, word2vec: gensim.models.Word2Vec):\n",
    "        self.tokenizer = nltk.WordPunctTokenizer()\n",
    "        \n",
    "        self.data = data\n",
    "\n",
    "        self.feature_column = feature_column\n",
    "        self.target_column = target_column\n",
    "\n",
    "        self.word2vec = word2vec\n",
    "\n",
    "        self.label2num = lambda label: 0 if label == 0 else 1\n",
    "        self.mean = np.mean(word2vec.vectors, axis=0)\n",
    "        self.std = np.std(word2vec.vectors, axis=0)\n",
    "\n",
    "        \n",
    "    def __getitem__(self, item):\n",
    "        text = self.data[self.feature_column][item]\n",
    "        label = self.label2num(self.data[self.target_column][item])\n",
    "\n",
    "        tokens = self.get_tokens_(text)\n",
    "        embeddings = self.get_embeddings_(tokens)\n",
    "\n",
    "        return {\"feature\": embeddings, \"target\": label}\n",
    "\n",
    "    \n",
    "    def get_tokens_(self, text):\n",
    "        # Получи все токены из текста и профильтруй их\n",
    "        tokenizer = nltk.WordPunctTokenizer()\n",
    "        tokens = tokenizer.tokenize(text.lower())\n",
    "        filtered_tokens = [w for w in tokens if all(c not in string.punctuation for c in w) and len(w) > 3]\n",
    "        \n",
    "        return filtered_tokens\n",
    "\n",
    "        \n",
    "    def get_embeddings_(self, tokens):\n",
    "        w_size = 3\n",
    "        embeddings = []\n",
    "\n",
    "        for i in range(len(tokens)):\n",
    "            if tokens[i] in self.word2vec:\n",
    "                embeddings.append(self.word2vec.get_vector(tokens[i]))\n",
    "            else:\n",
    "                emb_sum = np.zeros((2 * w_size, self.word2vec.vector_size))\n",
    "                left_idx = i - w_size\n",
    "                right_idx = i + w_size\n",
    "                \n",
    "                if left_idx < 0:\n",
    "                    left_padding = np.zeros((abs(left_idx), self.word2vec.vector_size))\n",
    "                    left_emb = np.zeros((i, self.word2vec.vector_size))\n",
    "                    for idx in range(0, i):\n",
    "                        if tokens[idx] in word2vec:\n",
    "                            left_emb[idx] = self.word2vec.get_vector(tokens[idx])\n",
    "                    emb_sum[:w_size] += np.vstack((left_padding, left_emb))\n",
    "                    \n",
    "                if right_idx > len(tokens) - 1:\n",
    "                    right_padding = np.zeros((abs(right_idx) - len(tokens) + 1, self.word2vec.vector_size))\n",
    "                    right_emb = np.zeros((len(tokens) - (i + 1), self.word2vec.vector_size))\n",
    "                    for idx in range(i + 1, len(tokens)):\n",
    "                        if tokens[idx] in word2vec:\n",
    "                            right_emb[idx - (i + 1)] = self.word2vec.get_vector(tokens[idx])\n",
    "                    emb_sum[w_size:] += np.vstack((right_emb, right_padding))\n",
    "                    \n",
    "                emb_sum /= 2 * w_size \n",
    "                weights = np.array([1 / abs(w_size - j) for j in range(w_size)])\n",
    "                weights = np.hstack((weights, weights[::-1]))\n",
    "\n",
    "                emb_sum = weights @ emb_sum\n",
    "                \n",
    "                embeddings.append(emb_sum)\n",
    "        if len(embeddings) == 0:\n",
    "            embeddings = np.zeros((1, self.word2vec.vector_size))\n",
    "        else:\n",
    "            embeddings = np.array(embeddings)\n",
    "            if len(embeddings.shape) == 1:\n",
    "                embeddings = embeddings.reshape(-1, 1)\n",
    "                \n",
    "        return embeddings\n",
    "\n",
    "    def __len__(self):\n",
    "        return self.data.shape[0]"
   ]
  },
  {
   "cell_type": "code",
   "execution_count": 24,
   "metadata": {},
   "outputs": [],
   "source": [
    "dev = TwitterOne(dev_data, \"text\", \"emotion\", word2vec)"
   ]
  },
  {
   "cell_type": "code",
   "execution_count": 25,
   "metadata": {},
   "outputs": [
    {
     "name": "stdout",
     "output_type": "stream",
     "text": [
      "1280\n"
     ]
    }
   ],
   "source": [
    "indexes = np.arange(len(dev))\n",
    "np.random.shuffle(indexes)\n",
    "example_indexes = indexes[::1000]\n",
    "\n",
    "examples = {\"features\": [np.sum(dev[i][\"feature\"], axis=0) for i in example_indexes], \n",
    "            \"targets\": [dev[i][\"target\"] for i in example_indexes]}\n",
    "print(len(examples[\"features\"]))"
   ]
  },
  {
   "cell_type": "code",
   "execution_count": 26,
   "metadata": {},
   "outputs": [
    {
     "name": "stderr",
     "output_type": "stream",
     "text": [
      "D:\\Programs\\anaconda3\\lib\\site-packages\\sklearn\\manifold\\_t_sne.py:780: FutureWarning: The default initialization in TSNE will change from 'random' to 'pca' in 1.2.\n",
      "  warnings.warn(\n",
      "D:\\Programs\\anaconda3\\lib\\site-packages\\sklearn\\manifold\\_t_sne.py:790: FutureWarning: The default learning rate in TSNE will change from 200.0 to 'auto' in 1.2.\n",
      "  warnings.warn(\n"
     ]
    }
   ],
   "source": [
    "tsne = TSNE(n_components=2)\n",
    "examples[\"transformed_features\"] = tsne.fit_transform(examples['features'])"
   ]
  },
  {
   "cell_type": "code",
   "execution_count": 27,
   "metadata": {},
   "outputs": [
    {
     "data": {
      "text/html": [
       "\n",
       "    <div class=\"bk-root\">\n",
       "        <a href=\"https://bokeh.org\" target=\"_blank\" class=\"bk-logo bk-logo-small bk-logo-notebook\"></a>\n",
       "        <span id=\"1113\">Loading BokehJS ...</span>\n",
       "    </div>"
      ]
     },
     "metadata": {},
     "output_type": "display_data"
    },
    {
     "data": {
      "application/javascript": [
       "\n",
       "(function(root) {\n",
       "  function now() {\n",
       "    return new Date();\n",
       "  }\n",
       "\n",
       "  const force = true;\n",
       "\n",
       "  if (typeof root._bokeh_onload_callbacks === \"undefined\" || force === true) {\n",
       "    root._bokeh_onload_callbacks = [];\n",
       "    root._bokeh_is_loading = undefined;\n",
       "  }\n",
       "\n",
       "  const JS_MIME_TYPE = 'application/javascript';\n",
       "  const HTML_MIME_TYPE = 'text/html';\n",
       "  const EXEC_MIME_TYPE = 'application/vnd.bokehjs_exec.v0+json';\n",
       "  const CLASS_NAME = 'output_bokeh rendered_html';\n",
       "\n",
       "  /**\n",
       "   * Render data to the DOM node\n",
       "   */\n",
       "  function render(props, node) {\n",
       "    const script = document.createElement(\"script\");\n",
       "    node.appendChild(script);\n",
       "  }\n",
       "\n",
       "  /**\n",
       "   * Handle when an output is cleared or removed\n",
       "   */\n",
       "  function handleClearOutput(event, handle) {\n",
       "    const cell = handle.cell;\n",
       "\n",
       "    const id = cell.output_area._bokeh_element_id;\n",
       "    const server_id = cell.output_area._bokeh_server_id;\n",
       "    // Clean up Bokeh references\n",
       "    if (id != null && id in Bokeh.index) {\n",
       "      Bokeh.index[id].model.document.clear();\n",
       "      delete Bokeh.index[id];\n",
       "    }\n",
       "\n",
       "    if (server_id !== undefined) {\n",
       "      // Clean up Bokeh references\n",
       "      const cmd_clean = \"from bokeh.io.state import curstate; print(curstate().uuid_to_server['\" + server_id + \"'].get_sessions()[0].document.roots[0]._id)\";\n",
       "      cell.notebook.kernel.execute(cmd_clean, {\n",
       "        iopub: {\n",
       "          output: function(msg) {\n",
       "            const id = msg.content.text.trim();\n",
       "            if (id in Bokeh.index) {\n",
       "              Bokeh.index[id].model.document.clear();\n",
       "              delete Bokeh.index[id];\n",
       "            }\n",
       "          }\n",
       "        }\n",
       "      });\n",
       "      // Destroy server and session\n",
       "      const cmd_destroy = \"import bokeh.io.notebook as ion; ion.destroy_server('\" + server_id + \"')\";\n",
       "      cell.notebook.kernel.execute(cmd_destroy);\n",
       "    }\n",
       "  }\n",
       "\n",
       "  /**\n",
       "   * Handle when a new output is added\n",
       "   */\n",
       "  function handleAddOutput(event, handle) {\n",
       "    const output_area = handle.output_area;\n",
       "    const output = handle.output;\n",
       "\n",
       "    // limit handleAddOutput to display_data with EXEC_MIME_TYPE content only\n",
       "    if ((output.output_type != \"display_data\") || (!Object.prototype.hasOwnProperty.call(output.data, EXEC_MIME_TYPE))) {\n",
       "      return\n",
       "    }\n",
       "\n",
       "    const toinsert = output_area.element.find(\".\" + CLASS_NAME.split(' ')[0]);\n",
       "\n",
       "    if (output.metadata[EXEC_MIME_TYPE][\"id\"] !== undefined) {\n",
       "      toinsert[toinsert.length - 1].firstChild.textContent = output.data[JS_MIME_TYPE];\n",
       "      // store reference to embed id on output_area\n",
       "      output_area._bokeh_element_id = output.metadata[EXEC_MIME_TYPE][\"id\"];\n",
       "    }\n",
       "    if (output.metadata[EXEC_MIME_TYPE][\"server_id\"] !== undefined) {\n",
       "      const bk_div = document.createElement(\"div\");\n",
       "      bk_div.innerHTML = output.data[HTML_MIME_TYPE];\n",
       "      const script_attrs = bk_div.children[0].attributes;\n",
       "      for (let i = 0; i < script_attrs.length; i++) {\n",
       "        toinsert[toinsert.length - 1].firstChild.setAttribute(script_attrs[i].name, script_attrs[i].value);\n",
       "        toinsert[toinsert.length - 1].firstChild.textContent = bk_div.children[0].textContent\n",
       "      }\n",
       "      // store reference to server id on output_area\n",
       "      output_area._bokeh_server_id = output.metadata[EXEC_MIME_TYPE][\"server_id\"];\n",
       "    }\n",
       "  }\n",
       "\n",
       "  function register_renderer(events, OutputArea) {\n",
       "\n",
       "    function append_mime(data, metadata, element) {\n",
       "      // create a DOM node to render to\n",
       "      const toinsert = this.create_output_subarea(\n",
       "        metadata,\n",
       "        CLASS_NAME,\n",
       "        EXEC_MIME_TYPE\n",
       "      );\n",
       "      this.keyboard_manager.register_events(toinsert);\n",
       "      // Render to node\n",
       "      const props = {data: data, metadata: metadata[EXEC_MIME_TYPE]};\n",
       "      render(props, toinsert[toinsert.length - 1]);\n",
       "      element.append(toinsert);\n",
       "      return toinsert\n",
       "    }\n",
       "\n",
       "    /* Handle when an output is cleared or removed */\n",
       "    events.on('clear_output.CodeCell', handleClearOutput);\n",
       "    events.on('delete.Cell', handleClearOutput);\n",
       "\n",
       "    /* Handle when a new output is added */\n",
       "    events.on('output_added.OutputArea', handleAddOutput);\n",
       "\n",
       "    /**\n",
       "     * Register the mime type and append_mime function with output_area\n",
       "     */\n",
       "    OutputArea.prototype.register_mime_type(EXEC_MIME_TYPE, append_mime, {\n",
       "      /* Is output safe? */\n",
       "      safe: true,\n",
       "      /* Index of renderer in `output_area.display_order` */\n",
       "      index: 0\n",
       "    });\n",
       "  }\n",
       "\n",
       "  // register the mime type if in Jupyter Notebook environment and previously unregistered\n",
       "  if (root.Jupyter !== undefined) {\n",
       "    const events = require('base/js/events');\n",
       "    const OutputArea = require('notebook/js/outputarea').OutputArea;\n",
       "\n",
       "    if (OutputArea.prototype.mime_types().indexOf(EXEC_MIME_TYPE) == -1) {\n",
       "      register_renderer(events, OutputArea);\n",
       "    }\n",
       "  }\n",
       "\n",
       "  \n",
       "  if (typeof (root._bokeh_timeout) === \"undefined\" || force === true) {\n",
       "    root._bokeh_timeout = Date.now() + 5000;\n",
       "    root._bokeh_failed_load = false;\n",
       "  }\n",
       "\n",
       "  const NB_LOAD_WARNING = {'data': {'text/html':\n",
       "     \"<div style='background-color: #fdd'>\\n\"+\n",
       "     \"<p>\\n\"+\n",
       "     \"BokehJS does not appear to have successfully loaded. If loading BokehJS from CDN, this \\n\"+\n",
       "     \"may be due to a slow or bad network connection. Possible fixes:\\n\"+\n",
       "     \"</p>\\n\"+\n",
       "     \"<ul>\\n\"+\n",
       "     \"<li>re-rerun `output_notebook()` to attempt to load from CDN again, or</li>\\n\"+\n",
       "     \"<li>use INLINE resources instead, as so:</li>\\n\"+\n",
       "     \"</ul>\\n\"+\n",
       "     \"<code>\\n\"+\n",
       "     \"from bokeh.resources import INLINE\\n\"+\n",
       "     \"output_notebook(resources=INLINE)\\n\"+\n",
       "     \"</code>\\n\"+\n",
       "     \"</div>\"}};\n",
       "\n",
       "  function display_loaded() {\n",
       "    const el = document.getElementById(\"1113\");\n",
       "    if (el != null) {\n",
       "      el.textContent = \"BokehJS is loading...\";\n",
       "    }\n",
       "    if (root.Bokeh !== undefined) {\n",
       "      if (el != null) {\n",
       "        el.textContent = \"BokehJS \" + root.Bokeh.version + \" successfully loaded.\";\n",
       "      }\n",
       "    } else if (Date.now() < root._bokeh_timeout) {\n",
       "      setTimeout(display_loaded, 100)\n",
       "    }\n",
       "  }\n",
       "\n",
       "\n",
       "  function run_callbacks() {\n",
       "    try {\n",
       "      root._bokeh_onload_callbacks.forEach(function(callback) {\n",
       "        if (callback != null)\n",
       "          callback();\n",
       "      });\n",
       "    } finally {\n",
       "      delete root._bokeh_onload_callbacks\n",
       "    }\n",
       "    console.debug(\"Bokeh: all callbacks have finished\");\n",
       "  }\n",
       "\n",
       "  function load_libs(css_urls, js_urls, callback) {\n",
       "    if (css_urls == null) css_urls = [];\n",
       "    if (js_urls == null) js_urls = [];\n",
       "\n",
       "    root._bokeh_onload_callbacks.push(callback);\n",
       "    if (root._bokeh_is_loading > 0) {\n",
       "      console.debug(\"Bokeh: BokehJS is being loaded, scheduling callback at\", now());\n",
       "      return null;\n",
       "    }\n",
       "    if (js_urls == null || js_urls.length === 0) {\n",
       "      run_callbacks();\n",
       "      return null;\n",
       "    }\n",
       "    console.debug(\"Bokeh: BokehJS not loaded, scheduling load and callback at\", now());\n",
       "    root._bokeh_is_loading = css_urls.length + js_urls.length;\n",
       "\n",
       "    function on_load() {\n",
       "      root._bokeh_is_loading--;\n",
       "      if (root._bokeh_is_loading === 0) {\n",
       "        console.debug(\"Bokeh: all BokehJS libraries/stylesheets loaded\");\n",
       "        run_callbacks()\n",
       "      }\n",
       "    }\n",
       "\n",
       "    function on_error(url) {\n",
       "      console.error(\"failed to load \" + url);\n",
       "    }\n",
       "\n",
       "    for (let i = 0; i < css_urls.length; i++) {\n",
       "      const url = css_urls[i];\n",
       "      const element = document.createElement(\"link\");\n",
       "      element.onload = on_load;\n",
       "      element.onerror = on_error.bind(null, url);\n",
       "      element.rel = \"stylesheet\";\n",
       "      element.type = \"text/css\";\n",
       "      element.href = url;\n",
       "      console.debug(\"Bokeh: injecting link tag for BokehJS stylesheet: \", url);\n",
       "      document.body.appendChild(element);\n",
       "    }\n",
       "\n",
       "    for (let i = 0; i < js_urls.length; i++) {\n",
       "      const url = js_urls[i];\n",
       "      const element = document.createElement('script');\n",
       "      element.onload = on_load;\n",
       "      element.onerror = on_error.bind(null, url);\n",
       "      element.async = false;\n",
       "      element.src = url;\n",
       "      console.debug(\"Bokeh: injecting script tag for BokehJS library: \", url);\n",
       "      document.head.appendChild(element);\n",
       "    }\n",
       "  };\n",
       "\n",
       "  function inject_raw_css(css) {\n",
       "    const element = document.createElement(\"style\");\n",
       "    element.appendChild(document.createTextNode(css));\n",
       "    document.body.appendChild(element);\n",
       "  }\n",
       "\n",
       "  \n",
       "  const js_urls = [\"https://cdn.bokeh.org/bokeh/release/bokeh-2.4.2.min.js\", \"https://cdn.bokeh.org/bokeh/release/bokeh-gl-2.4.2.min.js\", \"https://cdn.bokeh.org/bokeh/release/bokeh-widgets-2.4.2.min.js\", \"https://cdn.bokeh.org/bokeh/release/bokeh-tables-2.4.2.min.js\", \"https://cdn.bokeh.org/bokeh/release/bokeh-mathjax-2.4.2.min.js\"];\n",
       "  const css_urls = [];\n",
       "  \n",
       "\n",
       "  const inline_js = [\n",
       "    function(Bokeh) {\n",
       "      Bokeh.set_log_level(\"info\");\n",
       "    },\n",
       "    function(Bokeh) {\n",
       "    \n",
       "    \n",
       "    }\n",
       "  ];\n",
       "\n",
       "  function run_inline_js() {\n",
       "    \n",
       "    if (root.Bokeh !== undefined || force === true) {\n",
       "      \n",
       "    for (let i = 0; i < inline_js.length; i++) {\n",
       "      inline_js[i].call(root, root.Bokeh);\n",
       "    }\n",
       "    if (force === true) {\n",
       "        display_loaded();\n",
       "      }} else if (Date.now() < root._bokeh_timeout) {\n",
       "      setTimeout(run_inline_js, 100);\n",
       "    } else if (!root._bokeh_failed_load) {\n",
       "      console.log(\"Bokeh: BokehJS failed to load within specified timeout.\");\n",
       "      root._bokeh_failed_load = true;\n",
       "    } else if (force !== true) {\n",
       "      const cell = $(document.getElementById(\"1113\")).parents('.cell').data().cell;\n",
       "      cell.output_area.append_execute_result(NB_LOAD_WARNING)\n",
       "    }\n",
       "\n",
       "  }\n",
       "\n",
       "  if (root._bokeh_is_loading === 0) {\n",
       "    console.debug(\"Bokeh: BokehJS loaded, going straight to plotting\");\n",
       "    run_inline_js();\n",
       "  } else {\n",
       "    load_libs(css_urls, js_urls, function() {\n",
       "      console.debug(\"Bokeh: BokehJS plotting callback run at\", now());\n",
       "      run_inline_js();\n",
       "    });\n",
       "  }\n",
       "}(window));"
      ],
      "application/vnd.bokehjs_load.v0+json": "\n(function(root) {\n  function now() {\n    return new Date();\n  }\n\n  const force = true;\n\n  if (typeof root._bokeh_onload_callbacks === \"undefined\" || force === true) {\n    root._bokeh_onload_callbacks = [];\n    root._bokeh_is_loading = undefined;\n  }\n\n  \n\n  \n  if (typeof (root._bokeh_timeout) === \"undefined\" || force === true) {\n    root._bokeh_timeout = Date.now() + 5000;\n    root._bokeh_failed_load = false;\n  }\n\n  const NB_LOAD_WARNING = {'data': {'text/html':\n     \"<div style='background-color: #fdd'>\\n\"+\n     \"<p>\\n\"+\n     \"BokehJS does not appear to have successfully loaded. If loading BokehJS from CDN, this \\n\"+\n     \"may be due to a slow or bad network connection. Possible fixes:\\n\"+\n     \"</p>\\n\"+\n     \"<ul>\\n\"+\n     \"<li>re-rerun `output_notebook()` to attempt to load from CDN again, or</li>\\n\"+\n     \"<li>use INLINE resources instead, as so:</li>\\n\"+\n     \"</ul>\\n\"+\n     \"<code>\\n\"+\n     \"from bokeh.resources import INLINE\\n\"+\n     \"output_notebook(resources=INLINE)\\n\"+\n     \"</code>\\n\"+\n     \"</div>\"}};\n\n  function display_loaded() {\n    const el = document.getElementById(\"1113\");\n    if (el != null) {\n      el.textContent = \"BokehJS is loading...\";\n    }\n    if (root.Bokeh !== undefined) {\n      if (el != null) {\n        el.textContent = \"BokehJS \" + root.Bokeh.version + \" successfully loaded.\";\n      }\n    } else if (Date.now() < root._bokeh_timeout) {\n      setTimeout(display_loaded, 100)\n    }\n  }\n\n\n  function run_callbacks() {\n    try {\n      root._bokeh_onload_callbacks.forEach(function(callback) {\n        if (callback != null)\n          callback();\n      });\n    } finally {\n      delete root._bokeh_onload_callbacks\n    }\n    console.debug(\"Bokeh: all callbacks have finished\");\n  }\n\n  function load_libs(css_urls, js_urls, callback) {\n    if (css_urls == null) css_urls = [];\n    if (js_urls == null) js_urls = [];\n\n    root._bokeh_onload_callbacks.push(callback);\n    if (root._bokeh_is_loading > 0) {\n      console.debug(\"Bokeh: BokehJS is being loaded, scheduling callback at\", now());\n      return null;\n    }\n    if (js_urls == null || js_urls.length === 0) {\n      run_callbacks();\n      return null;\n    }\n    console.debug(\"Bokeh: BokehJS not loaded, scheduling load and callback at\", now());\n    root._bokeh_is_loading = css_urls.length + js_urls.length;\n\n    function on_load() {\n      root._bokeh_is_loading--;\n      if (root._bokeh_is_loading === 0) {\n        console.debug(\"Bokeh: all BokehJS libraries/stylesheets loaded\");\n        run_callbacks()\n      }\n    }\n\n    function on_error(url) {\n      console.error(\"failed to load \" + url);\n    }\n\n    for (let i = 0; i < css_urls.length; i++) {\n      const url = css_urls[i];\n      const element = document.createElement(\"link\");\n      element.onload = on_load;\n      element.onerror = on_error.bind(null, url);\n      element.rel = \"stylesheet\";\n      element.type = \"text/css\";\n      element.href = url;\n      console.debug(\"Bokeh: injecting link tag for BokehJS stylesheet: \", url);\n      document.body.appendChild(element);\n    }\n\n    for (let i = 0; i < js_urls.length; i++) {\n      const url = js_urls[i];\n      const element = document.createElement('script');\n      element.onload = on_load;\n      element.onerror = on_error.bind(null, url);\n      element.async = false;\n      element.src = url;\n      console.debug(\"Bokeh: injecting script tag for BokehJS library: \", url);\n      document.head.appendChild(element);\n    }\n  };\n\n  function inject_raw_css(css) {\n    const element = document.createElement(\"style\");\n    element.appendChild(document.createTextNode(css));\n    document.body.appendChild(element);\n  }\n\n  \n  const js_urls = [\"https://cdn.bokeh.org/bokeh/release/bokeh-2.4.2.min.js\", \"https://cdn.bokeh.org/bokeh/release/bokeh-gl-2.4.2.min.js\", \"https://cdn.bokeh.org/bokeh/release/bokeh-widgets-2.4.2.min.js\", \"https://cdn.bokeh.org/bokeh/release/bokeh-tables-2.4.2.min.js\", \"https://cdn.bokeh.org/bokeh/release/bokeh-mathjax-2.4.2.min.js\"];\n  const css_urls = [];\n  \n\n  const inline_js = [\n    function(Bokeh) {\n      Bokeh.set_log_level(\"info\");\n    },\n    function(Bokeh) {\n    \n    \n    }\n  ];\n\n  function run_inline_js() {\n    \n    if (root.Bokeh !== undefined || force === true) {\n      \n    for (let i = 0; i < inline_js.length; i++) {\n      inline_js[i].call(root, root.Bokeh);\n    }\n    if (force === true) {\n        display_loaded();\n      }} else if (Date.now() < root._bokeh_timeout) {\n      setTimeout(run_inline_js, 100);\n    } else if (!root._bokeh_failed_load) {\n      console.log(\"Bokeh: BokehJS failed to load within specified timeout.\");\n      root._bokeh_failed_load = true;\n    } else if (force !== true) {\n      const cell = $(document.getElementById(\"1113\")).parents('.cell').data().cell;\n      cell.output_area.append_execute_result(NB_LOAD_WARNING)\n    }\n\n  }\n\n  if (root._bokeh_is_loading === 0) {\n    console.debug(\"Bokeh: BokehJS loaded, going straight to plotting\");\n    run_inline_js();\n  } else {\n    load_libs(css_urls, js_urls, function() {\n      console.debug(\"Bokeh: BokehJS plotting callback run at\", now());\n      run_inline_js();\n    });\n  }\n}(window));"
     },
     "metadata": {},
     "output_type": "display_data"
    },
    {
     "data": {
      "text/html": [
       "\n",
       "\n",
       "\n",
       "\n",
       "\n",
       "\n",
       "  <div class=\"bk-root\" id=\"578ba7f6-a21c-4e3b-9f10-97c64f7abb1f\" data-root-id=\"1115\"></div>\n"
      ]
     },
     "metadata": {},
     "output_type": "display_data"
    },
    {
     "data": {
      "application/javascript": [
       "(function(root) {\n",
       "  function embed_document(root) {\n",
       "    \n",
       "  const docs_json = {\"02e9b85a-dc56-4a29-8e8e-1c4da7900db3\":{\"defs\":[],\"roots\":{\"references\":[{\"attributes\":{\"below\":[{\"id\":\"1124\"}],\"center\":[{\"id\":\"1127\"},{\"id\":\"1131\"}],\"height\":400,\"left\":[{\"id\":\"1128\"}],\"renderers\":[{\"id\":\"1150\"}],\"title\":{\"id\":\"1165\"},\"toolbar\":{\"id\":\"1139\"},\"x_range\":{\"id\":\"1116\"},\"x_scale\":{\"id\":\"1120\"},\"y_range\":{\"id\":\"1118\"},\"y_scale\":{\"id\":\"1122\"}},\"id\":\"1115\",\"subtype\":\"Figure\",\"type\":\"Plot\"},{\"attributes\":{},\"id\":\"1137\",\"type\":\"HelpTool\"},{\"attributes\":{},\"id\":\"1135\",\"type\":\"SaveTool\"},{\"attributes\":{\"axis\":{\"id\":\"1124\"},\"coordinates\":null,\"group\":null,\"ticker\":null},\"id\":\"1127\",\"type\":\"Grid\"},{\"attributes\":{\"fill_alpha\":{\"value\":0.25},\"fill_color\":{\"field\":\"color\"},\"hatch_alpha\":{\"value\":0.25},\"hatch_color\":{\"field\":\"color\"},\"line_alpha\":{\"value\":0.25},\"line_color\":{\"field\":\"color\"},\"size\":{\"value\":10},\"x\":{\"field\":\"x\"},\"y\":{\"field\":\"y\"}},\"id\":\"1147\",\"type\":\"Scatter\"},{\"attributes\":{},\"id\":\"1172\",\"type\":\"AllLabels\"},{\"attributes\":{},\"id\":\"1129\",\"type\":\"BasicTicker\"},{\"attributes\":{},\"id\":\"1118\",\"type\":\"DataRange1d\"},{\"attributes\":{},\"id\":\"1171\",\"type\":\"BasicTickFormatter\"},{\"attributes\":{},\"id\":\"1174\",\"type\":\"Selection\"},{\"attributes\":{\"coordinates\":null,\"formatter\":{\"id\":\"1171\"},\"group\":null,\"major_label_policy\":{\"id\":\"1172\"},\"ticker\":{\"id\":\"1125\"}},\"id\":\"1124\",\"type\":\"LinearAxis\"},{\"attributes\":{\"data\":{\"color\":[\"blue\",\"red\",\"blue\",\"blue\",\"red\",\"red\",\"blue\",\"red\",\"blue\",\"red\",\"blue\",\"blue\",\"red\",\"blue\",\"red\",\"blue\",\"red\",\"blue\",\"blue\",\"blue\",\"blue\",\"blue\",\"blue\",\"blue\",\"red\",\"red\",\"blue\",\"red\",\"red\",\"blue\",\"red\",\"blue\",\"red\",\"blue\",\"blue\",\"blue\",\"blue\",\"red\",\"blue\",\"blue\",\"red\",\"red\",\"red\",\"red\",\"blue\",\"blue\",\"red\",\"red\",\"blue\",\"blue\",\"red\",\"red\",\"red\",\"blue\",\"blue\",\"blue\",\"blue\",\"blue\",\"blue\",\"blue\",\"blue\",\"blue\",\"red\",\"red\",\"blue\",\"blue\",\"blue\",\"blue\",\"blue\",\"blue\",\"blue\",\"blue\",\"blue\",\"red\",\"blue\",\"blue\",\"blue\",\"blue\",\"red\",\"blue\",\"blue\",\"red\",\"red\",\"red\",\"blue\",\"red\",\"blue\",\"red\",\"red\",\"red\",\"red\",\"red\",\"red\",\"red\",\"red\",\"blue\",\"blue\",\"red\",\"blue\",\"blue\",\"red\",\"red\",\"blue\",\"blue\",\"red\",\"blue\",\"red\",\"red\",\"red\",\"blue\",\"blue\",\"blue\",\"blue\",\"red\",\"blue\",\"red\",\"blue\",\"red\",\"blue\",\"red\",\"red\",\"blue\",\"red\",\"blue\",\"blue\",\"red\",\"red\",\"blue\",\"blue\",\"blue\",\"blue\",\"red\",\"red\",\"red\",\"blue\",\"red\",\"red\",\"red\",\"red\",\"blue\",\"blue\",\"blue\",\"red\",\"blue\",\"red\",\"blue\",\"blue\",\"red\",\"blue\",\"red\",\"blue\",\"red\",\"red\",\"red\",\"red\",\"red\",\"blue\",\"red\",\"blue\",\"blue\",\"blue\",\"red\",\"red\",\"red\",\"red\",\"red\",\"blue\",\"red\",\"red\",\"blue\",\"blue\",\"blue\",\"blue\",\"red\",\"red\",\"red\",\"blue\",\"blue\",\"blue\",\"blue\",\"blue\",\"blue\",\"blue\",\"red\",\"blue\",\"red\",\"blue\",\"blue\",\"red\",\"blue\",\"red\",\"blue\",\"red\",\"red\",\"red\",\"blue\",\"blue\",\"blue\",\"red\",\"red\",\"red\",\"red\",\"blue\",\"red\",\"blue\",\"blue\",\"red\",\"blue\",\"red\",\"red\",\"red\",\"blue\",\"blue\",\"red\",\"blue\",\"blue\",\"blue\",\"blue\",\"red\",\"red\",\"red\",\"blue\",\"red\",\"red\",\"blue\",\"blue\",\"blue\",\"red\",\"red\",\"blue\",\"red\",\"red\",\"red\",\"blue\",\"red\",\"blue\",\"red\",\"red\",\"blue\",\"blue\",\"red\",\"red\",\"red\",\"red\",\"red\",\"red\",\"blue\",\"blue\",\"blue\",\"blue\",\"red\",\"red\",\"red\",\"blue\",\"red\",\"blue\",\"blue\",\"blue\",\"blue\",\"blue\",\"red\",\"red\",\"blue\",\"blue\",\"blue\",\"blue\",\"red\",\"blue\",\"red\",\"blue\",\"red\",\"red\",\"red\",\"red\",\"red\",\"red\",\"red\",\"red\",\"red\",\"red\",\"red\",\"blue\",\"red\",\"red\",\"red\",\"blue\",\"blue\",\"red\",\"red\",\"blue\",\"blue\",\"red\",\"red\",\"red\",\"red\",\"blue\",\"red\",\"blue\",\"blue\",\"blue\",\"blue\",\"red\",\"blue\",\"red\",\"red\",\"blue\",\"blue\",\"blue\",\"blue\",\"blue\",\"red\",\"red\",\"blue\",\"blue\",\"blue\",\"blue\",\"red\",\"blue\",\"blue\",\"blue\",\"red\",\"red\",\"red\",\"red\",\"blue\",\"blue\",\"blue\",\"blue\",\"red\",\"blue\",\"red\",\"blue\",\"red\",\"blue\",\"red\",\"red\",\"blue\",\"red\",\"red\",\"red\",\"blue\",\"blue\",\"blue\",\"blue\",\"blue\",\"red\",\"blue\",\"red\",\"red\",\"red\",\"red\",\"blue\",\"blue\",\"blue\",\"blue\",\"blue\",\"red\",\"red\",\"red\",\"blue\",\"blue\",\"red\",\"blue\",\"red\",\"red\",\"red\",\"red\",\"red\",\"red\",\"red\",\"red\",\"red\",\"blue\",\"blue\",\"red\",\"blue\",\"blue\",\"blue\",\"blue\",\"red\",\"red\",\"red\",\"blue\",\"red\",\"red\",\"blue\",\"blue\",\"red\",\"blue\",\"blue\",\"blue\",\"red\",\"red\",\"red\",\"red\",\"blue\",\"blue\",\"blue\",\"red\",\"blue\",\"red\",\"red\",\"blue\",\"red\",\"blue\",\"blue\",\"red\",\"blue\",\"blue\",\"red\",\"blue\",\"blue\",\"red\",\"red\",\"blue\",\"blue\",\"red\",\"blue\",\"blue\",\"blue\",\"blue\",\"red\",\"blue\",\"red\",\"blue\",\"red\",\"red\",\"blue\",\"red\",\"red\",\"red\",\"blue\",\"red\",\"red\",\"red\",\"blue\",\"blue\",\"blue\",\"red\",\"blue\",\"red\",\"blue\",\"red\",\"blue\",\"red\",\"blue\",\"blue\",\"red\",\"red\",\"blue\",\"blue\",\"red\",\"red\",\"red\",\"blue\",\"red\",\"red\",\"blue\",\"red\",\"blue\",\"blue\",\"blue\",\"blue\",\"red\",\"red\",\"red\",\"red\",\"blue\",\"blue\",\"red\",\"blue\",\"blue\",\"red\",\"red\",\"blue\",\"blue\",\"blue\",\"red\",\"red\",\"blue\",\"red\",\"blue\",\"blue\",\"blue\",\"blue\",\"blue\",\"red\",\"blue\",\"blue\",\"red\",\"red\",\"red\",\"blue\",\"blue\",\"blue\",\"red\",\"blue\",\"red\",\"blue\",\"red\",\"blue\",\"blue\",\"blue\",\"red\",\"red\",\"blue\",\"blue\",\"red\",\"blue\",\"red\",\"blue\",\"red\",\"red\",\"red\",\"blue\",\"red\",\"blue\",\"red\",\"red\",\"red\",\"blue\",\"red\",\"blue\",\"red\",\"blue\",\"blue\",\"red\",\"red\",\"blue\",\"red\",\"red\",\"red\",\"red\",\"blue\",\"blue\",\"red\",\"red\",\"blue\",\"red\",\"red\",\"red\",\"red\",\"red\",\"blue\",\"blue\",\"blue\",\"red\",\"blue\",\"blue\",\"red\",\"red\",\"red\",\"red\",\"red\",\"red\",\"red\",\"red\",\"red\",\"red\",\"blue\",\"red\",\"blue\",\"blue\",\"blue\",\"blue\",\"blue\",\"blue\",\"red\",\"blue\",\"red\",\"red\",\"red\",\"blue\",\"red\",\"red\",\"blue\",\"blue\",\"red\",\"blue\",\"blue\",\"red\",\"red\",\"blue\",\"red\",\"blue\",\"red\",\"red\",\"blue\",\"blue\",\"red\",\"blue\",\"red\",\"red\",\"blue\",\"red\",\"red\",\"red\",\"red\",\"blue\",\"red\",\"red\",\"red\",\"red\",\"red\",\"red\",\"red\",\"red\",\"red\",\"blue\",\"blue\",\"red\",\"red\",\"red\",\"red\",\"blue\",\"red\",\"red\",\"blue\",\"red\",\"red\",\"blue\",\"blue\",\"blue\",\"blue\",\"blue\",\"blue\",\"blue\",\"red\",\"red\",\"blue\",\"blue\",\"red\",\"blue\",\"blue\",\"red\",\"red\",\"blue\",\"red\",\"red\",\"blue\",\"blue\",\"blue\",\"red\",\"red\",\"blue\",\"red\",\"blue\",\"red\",\"red\",\"red\",\"red\",\"blue\",\"blue\",\"blue\",\"blue\",\"red\",\"blue\",\"red\",\"blue\",\"blue\",\"blue\",\"blue\",\"blue\",\"red\",\"red\",\"blue\",\"red\",\"blue\",\"blue\",\"red\",\"blue\",\"red\",\"blue\",\"red\",\"blue\",\"red\",\"red\",\"blue\",\"red\",\"red\",\"red\",\"red\",\"blue\",\"red\",\"red\",\"red\",\"blue\",\"red\",\"red\",\"red\",\"red\",\"blue\",\"blue\",\"blue\",\"blue\",\"blue\",\"blue\",\"blue\",\"red\",\"red\",\"blue\",\"red\",\"blue\",\"red\",\"red\",\"blue\",\"blue\",\"blue\",\"blue\",\"blue\",\"red\",\"blue\",\"blue\",\"blue\",\"red\",\"blue\",\"red\",\"blue\",\"blue\",\"blue\",\"red\",\"red\",\"blue\",\"red\",\"blue\",\"blue\",\"red\",\"red\",\"blue\",\"red\",\"red\",\"blue\",\"blue\",\"red\",\"blue\",\"blue\",\"red\",\"red\",\"red\",\"blue\",\"red\",\"red\",\"blue\",\"blue\",\"red\",\"blue\",\"blue\",\"red\",\"red\",\"blue\",\"blue\",\"red\",\"red\",\"red\",\"red\",\"blue\",\"red\",\"blue\",\"red\",\"blue\",\"red\",\"red\",\"red\",\"red\",\"red\",\"red\",\"blue\",\"blue\",\"blue\",\"blue\",\"red\",\"blue\",\"red\",\"red\",\"blue\",\"red\",\"red\",\"blue\",\"red\",\"red\",\"blue\",\"red\",\"red\",\"red\",\"blue\",\"blue\",\"red\",\"blue\",\"red\",\"red\",\"red\",\"red\",\"red\",\"blue\",\"blue\",\"red\",\"red\",\"red\",\"red\",\"red\",\"red\",\"blue\",\"blue\",\"blue\",\"blue\",\"red\",\"red\",\"red\",\"blue\",\"red\",\"red\",\"red\",\"blue\",\"red\",\"red\",\"blue\",\"red\",\"red\",\"blue\",\"blue\",\"red\",\"blue\",\"blue\",\"red\",\"blue\",\"blue\",\"red\",\"blue\",\"blue\",\"blue\",\"red\",\"red\",\"blue\",\"blue\",\"red\",\"red\",\"blue\",\"red\",\"blue\",\"red\",\"blue\",\"red\",\"blue\",\"blue\",\"red\",\"blue\",\"blue\",\"red\",\"red\",\"blue\",\"blue\",\"red\",\"red\",\"red\",\"blue\",\"blue\",\"blue\",\"red\",\"blue\",\"red\",\"red\",\"red\",\"red\",\"red\",\"red\",\"blue\",\"blue\",\"blue\",\"red\",\"red\",\"blue\",\"blue\",\"red\",\"red\",\"red\",\"blue\",\"blue\",\"red\",\"blue\",\"red\",\"red\",\"red\",\"blue\",\"blue\",\"blue\",\"blue\",\"blue\",\"red\",\"blue\",\"red\",\"red\",\"blue\",\"blue\",\"red\",\"blue\",\"blue\",\"red\",\"red\",\"blue\",\"blue\",\"red\",\"red\",\"red\",\"blue\",\"red\",\"blue\",\"red\",\"blue\",\"blue\",\"blue\",\"blue\",\"red\",\"blue\",\"blue\",\"blue\",\"blue\",\"red\",\"blue\",\"red\",\"blue\",\"red\",\"red\",\"red\",\"blue\",\"red\",\"blue\",\"blue\",\"blue\",\"blue\",\"red\",\"red\",\"blue\",\"blue\",\"red\",\"red\",\"blue\",\"red\",\"red\",\"blue\",\"red\",\"blue\",\"red\",\"red\",\"red\",\"blue\",\"red\",\"blue\",\"red\",\"blue\",\"red\",\"red\",\"blue\",\"blue\",\"red\",\"red\",\"red\",\"red\",\"red\",\"red\",\"red\",\"red\",\"blue\",\"blue\",\"red\",\"red\",\"blue\",\"red\",\"red\",\"red\",\"blue\",\"red\",\"blue\",\"blue\",\"red\",\"red\",\"red\",\"blue\",\"blue\",\"blue\",\"blue\",\"blue\",\"blue\",\"red\",\"blue\",\"blue\",\"red\",\"blue\",\"blue\",\"blue\",\"blue\",\"blue\",\"red\",\"red\",\"red\",\"red\",\"blue\",\"blue\",\"blue\",\"blue\",\"blue\",\"blue\",\"blue\",\"blue\",\"blue\",\"blue\",\"blue\",\"red\",\"blue\",\"blue\",\"blue\",\"blue\",\"blue\",\"red\",\"blue\",\"blue\",\"red\",\"blue\",\"red\",\"blue\",\"blue\",\"blue\",\"red\",\"red\",\"blue\",\"blue\",\"red\",\"blue\",\"blue\",\"blue\",\"blue\",\"red\",\"blue\",\"red\",\"red\",\"blue\",\"red\",\"red\",\"red\",\"red\",\"red\",\"blue\",\"red\",\"blue\",\"red\",\"blue\",\"red\",\"red\",\"red\",\"red\",\"blue\",\"blue\",\"blue\",\"red\",\"blue\",\"red\",\"red\",\"blue\",\"red\",\"red\",\"red\",\"red\",\"blue\",\"blue\",\"red\",\"red\",\"red\",\"blue\",\"red\",\"red\",\"red\",\"red\",\"red\",\"red\",\"blue\",\"blue\",\"red\",\"blue\",\"red\",\"red\",\"blue\",\"blue\",\"red\",\"blue\",\"blue\",\"blue\",\"red\",\"blue\",\"red\",\"red\",\"blue\",\"blue\",\"red\",\"red\",\"blue\",\"blue\",\"blue\",\"red\",\"red\",\"blue\",\"blue\",\"blue\",\"red\",\"blue\",\"blue\",\"blue\",\"red\",\"blue\",\"red\",\"red\",\"blue\",\"red\",\"red\",\"red\",\"red\",\"blue\",\"blue\",\"blue\",\"blue\",\"blue\",\"red\",\"red\",\"blue\",\"red\",\"red\",\"blue\",\"blue\",\"red\",\"blue\",\"blue\",\"red\",\"red\",\"blue\",\"blue\",\"red\",\"red\",\"red\",\"blue\",\"blue\",\"blue\",\"blue\",\"red\",\"red\",\"red\",\"red\",\"red\",\"red\",\"blue\",\"blue\",\"blue\",\"red\",\"blue\",\"blue\",\"red\",\"blue\",\"blue\",\"blue\",\"blue\",\"red\",\"blue\",\"blue\",\"blue\",\"red\",\"blue\",\"blue\",\"red\",\"red\",\"red\",\"blue\",\"blue\",\"blue\",\"red\",\"red\",\"blue\",\"red\",\"red\",\"blue\",\"red\",\"red\",\"blue\",\"red\",\"red\",\"blue\",\"red\",\"blue\",\"red\",\"blue\",\"blue\",\"blue\",\"red\",\"red\",\"red\",\"red\",\"blue\",\"blue\",\"red\",\"red\",\"red\",\"blue\",\"blue\",\"red\",\"blue\",\"blue\",\"red\",\"red\",\"blue\",\"blue\",\"red\",\"blue\",\"blue\",\"red\",\"red\",\"red\",\"red\",\"red\",\"blue\",\"red\",\"blue\",\"red\",\"red\",\"blue\",\"red\",\"blue\",\"red\",\"red\",\"red\",\"red\",\"red\",\"red\",\"red\",\"red\",\"blue\",\"red\",\"blue\",\"red\",\"blue\",\"red\",\"blue\",\"red\",\"red\",\"blue\",\"red\",\"blue\",\"blue\",\"red\",\"blue\",\"red\",\"red\",\"red\",\"red\",\"red\",\"red\",\"blue\",\"blue\",\"blue\",\"red\",\"red\",\"blue\",\"red\",\"blue\",\"blue\",\"blue\",\"red\",\"red\",\"blue\",\"blue\",\"red\",\"red\",\"red\",\"blue\",\"red\",\"red\",\"red\",\"blue\",\"red\",\"red\",\"blue\",\"red\",\"red\",\"blue\",\"blue\"],\"x\":{\"__ndarray__\":\"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\",\"dtype\":\"float32\",\"order\":\"little\",\"shape\":[1280]},\"y\":{\"__ndarray__\":\"RzX+P5umkEB2p0LBcTBeQVMkscAB6onBiAjCPitDzcGb08HBgRN7QKvDKUHKZRNBlovFQauOcUGPoajBpUOWwcL5Y0BywzXBhM5Nv04tL0FaDTDApd5iwdZQZcFT1YnBeoaOQALJH0EoIQDBeR0kwevBfkGr687ApHCmwIbocsGvpEY+6M2KQY/REkDbol/BBwVowNieScGtySpBsc9GweSe2ED3RRHBpxX/vzS1jEHr5AJCGfOkQVF4KcDE3G9AxfviQS2b0UDLNJJBAg/oQKem6r5wKlbBOFkmQRwnLkGBW9FBNKNjwaJLasHv9ZZBqtYkwMLhLEHYJIjAYCVjwUJDcEH50nnBVvUjwUKlvUHHEU1Bg1KoQaLUxsEyl9O+Mx6uwNVcy8FnV9hAnMfLwAeUhMF59iNBpK+mQOfhdUB19kjB22f5wOc+l8FWvL8/nwWMwUGNT8FLH/LAjlNVQdH3s8HbngjBopqOweHlHEEIDiPB9MqIwcGNpcH+Yv0/8PH8QCHQgcG+FEhB+ppeQSfHjkGVogFB0PiZwW+KeUF7TF5AxTPev7TKgcHLkaPAJqI4wa4inMHCRxdBlQFOQOsUisFGY/3A+h4rwVP8YEG6C7RBVcg0QbPYkUHhOvHAQf9KQXqlSsHstktBtUcKQb8FksHZud3A3MuPQQ/DfkBSuqbBlXuTwWRhK0D7VNc/vQdoQfpeB0HLRDLB3Dg5wfFcaMG9txrBwb77QIPmRMEuaZg/sVRCwU9AvsFpdTJAtJQsvsdUfMHif/bATiO+wUFj0MEj0Ka/4i3kQU1ruj+SrrfBOQqwQJNMAkHyPXFBoQEcwVZNbkF71K5B9EaaweBw/kHbN95AOzPawJ/jdEEoDplBbXW1wV/vckFWvIvBoSBDwIH7FcEsPLtBIUyxwQ2G/ECwqbbBZ7LIwNLRnsEpa99B6AwAQPdkO0HW9VrBuWjnwDFa+0HHaK1AnlGBQaxPKkF08ZxB25SDwZ1af0GpebbBb5mYQPYA9kDRQo9B/fyswcjvgEAQSsLBd0MJQbgHYEFUOopB9BwxP0XQ1cAjlPFBoDnuwB0avUDhR2VB9m8JwfnCtD8PcVBB62RYwWM/WcFpzKe/RhLwQOdEzsFNkqhAe8wSP00FmMGJdfBBbKz3QQ2Of8HxFEhBFPKOwcdkb8HADaJBQUHAwUX+VcFtLd9AAzcbwDGpPEGg7qbBl5jDwAkwosBoJ0rBvy5uQVpN8EAGAMfBXLAfwRQzlcEABYzAvfwRQACLdEBgBXbAVx8OQcBeJsEEgx9Bu/6CwStcLkGKa9RBtinlQc9UEkGWCn9BAxIvQYX+FEF+eE9BNseuwb4feEBQwKTBBUwGwSHCWUGGaxhBif6TwekbqkGusi3Bi1zoQErtS8AIuJxARMqXwAa5hj/kDFPAFd+sQF4hpsHVBabBZcMcQaPd1L/RCcZANiQ1wbX4iUFffgpBYgOPwGplYcEuXS5BSm2cQalsL8DfN6I+1tfAwGFRikEs2G7B1BYUwYxV8kDPsKZBtl0nQWIOQEEcts5BNPmNwYAehMEMOoE/a+FEv1a1gMG6OH7Bth3TQRPz70EQ1rLBgsAeQQ2qikFlwlrAGiGmwQTsnMGc2+3AA/79QSMR3kBuUQfBOmm3wEPkob9f2j9B+RIIQVqYG0AYK1bB+4R4QAeI4EDyUVpAL1JxQKcsN0D6qHg/Si1RQNe0D8EI3YjBSVYLwfzoA8H4FBbBw3yLwX5nHsA42WTBllNVQbioeUHPi4FA6B+iQD2trMF24kfBMESHwUdKCsGHJ+PA6xO6wEYAf8GY8t7AEMmcwa2LN0FoHjHB85p7waDTa8GDj/E/k4fBwW9KwcH2A2xBtFW0Qfsvi0HTbqDBIzSFv7KijsFT8GdBpxiLwQ7PWkF++61BsiL1P2g+qkD1lGNBySNpPuawDEGtkqnBaNckwBlrPkEc2VbANUJ4QUzGJEEQRwrBNob7v8djP0DImDZB+/MkwQ4Z3D/j/qBAnD+wwLTr6z5s+7E/GiHaQJQQPcG8xyTAYu6Owcxg2kGNwMDBuiosQU5y1EBm4QNBnLTAQWROu8G2wobBPTHJwKWkwb+O5K1AfW2mwR7lNMHc4YHBWbSNweeYHsF7+SU/EWYfQZDL3L8ct/u+bv1pQRH9mb/K0WG+fqJTQYtmBMFqyYHBuqOAQZHJOkHZUI/BgN6owWiU9cDvUsFBUHqowV+loMG2l4ZAhueawe7mnkGu8DjBno2OQSvox8G+zoFBP42rwRiymcAzewlArf6ewddOxcFSczFBI38hwXk3usCJYSfBezqjvQcEPEERSkDBGZ+hv/LkBEJnHYtBAW3AwNH45EGEKW9AGLQzQU2zjsG3SQ9BezF7wVXan8FR9AxAhsOSwdhBB8HKiGW9b4nTPXlhrkAZ/PtAk8rGQSr4oMGoNpbAJphXQSwbVEBFafVBfj+UwQJBKMG5gpJB9vwswdwVTkHsry7BOaXIvxj7oME/ckdB7UVKQSu7WcCxsme/l89HQabhnb5pawnA8m9zwWQjB7+9eaRAdNDXwRkSnT+VMjs/GUIoQA5Okj7pAjhB0CIVQZg3BMBWWt3BPlWZQbEhpz9maxDBS1a0QTCUxEDnIM3AF7M3wchnvj3dbTVBdBX2wNnBLEEm/A5B4qL0Qe21isFpr+TAK8SQwTN2oMD4x5DB3xp4Qc2dCcE2q31BdWGNwadpp7+KfKTBugsXwXsT5cC79KLArtvyQeJUz78Lk61A6i0gwfNOGcBSx/BAn5OJwULDAUBj3R/ANm2AQbM+hMFUoHzAmC9TQaNtgMAGVZXBvxXLwRDRD8GcVWTB5KebwSnpxkB237TBW37iQC3sPMCPLLLBF5LHwcHurMGi9B7BotqJQN9tEME2VwRBUTJpwVjgMEElPDtBmfsIwflQ2sChJl3AXVfkQI5yu8EA4Z3BkMiIwWIllEEQS43BUH+mwRyKr8FFCk7B5LRuQRiVcMEgbD9Bz4SUwKyk2kFWnhNBtTfdv7+PaMDVdeG/xrKrQGL0dcF3g5vBRsN0QR6kksEHNTTB4RmWQSrmhUF4mo1BjUYEQvCbIkGrj07BwnfLQSlYMEFaSyFAiqruQOPql0EKo9lBzyu0wZ/zn8F+7GVB7YIxQVdP7cCy8NjAyzWmwbXYlcEQwnDAKkqTwZcOgsEDL8HB8ojUQc5lnUEW4t/AzFYUwaZhYUHoYE9BPhaqwBjK+sCOEbtBDBM1QX9k1MDmjZrBiqKZQRk4IcBJsLu/b42zQAWQh0F1/8zAiIFfQNYIqUDaNCNB+9nVQVn3NsEJrTDBuS/MwWl9AEKILUlBDTStwb7fc0GqNiVB21p6QPoDN0BjbAdBje/1wMiqiMHpLRdB383FQcAJckHqKKvBYhMMQRiim0BoKr3AHp2cQcQgqEGRkVJB1YPyQUh2GkHQXZfBGjAfvzw4yED1IHpB6QUuQXutE0F0iTw/ZL8mQV1MeUBQBmpAqJMIwQOco8AMIMxBxAbBwJ9Cq8G24NlA1USUQTzkBMCtEVtBPdTOv9JLX8F2f3xBVVSDwUpD90Hl9DBBzePTQEntREGAzI7BLXnqQZ7do8GySFJB2iJUQcF+y8F9EvvA0YVaP4ji/EG7LSfA+50HwS5jnMEXxptBZVRFwXLqmr/Enq7APB2RQFO5C0HOtbdB4vSIQVMIRMHtlQBBRCH7QXzmasFgP8DB2q88QCy3Z0Hbs6pBu5RSQdx0J0G5jB09d8FxwWSFTMFv7I7AunDIQXT7MUF4ayNBnErxwAV85UGvamNBwp6UwUkTLcA8JABAH1+DQBTLDcGeDx1BHiLRv2LjjUGachfBDZgPwT7p68DCMWJAF3xGQYVTzz83L+pBu5DJPkRWRUFdDPlAPTuXQPqqB0E8Na3B3VnvwHsZPcChJ1JBjQWzwaX968COIIrB2FXLvzcoSsFHovfAd0KUwYvOLcH9KJc/kiUJvxdlLsENsf9A4iISQJsBsEBkIFlBQTCWwQQKU0GwKR9Awlx5wUk/eUHc8hzAFJ2eQOyRJ8Eh11JBXclQwT/Cn8C/04DAno6MwbgQhcH+qm9ANi3xQf4mGsEY8chAcVkywcJX2sDcfjtBKY5IwYjnYsHh56NAoP++QPbjL8FZmSnAwEaGwWA2icG18nfB+JcJQfIv0EDewnxAW+yrwcSDrMF+pddAuCIJQQanBEGlo5dBtn88QSqz3j9esh1BDZBDweScwMAaAopATSdRwesPg0F+kWNByWSKQa0DIT/t5qrBM/6TwO49esGoshpBHsDUvNtpt0HpCcjA/t6MQNleOEG9qs/AXeXXQIpbRsEHsbfAuJC4wYsqAUHSNBzB+jJSQa1ntEFVjQ5BLBjWQU3Nb0HnSQRBVQiCQXwznMEvgmDBfA6TwYASlcAHNRFBc189QXtuwT5mcO1AsFppwTtYx8GvNFLB9k6mwDiDlMEfEcXBxk1QvmIKxEExcvdAouGdwcafkEHvYoHBOopPwaRSqEHpvGvBVJs+weQxacBYyFXA1wIVwCY8w0BgumLBhbj0QWSCFUCBm87BMJbUwJ84gsGXdHVBYpBxQYYLXMCv/IrBlVB5wTZWtEFSuTNB1UbxQZEPJ0H6wspBmNo7QFwTfUHweLPBvz23vwQzfkAg0drAaeJBQYYzAUFQKORB2vpawUDeEkFFTbvBjQKqwVvuxMCmkQjBouCLP+VPtMFLP3zAoT7PQTYoTkExlK5Ak0ReQeM4Mj/3QK9AO/qZwWbRjEAbpJRBsAZNQWzfPEGcWaa/X/JnwePVo8E1ZyHBdga/QQkbEz+crUS9iw9YvrmalcFWzq7BzH/ewIuQRcEI8Ke/N+CcQSiBmsByRmXANR3eQba1tsE9/cnAoTCQwWlcAkIgIUxBEsZSQYWNnsFPMobAMoUPwJiOnEHITLtB6ba2wQZeHcEBvZfBLiBvQXSekz4ucavB6lFswbv46cD486tBPjtdwYIAKEGMKrBBFJyEQQOuksBI8Y1BJ/mXweHZPMAQ9MVAyI2UwQw0i8BMhX7BNbGFQOA1gEF3RxXA9za6QJlyakHaqyNA7R/ZQXOil0Bo8TBBknnUQec7JL92SYnBrdMUQFfyJsFq8jBBI6eUwVqcukBkhudAWQKVP9NoOcGs3SJBxV+SQU2DdMHBQ8FByodFQWaQIUESzprBDkOPQTS7pEG6DlJByjJYwDExXMHbiTbALKz7PhM6M0GxjbNBzNj6vnaNaEHe6ihBFWbEwKRDBcDZKrFAezw9QdK78ECeXehANrqdvlbEPEFheJ7BI843QPOGUEF3oIbAfbyQwYj+CEHaJmJBWjxvQYhLv8EpzNbB7gkawRJX8T1NRsbB0WwIQJSwIsH7LlDBlMuqwBukG0GWAxXBYjulwfF4isEFFqfBXP9sQboJgkH6j07BrsX+QDqnnT+AYJO+72+lwVPCF0E3r8XBUW6twbFBEsGDJxtBJqmUwZZI50GTxpPBCr3QQUHWlcEmnpzBwX2vweB8XUF6ZZ7BCnM/QTWjj8Gxqd3AJowPQHyHY8GToW3BEZNzwA4nOUFtRV3B5NedwepxaMGlY+xAJPguwVGwAEEf1YrBbW4qQGCvaUE5d4bBWQJPwSDJK8Cym6HBkJklwD+ESUEFPofAjf3rwPDd8UEPMNNAWh/swOJYzUH6K5pBKXnpQFiMM0BeUZjBY36JwRLtgUHhZqXAWk3MPlgGtr+9YczBBRU6Qe+qfECPyCNAOUfSwWrOIUFR6YrBPgFfQb67SUHIDtNAM27YwURMv78yjzRBOBPvQa8QfT+NGqHBhdSBQREZ4UD0w97Al2ViQH/VWkFYpHHAcIevwSuTjsClErlATpSPQG4U48G7PCE/kqdUQdGzmcEPQZbB19CJwaJygEG39HpA+91uwf83R0HylU7B8RfWwTj0rEB2tYXARoaAwbvsAMG4LVfBtoBOwUqHzED5DklAuJewwerLhsGOQvu/zJEeQHOdicD+R09BKoDwQc4KpcG1zlRBLX05wYIyyMB0EZjBLs44wOTQVsFacKDAiDpXQVrhocFBagTBuT2awXuGIcGNUrjBkxAKQbI7W8EQPZ1BM41PQexULMEn+kDAa6xHQSvwqMFfsglBDQPYwVIv6UEuLmXBJcDfQa97GkFt64DBatVhQLTkmME7YFfBBFtvQfIt1UFJ0LNAo8wzwTamS8Bw77vB6hWEQT/XJ0Hd47jALlbhQETam8C+znhANzWLQXVoDEB7RjZBfqYOQRkuPUGFq6hAQl86wW/+V8F2kBRBIvc9wYNP+EGmHIzBHCqAQcdBhMBddTBBIhuZQSSgf8F1UKXBFmGiwUjwoMG+WblA1U6lwXS1z79TepVBpAIKwfvOmcELdafBfW1rQeTUiEDWbrzBk/hLQesFg0HOQW/B9ihXQDgM2MHVEpDBrFEgweCFIcEhThBBaz8uwcLWpkCAUG1BfDmdwRcbDcFbm4nBAX39QPol68DuGjxAUUK7QeYNusF67tpAN+rvQRHPRMCuOnNB0BLZvzC8e8BUfDtBr5RPQe6aub9LuNZAqa8Rvx3YpsAK943BAggLQWm6R0FHKb5BB/MAQohrLkEqb/pAI1D3QR54vMFP6NpBSHd8wdH6SUHhKILBQI2fQWNG10DydpNAJtMiQX2QvUDh01RBgTZkwD3T0UDiP/dBjKysQRufCMG+nJFBWRkIwSEQlcHwO6vAIH2eP59xs0FP74ZBoWP/QAV6W8HakuVAMxTMP7PAeMEpU5jBxgBMQYjej0CSRU9BVpXJQFAAqL8KHdrAOHg+wdoNsEA=\",\"dtype\":\"float32\",\"order\":\"little\",\"shape\":[1280]}},\"selected\":{\"id\":\"1174\"},\"selection_policy\":{\"id\":\"1173\"}},\"id\":\"1114\",\"type\":\"ColumnDataSource\"},{\"attributes\":{},\"id\":\"1169\",\"type\":\"AllLabels\"},{\"attributes\":{\"axis\":{\"id\":\"1128\"},\"coordinates\":null,\"dimension\":1,\"group\":null,\"ticker\":null},\"id\":\"1131\",\"type\":\"Grid\"},{\"attributes\":{\"fill_alpha\":{\"value\":0.1},\"fill_color\":{\"field\":\"color\"},\"hatch_alpha\":{\"value\":0.1},\"hatch_color\":{\"field\":\"color\"},\"line_alpha\":{\"value\":0.1},\"line_color\":{\"field\":\"color\"},\"size\":{\"value\":10},\"x\":{\"field\":\"x\"},\"y\":{\"field\":\"y\"}},\"id\":\"1148\",\"type\":\"Scatter\"},{\"attributes\":{},\"id\":\"1122\",\"type\":\"LinearScale\"},{\"attributes\":{\"fill_alpha\":{\"value\":0.2},\"fill_color\":{\"field\":\"color\"},\"hatch_alpha\":{\"value\":0.2},\"hatch_color\":{\"field\":\"color\"},\"line_alpha\":{\"value\":0.2},\"line_color\":{\"field\":\"color\"},\"size\":{\"value\":10},\"x\":{\"field\":\"x\"},\"y\":{\"field\":\"y\"}},\"id\":\"1149\",\"type\":\"Scatter\"},{\"attributes\":{\"coordinates\":null,\"formatter\":{\"id\":\"1168\"},\"group\":null,\"major_label_policy\":{\"id\":\"1169\"},\"ticker\":{\"id\":\"1129\"}},\"id\":\"1128\",\"type\":\"LinearAxis\"},{\"attributes\":{\"source\":{\"id\":\"1114\"}},\"id\":\"1151\",\"type\":\"CDSView\"},{\"attributes\":{},\"id\":\"1120\",\"type\":\"LinearScale\"},{\"attributes\":{\"callback\":null,\"tooltips\":[]},\"id\":\"1152\",\"type\":\"HoverTool\"},{\"attributes\":{\"coordinates\":null,\"group\":null},\"id\":\"1165\",\"type\":\"Title\"},{\"attributes\":{\"coordinates\":null,\"data_source\":{\"id\":\"1114\"},\"glyph\":{\"id\":\"1147\"},\"group\":null,\"hover_glyph\":null,\"muted_glyph\":{\"id\":\"1149\"},\"nonselection_glyph\":{\"id\":\"1148\"},\"view\":{\"id\":\"1151\"}},\"id\":\"1150\",\"type\":\"GlyphRenderer\"},{\"attributes\":{\"active_scroll\":{\"id\":\"1133\"},\"tools\":[{\"id\":\"1132\"},{\"id\":\"1133\"},{\"id\":\"1134\"},{\"id\":\"1135\"},{\"id\":\"1136\"},{\"id\":\"1137\"},{\"id\":\"1152\"}]},\"id\":\"1139\",\"type\":\"Toolbar\"},{\"attributes\":{},\"id\":\"1136\",\"type\":\"ResetTool\"},{\"attributes\":{},\"id\":\"1125\",\"type\":\"BasicTicker\"},{\"attributes\":{},\"id\":\"1173\",\"type\":\"UnionRenderers\"},{\"attributes\":{},\"id\":\"1168\",\"type\":\"BasicTickFormatter\"},{\"attributes\":{\"overlay\":{\"id\":\"1138\"}},\"id\":\"1134\",\"type\":\"BoxZoomTool\"},{\"attributes\":{\"bottom_units\":\"screen\",\"coordinates\":null,\"fill_alpha\":0.5,\"fill_color\":\"lightgrey\",\"group\":null,\"left_units\":\"screen\",\"level\":\"overlay\",\"line_alpha\":1.0,\"line_color\":\"black\",\"line_dash\":[4,4],\"line_width\":2,\"right_units\":\"screen\",\"syncable\":false,\"top_units\":\"screen\"},\"id\":\"1138\",\"type\":\"BoxAnnotation\"},{\"attributes\":{},\"id\":\"1132\",\"type\":\"PanTool\"},{\"attributes\":{},\"id\":\"1116\",\"type\":\"DataRange1d\"},{\"attributes\":{},\"id\":\"1133\",\"type\":\"WheelZoomTool\"}],\"root_ids\":[\"1115\"]},\"title\":\"Bokeh Application\",\"version\":\"2.4.2\"}};\n",
       "  const render_items = [{\"docid\":\"02e9b85a-dc56-4a29-8e8e-1c4da7900db3\",\"root_ids\":[\"1115\"],\"roots\":{\"1115\":\"578ba7f6-a21c-4e3b-9f10-97c64f7abb1f\"}}];\n",
       "  root.Bokeh.embed.embed_items_notebook(docs_json, render_items);\n",
       "\n",
       "  }\n",
       "  if (root.Bokeh !== undefined) {\n",
       "    embed_document(root);\n",
       "  } else {\n",
       "    let attempts = 0;\n",
       "    const timer = setInterval(function(root) {\n",
       "      if (root.Bokeh !== undefined) {\n",
       "        clearInterval(timer);\n",
       "        embed_document(root);\n",
       "      } else {\n",
       "        attempts++;\n",
       "        if (attempts > 100) {\n",
       "          clearInterval(timer);\n",
       "          console.log(\"Bokeh: ERROR: Unable to run BokehJS code because BokehJS library is missing\");\n",
       "        }\n",
       "      }\n",
       "    }, 10, root)\n",
       "  }\n",
       "})(window);"
      ],
      "application/vnd.bokehjs_exec.v0+json": ""
     },
     "metadata": {
      "application/vnd.bokehjs_exec.v0+json": {
       "id": "1115"
      }
     },
     "output_type": "display_data"
    },
    {
     "data": {
      "text/html": [
       "<div style=\"display: table;\"><div style=\"display: table-row;\"><div style=\"display: table-cell;\"><b title=\"bokeh.plotting.figure.Figure\">Figure</b>(</div><div style=\"display: table-cell;\">id&nbsp;=&nbsp;'1115', <span id=\"1232\" style=\"cursor: pointer;\">&hellip;)</span></div></div><div class=\"1231\" style=\"display: none;\"><div style=\"display: table-cell;\"></div><div style=\"display: table-cell;\">above&nbsp;=&nbsp;[],</div></div><div class=\"1231\" style=\"display: none;\"><div style=\"display: table-cell;\"></div><div style=\"display: table-cell;\">align&nbsp;=&nbsp;'start',</div></div><div class=\"1231\" style=\"display: none;\"><div style=\"display: table-cell;\"></div><div style=\"display: table-cell;\">aspect_ratio&nbsp;=&nbsp;None,</div></div><div class=\"1231\" style=\"display: none;\"><div style=\"display: table-cell;\"></div><div style=\"display: table-cell;\">aspect_scale&nbsp;=&nbsp;1,</div></div><div class=\"1231\" style=\"display: none;\"><div style=\"display: table-cell;\"></div><div style=\"display: table-cell;\">background&nbsp;=&nbsp;None,</div></div><div class=\"1231\" style=\"display: none;\"><div style=\"display: table-cell;\"></div><div style=\"display: table-cell;\">background_fill_alpha&nbsp;=&nbsp;1.0,</div></div><div class=\"1231\" style=\"display: none;\"><div style=\"display: table-cell;\"></div><div style=\"display: table-cell;\">background_fill_color&nbsp;=&nbsp;'#ffffff',</div></div><div class=\"1231\" style=\"display: none;\"><div style=\"display: table-cell;\"></div><div style=\"display: table-cell;\">below&nbsp;=&nbsp;[LinearAxis(id='1124', ...)],</div></div><div class=\"1231\" style=\"display: none;\"><div style=\"display: table-cell;\"></div><div style=\"display: table-cell;\">border_fill_alpha&nbsp;=&nbsp;1.0,</div></div><div class=\"1231\" style=\"display: none;\"><div style=\"display: table-cell;\"></div><div style=\"display: table-cell;\">border_fill_color&nbsp;=&nbsp;'#ffffff',</div></div><div class=\"1231\" style=\"display: none;\"><div style=\"display: table-cell;\"></div><div style=\"display: table-cell;\">center&nbsp;=&nbsp;[Grid(id='1127', ...), Grid(id='1131', ...)],</div></div><div class=\"1231\" style=\"display: none;\"><div style=\"display: table-cell;\"></div><div style=\"display: table-cell;\">css_classes&nbsp;=&nbsp;[],</div></div><div class=\"1231\" style=\"display: none;\"><div style=\"display: table-cell;\"></div><div style=\"display: table-cell;\">disabled&nbsp;=&nbsp;False,</div></div><div class=\"1231\" style=\"display: none;\"><div style=\"display: table-cell;\"></div><div style=\"display: table-cell;\">extra_x_ranges&nbsp;=&nbsp;{},</div></div><div class=\"1231\" style=\"display: none;\"><div style=\"display: table-cell;\"></div><div style=\"display: table-cell;\">extra_x_scales&nbsp;=&nbsp;{},</div></div><div class=\"1231\" style=\"display: none;\"><div style=\"display: table-cell;\"></div><div style=\"display: table-cell;\">extra_y_ranges&nbsp;=&nbsp;{},</div></div><div class=\"1231\" style=\"display: none;\"><div style=\"display: table-cell;\"></div><div style=\"display: table-cell;\">extra_y_scales&nbsp;=&nbsp;{},</div></div><div class=\"1231\" style=\"display: none;\"><div style=\"display: table-cell;\"></div><div style=\"display: table-cell;\">frame_height&nbsp;=&nbsp;None,</div></div><div class=\"1231\" style=\"display: none;\"><div style=\"display: table-cell;\"></div><div style=\"display: table-cell;\">frame_width&nbsp;=&nbsp;None,</div></div><div class=\"1231\" style=\"display: none;\"><div style=\"display: table-cell;\"></div><div style=\"display: table-cell;\">height&nbsp;=&nbsp;400,</div></div><div class=\"1231\" style=\"display: none;\"><div style=\"display: table-cell;\"></div><div style=\"display: table-cell;\">height_policy&nbsp;=&nbsp;'auto',</div></div><div class=\"1231\" style=\"display: none;\"><div style=\"display: table-cell;\"></div><div style=\"display: table-cell;\">hidpi&nbsp;=&nbsp;True,</div></div><div class=\"1231\" style=\"display: none;\"><div style=\"display: table-cell;\"></div><div style=\"display: table-cell;\">inner_height&nbsp;=&nbsp;0,</div></div><div class=\"1231\" style=\"display: none;\"><div style=\"display: table-cell;\"></div><div style=\"display: table-cell;\">inner_width&nbsp;=&nbsp;0,</div></div><div class=\"1231\" style=\"display: none;\"><div style=\"display: table-cell;\"></div><div style=\"display: table-cell;\">js_event_callbacks&nbsp;=&nbsp;{},</div></div><div class=\"1231\" style=\"display: none;\"><div style=\"display: table-cell;\"></div><div style=\"display: table-cell;\">js_property_callbacks&nbsp;=&nbsp;{},</div></div><div class=\"1231\" style=\"display: none;\"><div style=\"display: table-cell;\"></div><div style=\"display: table-cell;\">left&nbsp;=&nbsp;[LinearAxis(id='1128', ...)],</div></div><div class=\"1231\" style=\"display: none;\"><div style=\"display: table-cell;\"></div><div style=\"display: table-cell;\">lod_factor&nbsp;=&nbsp;10,</div></div><div class=\"1231\" style=\"display: none;\"><div style=\"display: table-cell;\"></div><div style=\"display: table-cell;\">lod_interval&nbsp;=&nbsp;300,</div></div><div class=\"1231\" style=\"display: none;\"><div style=\"display: table-cell;\"></div><div style=\"display: table-cell;\">lod_threshold&nbsp;=&nbsp;2000,</div></div><div class=\"1231\" style=\"display: none;\"><div style=\"display: table-cell;\"></div><div style=\"display: table-cell;\">lod_timeout&nbsp;=&nbsp;500,</div></div><div class=\"1231\" style=\"display: none;\"><div style=\"display: table-cell;\"></div><div style=\"display: table-cell;\">margin&nbsp;=&nbsp;(0, 0, 0, 0),</div></div><div class=\"1231\" style=\"display: none;\"><div style=\"display: table-cell;\"></div><div style=\"display: table-cell;\">match_aspect&nbsp;=&nbsp;False,</div></div><div class=\"1231\" style=\"display: none;\"><div style=\"display: table-cell;\"></div><div style=\"display: table-cell;\">max_height&nbsp;=&nbsp;None,</div></div><div class=\"1231\" style=\"display: none;\"><div style=\"display: table-cell;\"></div><div style=\"display: table-cell;\">max_width&nbsp;=&nbsp;None,</div></div><div class=\"1231\" style=\"display: none;\"><div style=\"display: table-cell;\"></div><div style=\"display: table-cell;\">min_border&nbsp;=&nbsp;5,</div></div><div class=\"1231\" style=\"display: none;\"><div style=\"display: table-cell;\"></div><div style=\"display: table-cell;\">min_border_bottom&nbsp;=&nbsp;None,</div></div><div class=\"1231\" style=\"display: none;\"><div style=\"display: table-cell;\"></div><div style=\"display: table-cell;\">min_border_left&nbsp;=&nbsp;None,</div></div><div class=\"1231\" style=\"display: none;\"><div style=\"display: table-cell;\"></div><div style=\"display: table-cell;\">min_border_right&nbsp;=&nbsp;None,</div></div><div class=\"1231\" style=\"display: none;\"><div style=\"display: table-cell;\"></div><div style=\"display: table-cell;\">min_border_top&nbsp;=&nbsp;None,</div></div><div class=\"1231\" style=\"display: none;\"><div style=\"display: table-cell;\"></div><div style=\"display: table-cell;\">min_height&nbsp;=&nbsp;None,</div></div><div class=\"1231\" style=\"display: none;\"><div style=\"display: table-cell;\"></div><div style=\"display: table-cell;\">min_width&nbsp;=&nbsp;None,</div></div><div class=\"1231\" style=\"display: none;\"><div style=\"display: table-cell;\"></div><div style=\"display: table-cell;\">name&nbsp;=&nbsp;None,</div></div><div class=\"1231\" style=\"display: none;\"><div style=\"display: table-cell;\"></div><div style=\"display: table-cell;\">outer_height&nbsp;=&nbsp;0,</div></div><div class=\"1231\" style=\"display: none;\"><div style=\"display: table-cell;\"></div><div style=\"display: table-cell;\">outer_width&nbsp;=&nbsp;0,</div></div><div class=\"1231\" style=\"display: none;\"><div style=\"display: table-cell;\"></div><div style=\"display: table-cell;\">outline_line_alpha&nbsp;=&nbsp;1.0,</div></div><div class=\"1231\" style=\"display: none;\"><div style=\"display: table-cell;\"></div><div style=\"display: table-cell;\">outline_line_cap&nbsp;=&nbsp;'butt',</div></div><div class=\"1231\" style=\"display: none;\"><div style=\"display: table-cell;\"></div><div style=\"display: table-cell;\">outline_line_color&nbsp;=&nbsp;'#e5e5e5',</div></div><div class=\"1231\" style=\"display: none;\"><div style=\"display: table-cell;\"></div><div style=\"display: table-cell;\">outline_line_dash&nbsp;=&nbsp;[],</div></div><div class=\"1231\" style=\"display: none;\"><div style=\"display: table-cell;\"></div><div style=\"display: table-cell;\">outline_line_dash_offset&nbsp;=&nbsp;0,</div></div><div class=\"1231\" style=\"display: none;\"><div style=\"display: table-cell;\"></div><div style=\"display: table-cell;\">outline_line_join&nbsp;=&nbsp;'bevel',</div></div><div class=\"1231\" style=\"display: none;\"><div style=\"display: table-cell;\"></div><div style=\"display: table-cell;\">outline_line_width&nbsp;=&nbsp;1,</div></div><div class=\"1231\" style=\"display: none;\"><div style=\"display: table-cell;\"></div><div style=\"display: table-cell;\">output_backend&nbsp;=&nbsp;'canvas',</div></div><div class=\"1231\" style=\"display: none;\"><div style=\"display: table-cell;\"></div><div style=\"display: table-cell;\">renderers&nbsp;=&nbsp;[GlyphRenderer(id='1150', ...)],</div></div><div class=\"1231\" style=\"display: none;\"><div style=\"display: table-cell;\"></div><div style=\"display: table-cell;\">reset_policy&nbsp;=&nbsp;'standard',</div></div><div class=\"1231\" style=\"display: none;\"><div style=\"display: table-cell;\"></div><div style=\"display: table-cell;\">right&nbsp;=&nbsp;[],</div></div><div class=\"1231\" style=\"display: none;\"><div style=\"display: table-cell;\"></div><div style=\"display: table-cell;\">sizing_mode&nbsp;=&nbsp;None,</div></div><div class=\"1231\" style=\"display: none;\"><div style=\"display: table-cell;\"></div><div style=\"display: table-cell;\">subscribed_events&nbsp;=&nbsp;[],</div></div><div class=\"1231\" style=\"display: none;\"><div style=\"display: table-cell;\"></div><div style=\"display: table-cell;\">syncable&nbsp;=&nbsp;True,</div></div><div class=\"1231\" style=\"display: none;\"><div style=\"display: table-cell;\"></div><div style=\"display: table-cell;\">tags&nbsp;=&nbsp;[],</div></div><div class=\"1231\" style=\"display: none;\"><div style=\"display: table-cell;\"></div><div style=\"display: table-cell;\">title&nbsp;=&nbsp;Title(id='1165', ...),</div></div><div class=\"1231\" style=\"display: none;\"><div style=\"display: table-cell;\"></div><div style=\"display: table-cell;\">title_location&nbsp;=&nbsp;'above',</div></div><div class=\"1231\" style=\"display: none;\"><div style=\"display: table-cell;\"></div><div style=\"display: table-cell;\">toolbar&nbsp;=&nbsp;Toolbar(id='1139', ...),</div></div><div class=\"1231\" style=\"display: none;\"><div style=\"display: table-cell;\"></div><div style=\"display: table-cell;\">toolbar_location&nbsp;=&nbsp;'right',</div></div><div class=\"1231\" style=\"display: none;\"><div style=\"display: table-cell;\"></div><div style=\"display: table-cell;\">toolbar_sticky&nbsp;=&nbsp;True,</div></div><div class=\"1231\" style=\"display: none;\"><div style=\"display: table-cell;\"></div><div style=\"display: table-cell;\">visible&nbsp;=&nbsp;True,</div></div><div class=\"1231\" style=\"display: none;\"><div style=\"display: table-cell;\"></div><div style=\"display: table-cell;\">width&nbsp;=&nbsp;600,</div></div><div class=\"1231\" style=\"display: none;\"><div style=\"display: table-cell;\"></div><div style=\"display: table-cell;\">width_policy&nbsp;=&nbsp;'auto',</div></div><div class=\"1231\" style=\"display: none;\"><div style=\"display: table-cell;\"></div><div style=\"display: table-cell;\">x_range&nbsp;=&nbsp;DataRange1d(id='1116', ...),</div></div><div class=\"1231\" style=\"display: none;\"><div style=\"display: table-cell;\"></div><div style=\"display: table-cell;\">x_scale&nbsp;=&nbsp;LinearScale(id='1120', ...),</div></div><div class=\"1231\" style=\"display: none;\"><div style=\"display: table-cell;\"></div><div style=\"display: table-cell;\">y_range&nbsp;=&nbsp;DataRange1d(id='1118', ...),</div></div><div class=\"1231\" style=\"display: none;\"><div style=\"display: table-cell;\"></div><div style=\"display: table-cell;\">y_scale&nbsp;=&nbsp;LinearScale(id='1122', ...))</div></div></div>\n",
       "<script>\n",
       "(function() {\n",
       "  let expanded = false;\n",
       "  const ellipsis = document.getElementById(\"1232\");\n",
       "  ellipsis.addEventListener(\"click\", function() {\n",
       "    const rows = document.getElementsByClassName(\"1231\");\n",
       "    for (let i = 0; i < rows.length; i++) {\n",
       "      const el = rows[i];\n",
       "      el.style.display = expanded ? \"none\" : \"table-row\";\n",
       "    }\n",
       "    ellipsis.innerHTML = expanded ? \"&hellip;)\" : \"&lsaquo;&lsaquo;&lsaquo;\";\n",
       "    expanded = !expanded;\n",
       "  });\n",
       "})();\n",
       "</script>\n"
      ],
      "text/plain": [
       "Figure(id='1115', ...)"
      ]
     },
     "execution_count": 27,
     "metadata": {},
     "output_type": "execute_result"
    }
   ],
   "source": [
    "import bokeh.models as bm, bokeh.plotting as pl\n",
    "from bokeh.io import output_notebook\n",
    "output_notebook()\n",
    "\n",
    "def draw_vectors(x, y, radius=10, alpha=0.25, color='blue',\n",
    "                 width=600, height=400, show=True, **kwargs):\n",
    "    \"\"\" draws an interactive plot for data points with auxilirary info on hover \"\"\"\n",
    "    data_source = bm.ColumnDataSource({ 'x' : x, 'y' : y, 'color': color, **kwargs })\n",
    "\n",
    "    fig = pl.figure(active_scroll='wheel_zoom', width=width, height=height)\n",
    "    fig.scatter('x', 'y', size=radius, color='color', alpha=alpha, source=data_source)\n",
    "\n",
    "    fig.add_tools(bm.HoverTool(tooltips=[(key, \"@\" + key) for key in kwargs.keys()]))\n",
    "    if show: pl.show(fig)\n",
    "    return fig\n",
    "\n",
    "\n",
    "draw_vectors(\n",
    "    examples[\"transformed_features\"][:, 0], \n",
    "    examples[\"transformed_features\"][:, 1], \n",
    "    color=[[\"red\", \"blue\"][t] for t in examples[\"targets\"]]\n",
    "    )"
   ]
  },
  {
   "cell_type": "code",
   "execution_count": 28,
   "metadata": {},
   "outputs": [],
   "source": [
    "from torch.utils.data import DataLoader\n",
    "\n",
    "\n",
    "batch_size = 1024\n",
    "# При других значениях не работает на моём компьютере\n",
    "num_workers = 0\n",
    "\n",
    "def average_emb(batch):\n",
    "    features = [np.mean(b[\"feature\"], axis=0) for b in batch]\n",
    "    targets = [b[\"target\"] for b in batch]\n",
    "\n",
    "    return {\"features\": torch.FloatTensor(features), \"targets\": torch.LongTensor(targets)}\n",
    "\n",
    "\n",
    "train_size = math.ceil(len(dev) * 0.8)\n",
    "\n",
    "train, valid = random_split(dev, [train_size, len(dev) - train_size])\n",
    "\n",
    "train_loader = DataLoader(train, batch_size=batch_size, num_workers=num_workers, shuffle=True, drop_last=True, collate_fn=average_emb)\n",
    "valid_loader = DataLoader(valid, batch_size=batch_size, num_workers=num_workers, shuffle=False, drop_last=False, collate_fn=average_emb)"
   ]
  },
  {
   "cell_type": "code",
   "execution_count": 29,
   "metadata": {},
   "outputs": [
    {
     "data": {
      "application/vnd.jupyter.widget-view+json": {
       "model_id": "5e8fa5554d9846bbb317b681b0b3808e",
       "version_major": 2,
       "version_minor": 0
      },
      "text/plain": [
       "Epoch 1. Train Loss: 0:   0%|          | 0/1000 [00:00<?, ?it/s]"
      ]
     },
     "metadata": {},
     "output_type": "display_data"
    },
    {
     "data": {
      "application/vnd.jupyter.widget-view+json": {
       "model_id": "49519c0a88a74b36a038db1e25df2ac1",
       "version_major": 2,
       "version_minor": 0
      },
      "text/plain": [
       "Test Loss: 0, Test Acc: 0:   0%|          | 0/250 [00:00<?, ?it/s]"
      ]
     },
     "metadata": {},
     "output_type": "display_data"
    },
    {
     "name": "stdout",
     "output_type": "stream",
     "text": [
      "{'Test Loss': 0.5072357622385025, 'Test Acc': 0.748546875}\n"
     ]
    },
    {
     "data": {
      "application/vnd.jupyter.widget-view+json": {
       "model_id": "5367b58964ff45198edeb5e274f4bc5f",
       "version_major": 2,
       "version_minor": 0
      },
      "text/plain": [
       "Epoch 2. Train Loss: 0:   0%|          | 0/1000 [00:00<?, ?it/s]"
      ]
     },
     "metadata": {},
     "output_type": "display_data"
    },
    {
     "data": {
      "application/vnd.jupyter.widget-view+json": {
       "model_id": "d4153f9e8d494db7b560f2057b8cb6a9",
       "version_major": 2,
       "version_minor": 0
      },
      "text/plain": [
       "Test Loss: 0, Test Acc: 0:   0%|          | 0/250 [00:00<?, ?it/s]"
      ]
     },
     "metadata": {},
     "output_type": "display_data"
    },
    {
     "name": "stdout",
     "output_type": "stream",
     "text": [
      "{'Test Loss': 0.5009675529003144, 'Test Acc': 0.7530234375}\n"
     ]
    },
    {
     "data": {
      "application/vnd.jupyter.widget-view+json": {
       "model_id": "8f6dc9dcbb2245c9bbcef9e56c336089",
       "version_major": 2,
       "version_minor": 0
      },
      "text/plain": [
       "Epoch 3. Train Loss: 0:   0%|          | 0/1000 [00:00<?, ?it/s]"
      ]
     },
     "metadata": {},
     "output_type": "display_data"
    },
    {
     "data": {
      "application/vnd.jupyter.widget-view+json": {
       "model_id": "95f80339ffc74b569e5924e1e4afa416",
       "version_major": 2,
       "version_minor": 0
      },
      "text/plain": [
       "Test Loss: 0, Test Acc: 0:   0%|          | 0/250 [00:00<?, ?it/s]"
      ]
     },
     "metadata": {},
     "output_type": "display_data"
    },
    {
     "name": "stdout",
     "output_type": "stream",
     "text": [
      "{'Test Loss': 0.4938669340610504, 'Test Acc': 0.7576875}\n"
     ]
    },
    {
     "data": {
      "application/vnd.jupyter.widget-view+json": {
       "model_id": "275bb7da9a80489e91ba380ef50bd4b4",
       "version_major": 2,
       "version_minor": 0
      },
      "text/plain": [
       "Epoch 4. Train Loss: 0:   0%|          | 0/1000 [00:00<?, ?it/s]"
      ]
     },
     "metadata": {},
     "output_type": "display_data"
    },
    {
     "data": {
      "application/vnd.jupyter.widget-view+json": {
       "model_id": "e89a50aa0f2b47419c4e08efcbcc2d0d",
       "version_major": 2,
       "version_minor": 0
      },
      "text/plain": [
       "Test Loss: 0, Test Acc: 0:   0%|          | 0/250 [00:00<?, ?it/s]"
      ]
     },
     "metadata": {},
     "output_type": "display_data"
    },
    {
     "name": "stdout",
     "output_type": "stream",
     "text": [
      "{'Test Loss': 0.4924442129135132, 'Test Acc': 0.75806640625}\n"
     ]
    }
   ],
   "source": [
    "model =  one_model(vector_size, num_classes)\n",
    "model = model.cuda()\n",
    "\n",
    "# Твой лосс\n",
    "criterion = nn.BCELoss()\n",
    "# Твой оптимайзер\n",
    "optimizer = torch.optim.Adam(model.parameters(), lr=lr)\n",
    "\n",
    "\n",
    "best_metric = np.inf\n",
    "for e in range(num_epochs):\n",
    "    training(model, optimizer, criterion, train_loader, e, device)\n",
    "    log = testing(model, criterion, valid_loader, device)\n",
    "    print(log)\n",
    "    if log[\"Test Loss\"] < best_metric:\n",
    "        torch.save(model.state_dict(), \"model.pt\")\n",
    "        best_metric = log[\"Test Loss\"]"
   ]
  },
  {
   "cell_type": "code",
   "execution_count": 30,
   "metadata": {},
   "outputs": [
    {
     "data": {
      "application/vnd.jupyter.widget-view+json": {
       "model_id": "cd7078d4d8594ba6a51af33282d201a7",
       "version_major": 2,
       "version_minor": 0
      },
      "text/plain": [
       "Test Loss: 0, Test Acc: 0:   0%|          | 0/313 [00:00<?, ?it/s]"
      ]
     },
     "metadata": {},
     "output_type": "display_data"
    },
    {
     "name": "stdout",
     "output_type": "stream",
     "text": [
      "{'Test Loss': 1.132836388322873, 'Test Acc': 0.6174121405750799}\n"
     ]
    }
   ],
   "source": [
    "test_loader = DataLoader(\n",
    "    TwitterDataset(test_data, \"text\", \"emotion\", word2vec), \n",
    "    batch_size=batch_size, \n",
    "    num_workers=num_workers, \n",
    "    shuffle=False,\n",
    "    drop_last=False, \n",
    "    collate_fn=average_emb)\n",
    "\n",
    "model.load_state_dict(torch.load(\"model.pt\", map_location=device))\n",
    "\n",
    "print(testing(model, criterion, test_loader, device=device))"
   ]
  },
  {
   "cell_type": "markdown",
   "metadata": {},
   "source": [
    "# Вариант 2"
   ]
  },
  {
   "cell_type": "code",
   "execution_count": 31,
   "metadata": {},
   "outputs": [],
   "source": [
    "class TwitterTwo(Dataset):\n",
    "    def __init__(self, data: pd.DataFrame, feature_column: str, target_column: str, word2vec: gensim.models.Word2Vec, tf_idf: dict):\n",
    "        self.tokenizer = nltk.WordPunctTokenizer()\n",
    "        \n",
    "        self.data = data\n",
    "\n",
    "        self.feature_column = feature_column\n",
    "        self.target_column = target_column\n",
    "\n",
    "        self.word2vec = word2vec\n",
    "        self.tf_idf = tf_idf\n",
    "\n",
    "        self.label2num = lambda label: 0 if label == 0 else 1\n",
    "        self.mean = np.mean(word2vec.vectors, axis=0)\n",
    "        self.std = np.std(word2vec.vectors, axis=0)\n",
    "\n",
    "        \n",
    "    def __getitem__(self, item):\n",
    "        text = self.data[self.feature_column][item]\n",
    "        label = self.label2num(self.data[self.target_column][item])\n",
    "\n",
    "        tokens = self.get_tokens_(text)\n",
    "        embeddings = self.get_embeddings_(tokens)\n",
    "\n",
    "        return {\"feature\": embeddings, \"target\": label}\n",
    "\n",
    "    \n",
    "    def get_tokens_(self, text):\n",
    "        # Получи все токены из текста и профильтруй их\n",
    "        tokenizer = nltk.WordPunctTokenizer()\n",
    "        tokens = tokenizer.tokenize(text.lower())\n",
    "        filtered_tokens = [w for w in tokens if all(c not in string.punctuation for c in w) and len(w) > 3]\n",
    "        \n",
    "        return filtered_tokens\n",
    "\n",
    "        \n",
    "    def get_embeddings_(self, tokens):\n",
    "        w_size = 3\n",
    "        embeddings = []\n",
    "\n",
    "        for i in range(len(tokens)):\n",
    "            if tokens[i] in self.word2vec and tokens[i] in self.tf_idf:\n",
    "                embeddings.append(self.word2vec.get_vector(tokens[i]) + self.tf_idf[tokens[i]])\n",
    "            elif tokens[i] in self.tf_idf:\n",
    "                embeddings.append(self.tf_idf[tokens[i]])\n",
    "        \n",
    "        if len(embeddings) == 0:\n",
    "            embeddings = np.zeros((1, self.word2vec.vector_size))\n",
    "        else:\n",
    "            embeddings = np.array(embeddings)\n",
    "            if len(embeddings.shape) == 1:\n",
    "                embeddings = embeddings.reshape(-1, 1)\n",
    "                \n",
    "        return embeddings\n",
    "\n",
    "    def __len__(self):\n",
    "        return self.data.shape[0]"
   ]
  },
  {
   "cell_type": "code",
   "execution_count": 32,
   "metadata": {},
   "outputs": [],
   "source": [
    "from sklearn.feature_extraction.text import TfidfVectorizer\n",
    "\n",
    "vectorizer = TfidfVectorizer()\n",
    "X = vectorizer.fit_transform(dev_data['text'])"
   ]
  },
  {
   "cell_type": "code",
   "execution_count": 37,
   "metadata": {},
   "outputs": [],
   "source": [
    "from sparsesvd import sparsesvd\n",
    "import scipy\n",
    "\n",
    "ut, s, vt = sparsesvd(scipy.sparse.csc_matrix(X), 300)"
   ]
  },
  {
   "cell_type": "code",
   "execution_count": 38,
   "metadata": {},
   "outputs": [],
   "source": [
    "tf_idf_emb = {}\n",
    "i = 0\n",
    "for w in vectorizer.get_feature_names():\n",
    "    tf_idf_emb[w] = vt[:, i]\n",
    "    i += 1"
   ]
  },
  {
   "cell_type": "code",
   "execution_count": 39,
   "metadata": {},
   "outputs": [],
   "source": [
    "dev = TwitterTwo(dev_data, \"text\", \"emotion\", word2vec, tf_idf_emb)"
   ]
  },
  {
   "cell_type": "code",
   "execution_count": 40,
   "metadata": {},
   "outputs": [
    {
     "name": "stdout",
     "output_type": "stream",
     "text": [
      "1280\n"
     ]
    }
   ],
   "source": [
    "indexes = np.arange(len(dev))\n",
    "np.random.shuffle(indexes)\n",
    "example_indexes = indexes[::1000]\n",
    "\n",
    "examples = {\"features\": [np.sum(dev[i][\"feature\"], axis=0) for i in example_indexes], \n",
    "            \"targets\": [dev[i][\"target\"] for i in example_indexes]}\n",
    "print(len(examples[\"features\"]))"
   ]
  },
  {
   "cell_type": "code",
   "execution_count": 41,
   "metadata": {},
   "outputs": [
    {
     "name": "stderr",
     "output_type": "stream",
     "text": [
      "D:\\Programs\\anaconda3\\lib\\site-packages\\sklearn\\manifold\\_t_sne.py:780: FutureWarning: The default initialization in TSNE will change from 'random' to 'pca' in 1.2.\n",
      "  warnings.warn(\n",
      "D:\\Programs\\anaconda3\\lib\\site-packages\\sklearn\\manifold\\_t_sne.py:790: FutureWarning: The default learning rate in TSNE will change from 200.0 to 'auto' in 1.2.\n",
      "  warnings.warn(\n"
     ]
    }
   ],
   "source": [
    "from sklearn.decomposition import PCA\n",
    "from sklearn.manifold import TSNE\n",
    "\n",
    "tsne = TSNE(n_components=2)\n",
    "examples[\"transformed_features\"] = tsne.fit_transform(examples['features'])"
   ]
  },
  {
   "cell_type": "code",
   "execution_count": 42,
   "metadata": {},
   "outputs": [
    {
     "data": {
      "text/html": [
       "\n",
       "    <div class=\"bk-root\">\n",
       "        <a href=\"https://bokeh.org\" target=\"_blank\" class=\"bk-logo bk-logo-small bk-logo-notebook\"></a>\n",
       "        <span id=\"1235\">Loading BokehJS ...</span>\n",
       "    </div>"
      ]
     },
     "metadata": {},
     "output_type": "display_data"
    },
    {
     "data": {
      "application/javascript": [
       "\n",
       "(function(root) {\n",
       "  function now() {\n",
       "    return new Date();\n",
       "  }\n",
       "\n",
       "  const force = true;\n",
       "\n",
       "  if (typeof root._bokeh_onload_callbacks === \"undefined\" || force === true) {\n",
       "    root._bokeh_onload_callbacks = [];\n",
       "    root._bokeh_is_loading = undefined;\n",
       "  }\n",
       "\n",
       "  const JS_MIME_TYPE = 'application/javascript';\n",
       "  const HTML_MIME_TYPE = 'text/html';\n",
       "  const EXEC_MIME_TYPE = 'application/vnd.bokehjs_exec.v0+json';\n",
       "  const CLASS_NAME = 'output_bokeh rendered_html';\n",
       "\n",
       "  /**\n",
       "   * Render data to the DOM node\n",
       "   */\n",
       "  function render(props, node) {\n",
       "    const script = document.createElement(\"script\");\n",
       "    node.appendChild(script);\n",
       "  }\n",
       "\n",
       "  /**\n",
       "   * Handle when an output is cleared or removed\n",
       "   */\n",
       "  function handleClearOutput(event, handle) {\n",
       "    const cell = handle.cell;\n",
       "\n",
       "    const id = cell.output_area._bokeh_element_id;\n",
       "    const server_id = cell.output_area._bokeh_server_id;\n",
       "    // Clean up Bokeh references\n",
       "    if (id != null && id in Bokeh.index) {\n",
       "      Bokeh.index[id].model.document.clear();\n",
       "      delete Bokeh.index[id];\n",
       "    }\n",
       "\n",
       "    if (server_id !== undefined) {\n",
       "      // Clean up Bokeh references\n",
       "      const cmd_clean = \"from bokeh.io.state import curstate; print(curstate().uuid_to_server['\" + server_id + \"'].get_sessions()[0].document.roots[0]._id)\";\n",
       "      cell.notebook.kernel.execute(cmd_clean, {\n",
       "        iopub: {\n",
       "          output: function(msg) {\n",
       "            const id = msg.content.text.trim();\n",
       "            if (id in Bokeh.index) {\n",
       "              Bokeh.index[id].model.document.clear();\n",
       "              delete Bokeh.index[id];\n",
       "            }\n",
       "          }\n",
       "        }\n",
       "      });\n",
       "      // Destroy server and session\n",
       "      const cmd_destroy = \"import bokeh.io.notebook as ion; ion.destroy_server('\" + server_id + \"')\";\n",
       "      cell.notebook.kernel.execute(cmd_destroy);\n",
       "    }\n",
       "  }\n",
       "\n",
       "  /**\n",
       "   * Handle when a new output is added\n",
       "   */\n",
       "  function handleAddOutput(event, handle) {\n",
       "    const output_area = handle.output_area;\n",
       "    const output = handle.output;\n",
       "\n",
       "    // limit handleAddOutput to display_data with EXEC_MIME_TYPE content only\n",
       "    if ((output.output_type != \"display_data\") || (!Object.prototype.hasOwnProperty.call(output.data, EXEC_MIME_TYPE))) {\n",
       "      return\n",
       "    }\n",
       "\n",
       "    const toinsert = output_area.element.find(\".\" + CLASS_NAME.split(' ')[0]);\n",
       "\n",
       "    if (output.metadata[EXEC_MIME_TYPE][\"id\"] !== undefined) {\n",
       "      toinsert[toinsert.length - 1].firstChild.textContent = output.data[JS_MIME_TYPE];\n",
       "      // store reference to embed id on output_area\n",
       "      output_area._bokeh_element_id = output.metadata[EXEC_MIME_TYPE][\"id\"];\n",
       "    }\n",
       "    if (output.metadata[EXEC_MIME_TYPE][\"server_id\"] !== undefined) {\n",
       "      const bk_div = document.createElement(\"div\");\n",
       "      bk_div.innerHTML = output.data[HTML_MIME_TYPE];\n",
       "      const script_attrs = bk_div.children[0].attributes;\n",
       "      for (let i = 0; i < script_attrs.length; i++) {\n",
       "        toinsert[toinsert.length - 1].firstChild.setAttribute(script_attrs[i].name, script_attrs[i].value);\n",
       "        toinsert[toinsert.length - 1].firstChild.textContent = bk_div.children[0].textContent\n",
       "      }\n",
       "      // store reference to server id on output_area\n",
       "      output_area._bokeh_server_id = output.metadata[EXEC_MIME_TYPE][\"server_id\"];\n",
       "    }\n",
       "  }\n",
       "\n",
       "  function register_renderer(events, OutputArea) {\n",
       "\n",
       "    function append_mime(data, metadata, element) {\n",
       "      // create a DOM node to render to\n",
       "      const toinsert = this.create_output_subarea(\n",
       "        metadata,\n",
       "        CLASS_NAME,\n",
       "        EXEC_MIME_TYPE\n",
       "      );\n",
       "      this.keyboard_manager.register_events(toinsert);\n",
       "      // Render to node\n",
       "      const props = {data: data, metadata: metadata[EXEC_MIME_TYPE]};\n",
       "      render(props, toinsert[toinsert.length - 1]);\n",
       "      element.append(toinsert);\n",
       "      return toinsert\n",
       "    }\n",
       "\n",
       "    /* Handle when an output is cleared or removed */\n",
       "    events.on('clear_output.CodeCell', handleClearOutput);\n",
       "    events.on('delete.Cell', handleClearOutput);\n",
       "\n",
       "    /* Handle when a new output is added */\n",
       "    events.on('output_added.OutputArea', handleAddOutput);\n",
       "\n",
       "    /**\n",
       "     * Register the mime type and append_mime function with output_area\n",
       "     */\n",
       "    OutputArea.prototype.register_mime_type(EXEC_MIME_TYPE, append_mime, {\n",
       "      /* Is output safe? */\n",
       "      safe: true,\n",
       "      /* Index of renderer in `output_area.display_order` */\n",
       "      index: 0\n",
       "    });\n",
       "  }\n",
       "\n",
       "  // register the mime type if in Jupyter Notebook environment and previously unregistered\n",
       "  if (root.Jupyter !== undefined) {\n",
       "    const events = require('base/js/events');\n",
       "    const OutputArea = require('notebook/js/outputarea').OutputArea;\n",
       "\n",
       "    if (OutputArea.prototype.mime_types().indexOf(EXEC_MIME_TYPE) == -1) {\n",
       "      register_renderer(events, OutputArea);\n",
       "    }\n",
       "  }\n",
       "\n",
       "  \n",
       "  if (typeof (root._bokeh_timeout) === \"undefined\" || force === true) {\n",
       "    root._bokeh_timeout = Date.now() + 5000;\n",
       "    root._bokeh_failed_load = false;\n",
       "  }\n",
       "\n",
       "  const NB_LOAD_WARNING = {'data': {'text/html':\n",
       "     \"<div style='background-color: #fdd'>\\n\"+\n",
       "     \"<p>\\n\"+\n",
       "     \"BokehJS does not appear to have successfully loaded. If loading BokehJS from CDN, this \\n\"+\n",
       "     \"may be due to a slow or bad network connection. Possible fixes:\\n\"+\n",
       "     \"</p>\\n\"+\n",
       "     \"<ul>\\n\"+\n",
       "     \"<li>re-rerun `output_notebook()` to attempt to load from CDN again, or</li>\\n\"+\n",
       "     \"<li>use INLINE resources instead, as so:</li>\\n\"+\n",
       "     \"</ul>\\n\"+\n",
       "     \"<code>\\n\"+\n",
       "     \"from bokeh.resources import INLINE\\n\"+\n",
       "     \"output_notebook(resources=INLINE)\\n\"+\n",
       "     \"</code>\\n\"+\n",
       "     \"</div>\"}};\n",
       "\n",
       "  function display_loaded() {\n",
       "    const el = document.getElementById(\"1235\");\n",
       "    if (el != null) {\n",
       "      el.textContent = \"BokehJS is loading...\";\n",
       "    }\n",
       "    if (root.Bokeh !== undefined) {\n",
       "      if (el != null) {\n",
       "        el.textContent = \"BokehJS \" + root.Bokeh.version + \" successfully loaded.\";\n",
       "      }\n",
       "    } else if (Date.now() < root._bokeh_timeout) {\n",
       "      setTimeout(display_loaded, 100)\n",
       "    }\n",
       "  }\n",
       "\n",
       "\n",
       "  function run_callbacks() {\n",
       "    try {\n",
       "      root._bokeh_onload_callbacks.forEach(function(callback) {\n",
       "        if (callback != null)\n",
       "          callback();\n",
       "      });\n",
       "    } finally {\n",
       "      delete root._bokeh_onload_callbacks\n",
       "    }\n",
       "    console.debug(\"Bokeh: all callbacks have finished\");\n",
       "  }\n",
       "\n",
       "  function load_libs(css_urls, js_urls, callback) {\n",
       "    if (css_urls == null) css_urls = [];\n",
       "    if (js_urls == null) js_urls = [];\n",
       "\n",
       "    root._bokeh_onload_callbacks.push(callback);\n",
       "    if (root._bokeh_is_loading > 0) {\n",
       "      console.debug(\"Bokeh: BokehJS is being loaded, scheduling callback at\", now());\n",
       "      return null;\n",
       "    }\n",
       "    if (js_urls == null || js_urls.length === 0) {\n",
       "      run_callbacks();\n",
       "      return null;\n",
       "    }\n",
       "    console.debug(\"Bokeh: BokehJS not loaded, scheduling load and callback at\", now());\n",
       "    root._bokeh_is_loading = css_urls.length + js_urls.length;\n",
       "\n",
       "    function on_load() {\n",
       "      root._bokeh_is_loading--;\n",
       "      if (root._bokeh_is_loading === 0) {\n",
       "        console.debug(\"Bokeh: all BokehJS libraries/stylesheets loaded\");\n",
       "        run_callbacks()\n",
       "      }\n",
       "    }\n",
       "\n",
       "    function on_error(url) {\n",
       "      console.error(\"failed to load \" + url);\n",
       "    }\n",
       "\n",
       "    for (let i = 0; i < css_urls.length; i++) {\n",
       "      const url = css_urls[i];\n",
       "      const element = document.createElement(\"link\");\n",
       "      element.onload = on_load;\n",
       "      element.onerror = on_error.bind(null, url);\n",
       "      element.rel = \"stylesheet\";\n",
       "      element.type = \"text/css\";\n",
       "      element.href = url;\n",
       "      console.debug(\"Bokeh: injecting link tag for BokehJS stylesheet: \", url);\n",
       "      document.body.appendChild(element);\n",
       "    }\n",
       "\n",
       "    for (let i = 0; i < js_urls.length; i++) {\n",
       "      const url = js_urls[i];\n",
       "      const element = document.createElement('script');\n",
       "      element.onload = on_load;\n",
       "      element.onerror = on_error.bind(null, url);\n",
       "      element.async = false;\n",
       "      element.src = url;\n",
       "      console.debug(\"Bokeh: injecting script tag for BokehJS library: \", url);\n",
       "      document.head.appendChild(element);\n",
       "    }\n",
       "  };\n",
       "\n",
       "  function inject_raw_css(css) {\n",
       "    const element = document.createElement(\"style\");\n",
       "    element.appendChild(document.createTextNode(css));\n",
       "    document.body.appendChild(element);\n",
       "  }\n",
       "\n",
       "  \n",
       "  const js_urls = [\"https://cdn.bokeh.org/bokeh/release/bokeh-2.4.2.min.js\", \"https://cdn.bokeh.org/bokeh/release/bokeh-gl-2.4.2.min.js\", \"https://cdn.bokeh.org/bokeh/release/bokeh-widgets-2.4.2.min.js\", \"https://cdn.bokeh.org/bokeh/release/bokeh-tables-2.4.2.min.js\", \"https://cdn.bokeh.org/bokeh/release/bokeh-mathjax-2.4.2.min.js\"];\n",
       "  const css_urls = [];\n",
       "  \n",
       "\n",
       "  const inline_js = [\n",
       "    function(Bokeh) {\n",
       "      Bokeh.set_log_level(\"info\");\n",
       "    },\n",
       "    function(Bokeh) {\n",
       "    \n",
       "    \n",
       "    }\n",
       "  ];\n",
       "\n",
       "  function run_inline_js() {\n",
       "    \n",
       "    if (root.Bokeh !== undefined || force === true) {\n",
       "      \n",
       "    for (let i = 0; i < inline_js.length; i++) {\n",
       "      inline_js[i].call(root, root.Bokeh);\n",
       "    }\n",
       "    if (force === true) {\n",
       "        display_loaded();\n",
       "      }} else if (Date.now() < root._bokeh_timeout) {\n",
       "      setTimeout(run_inline_js, 100);\n",
       "    } else if (!root._bokeh_failed_load) {\n",
       "      console.log(\"Bokeh: BokehJS failed to load within specified timeout.\");\n",
       "      root._bokeh_failed_load = true;\n",
       "    } else if (force !== true) {\n",
       "      const cell = $(document.getElementById(\"1235\")).parents('.cell').data().cell;\n",
       "      cell.output_area.append_execute_result(NB_LOAD_WARNING)\n",
       "    }\n",
       "\n",
       "  }\n",
       "\n",
       "  if (root._bokeh_is_loading === 0) {\n",
       "    console.debug(\"Bokeh: BokehJS loaded, going straight to plotting\");\n",
       "    run_inline_js();\n",
       "  } else {\n",
       "    load_libs(css_urls, js_urls, function() {\n",
       "      console.debug(\"Bokeh: BokehJS plotting callback run at\", now());\n",
       "      run_inline_js();\n",
       "    });\n",
       "  }\n",
       "}(window));"
      ],
      "application/vnd.bokehjs_load.v0+json": "\n(function(root) {\n  function now() {\n    return new Date();\n  }\n\n  const force = true;\n\n  if (typeof root._bokeh_onload_callbacks === \"undefined\" || force === true) {\n    root._bokeh_onload_callbacks = [];\n    root._bokeh_is_loading = undefined;\n  }\n\n  \n\n  \n  if (typeof (root._bokeh_timeout) === \"undefined\" || force === true) {\n    root._bokeh_timeout = Date.now() + 5000;\n    root._bokeh_failed_load = false;\n  }\n\n  const NB_LOAD_WARNING = {'data': {'text/html':\n     \"<div style='background-color: #fdd'>\\n\"+\n     \"<p>\\n\"+\n     \"BokehJS does not appear to have successfully loaded. If loading BokehJS from CDN, this \\n\"+\n     \"may be due to a slow or bad network connection. Possible fixes:\\n\"+\n     \"</p>\\n\"+\n     \"<ul>\\n\"+\n     \"<li>re-rerun `output_notebook()` to attempt to load from CDN again, or</li>\\n\"+\n     \"<li>use INLINE resources instead, as so:</li>\\n\"+\n     \"</ul>\\n\"+\n     \"<code>\\n\"+\n     \"from bokeh.resources import INLINE\\n\"+\n     \"output_notebook(resources=INLINE)\\n\"+\n     \"</code>\\n\"+\n     \"</div>\"}};\n\n  function display_loaded() {\n    const el = document.getElementById(\"1235\");\n    if (el != null) {\n      el.textContent = \"BokehJS is loading...\";\n    }\n    if (root.Bokeh !== undefined) {\n      if (el != null) {\n        el.textContent = \"BokehJS \" + root.Bokeh.version + \" successfully loaded.\";\n      }\n    } else if (Date.now() < root._bokeh_timeout) {\n      setTimeout(display_loaded, 100)\n    }\n  }\n\n\n  function run_callbacks() {\n    try {\n      root._bokeh_onload_callbacks.forEach(function(callback) {\n        if (callback != null)\n          callback();\n      });\n    } finally {\n      delete root._bokeh_onload_callbacks\n    }\n    console.debug(\"Bokeh: all callbacks have finished\");\n  }\n\n  function load_libs(css_urls, js_urls, callback) {\n    if (css_urls == null) css_urls = [];\n    if (js_urls == null) js_urls = [];\n\n    root._bokeh_onload_callbacks.push(callback);\n    if (root._bokeh_is_loading > 0) {\n      console.debug(\"Bokeh: BokehJS is being loaded, scheduling callback at\", now());\n      return null;\n    }\n    if (js_urls == null || js_urls.length === 0) {\n      run_callbacks();\n      return null;\n    }\n    console.debug(\"Bokeh: BokehJS not loaded, scheduling load and callback at\", now());\n    root._bokeh_is_loading = css_urls.length + js_urls.length;\n\n    function on_load() {\n      root._bokeh_is_loading--;\n      if (root._bokeh_is_loading === 0) {\n        console.debug(\"Bokeh: all BokehJS libraries/stylesheets loaded\");\n        run_callbacks()\n      }\n    }\n\n    function on_error(url) {\n      console.error(\"failed to load \" + url);\n    }\n\n    for (let i = 0; i < css_urls.length; i++) {\n      const url = css_urls[i];\n      const element = document.createElement(\"link\");\n      element.onload = on_load;\n      element.onerror = on_error.bind(null, url);\n      element.rel = \"stylesheet\";\n      element.type = \"text/css\";\n      element.href = url;\n      console.debug(\"Bokeh: injecting link tag for BokehJS stylesheet: \", url);\n      document.body.appendChild(element);\n    }\n\n    for (let i = 0; i < js_urls.length; i++) {\n      const url = js_urls[i];\n      const element = document.createElement('script');\n      element.onload = on_load;\n      element.onerror = on_error.bind(null, url);\n      element.async = false;\n      element.src = url;\n      console.debug(\"Bokeh: injecting script tag for BokehJS library: \", url);\n      document.head.appendChild(element);\n    }\n  };\n\n  function inject_raw_css(css) {\n    const element = document.createElement(\"style\");\n    element.appendChild(document.createTextNode(css));\n    document.body.appendChild(element);\n  }\n\n  \n  const js_urls = [\"https://cdn.bokeh.org/bokeh/release/bokeh-2.4.2.min.js\", \"https://cdn.bokeh.org/bokeh/release/bokeh-gl-2.4.2.min.js\", \"https://cdn.bokeh.org/bokeh/release/bokeh-widgets-2.4.2.min.js\", \"https://cdn.bokeh.org/bokeh/release/bokeh-tables-2.4.2.min.js\", \"https://cdn.bokeh.org/bokeh/release/bokeh-mathjax-2.4.2.min.js\"];\n  const css_urls = [];\n  \n\n  const inline_js = [\n    function(Bokeh) {\n      Bokeh.set_log_level(\"info\");\n    },\n    function(Bokeh) {\n    \n    \n    }\n  ];\n\n  function run_inline_js() {\n    \n    if (root.Bokeh !== undefined || force === true) {\n      \n    for (let i = 0; i < inline_js.length; i++) {\n      inline_js[i].call(root, root.Bokeh);\n    }\n    if (force === true) {\n        display_loaded();\n      }} else if (Date.now() < root._bokeh_timeout) {\n      setTimeout(run_inline_js, 100);\n    } else if (!root._bokeh_failed_load) {\n      console.log(\"Bokeh: BokehJS failed to load within specified timeout.\");\n      root._bokeh_failed_load = true;\n    } else if (force !== true) {\n      const cell = $(document.getElementById(\"1235\")).parents('.cell').data().cell;\n      cell.output_area.append_execute_result(NB_LOAD_WARNING)\n    }\n\n  }\n\n  if (root._bokeh_is_loading === 0) {\n    console.debug(\"Bokeh: BokehJS loaded, going straight to plotting\");\n    run_inline_js();\n  } else {\n    load_libs(css_urls, js_urls, function() {\n      console.debug(\"Bokeh: BokehJS plotting callback run at\", now());\n      run_inline_js();\n    });\n  }\n}(window));"
     },
     "metadata": {},
     "output_type": "display_data"
    },
    {
     "data": {
      "text/html": [
       "\n",
       "\n",
       "\n",
       "\n",
       "\n",
       "\n",
       "  <div class=\"bk-root\" id=\"49facfa8-fa19-48e2-9255-79b1dc9d508b\" data-root-id=\"1237\"></div>\n"
      ]
     },
     "metadata": {},
     "output_type": "display_data"
    },
    {
     "data": {
      "application/javascript": [
       "(function(root) {\n",
       "  function embed_document(root) {\n",
       "    \n",
       "  const docs_json = {\"2264bd2e-5a35-47ac-b932-2495675d4dc3\":{\"defs\":[],\"roots\":{\"references\":[{\"attributes\":{\"below\":[{\"id\":\"1246\"}],\"center\":[{\"id\":\"1249\"},{\"id\":\"1253\"}],\"height\":400,\"left\":[{\"id\":\"1250\"}],\"renderers\":[{\"id\":\"1272\"}],\"title\":{\"id\":\"1298\"},\"toolbar\":{\"id\":\"1261\"},\"x_range\":{\"id\":\"1238\"},\"x_scale\":{\"id\":\"1242\"},\"y_range\":{\"id\":\"1240\"},\"y_scale\":{\"id\":\"1244\"}},\"id\":\"1237\",\"subtype\":\"Figure\",\"type\":\"Plot\"},{\"attributes\":{},\"id\":\"1238\",\"type\":\"DataRange1d\"},{\"attributes\":{},\"id\":\"1255\",\"type\":\"WheelZoomTool\"},{\"attributes\":{},\"id\":\"1301\",\"type\":\"BasicTickFormatter\"},{\"attributes\":{},\"id\":\"1247\",\"type\":\"BasicTicker\"},{\"attributes\":{},\"id\":\"1257\",\"type\":\"SaveTool\"},{\"attributes\":{\"callback\":null,\"tooltips\":[]},\"id\":\"1274\",\"type\":\"HoverTool\"},{\"attributes\":{\"bottom_units\":\"screen\",\"coordinates\":null,\"fill_alpha\":0.5,\"fill_color\":\"lightgrey\",\"group\":null,\"left_units\":\"screen\",\"level\":\"overlay\",\"line_alpha\":1.0,\"line_color\":\"black\",\"line_dash\":[4,4],\"line_width\":2,\"right_units\":\"screen\",\"syncable\":false,\"top_units\":\"screen\"},\"id\":\"1260\",\"type\":\"BoxAnnotation\"},{\"attributes\":{\"overlay\":{\"id\":\"1260\"}},\"id\":\"1256\",\"type\":\"BoxZoomTool\"},{\"attributes\":{},\"id\":\"1304\",\"type\":\"BasicTickFormatter\"},{\"attributes\":{\"coordinates\":null,\"formatter\":{\"id\":\"1301\"},\"group\":null,\"major_label_policy\":{\"id\":\"1302\"},\"ticker\":{\"id\":\"1251\"}},\"id\":\"1250\",\"type\":\"LinearAxis\"},{\"attributes\":{\"data\":{\"color\":[\"blue\",\"blue\",\"red\",\"red\",\"red\",\"blue\",\"red\",\"blue\",\"red\",\"blue\",\"blue\",\"red\",\"blue\",\"red\",\"red\",\"red\",\"blue\",\"blue\",\"red\",\"red\",\"red\",\"red\",\"red\",\"blue\",\"red\",\"blue\",\"blue\",\"red\",\"red\",\"red\",\"red\",\"blue\",\"red\",\"blue\",\"red\",\"red\",\"red\",\"red\",\"blue\",\"red\",\"blue\",\"blue\",\"blue\",\"red\",\"red\",\"blue\",\"red\",\"blue\",\"blue\",\"blue\",\"red\",\"red\",\"blue\",\"red\",\"blue\",\"blue\",\"blue\",\"red\",\"blue\",\"blue\",\"red\",\"red\",\"red\",\"red\",\"blue\",\"blue\",\"red\",\"red\",\"red\",\"blue\",\"red\",\"red\",\"red\",\"blue\",\"blue\",\"blue\",\"blue\",\"red\",\"red\",\"red\",\"red\",\"blue\",\"blue\",\"blue\",\"blue\",\"blue\",\"blue\",\"blue\",\"red\",\"red\",\"blue\",\"blue\",\"blue\",\"red\",\"blue\",\"blue\",\"blue\",\"blue\",\"blue\",\"blue\",\"red\",\"blue\",\"red\",\"red\",\"red\",\"blue\",\"blue\",\"red\",\"blue\",\"red\",\"blue\",\"blue\",\"blue\",\"blue\",\"blue\",\"red\",\"blue\",\"red\",\"red\",\"blue\",\"red\",\"blue\",\"blue\",\"red\",\"blue\",\"blue\",\"blue\",\"red\",\"blue\",\"red\",\"red\",\"red\",\"blue\",\"red\",\"blue\",\"red\",\"red\",\"blue\",\"red\",\"blue\",\"red\",\"red\",\"red\",\"red\",\"blue\",\"red\",\"red\",\"blue\",\"red\",\"red\",\"blue\",\"blue\",\"red\",\"blue\",\"red\",\"red\",\"blue\",\"red\",\"red\",\"red\",\"red\",\"blue\",\"blue\",\"blue\",\"red\",\"red\",\"red\",\"red\",\"blue\",\"red\",\"blue\",\"blue\",\"blue\",\"red\",\"red\",\"blue\",\"blue\",\"blue\",\"red\",\"blue\",\"blue\",\"blue\",\"blue\",\"blue\",\"red\",\"blue\",\"red\",\"blue\",\"blue\",\"red\",\"red\",\"red\",\"blue\",\"blue\",\"red\",\"blue\",\"red\",\"blue\",\"blue\",\"red\",\"red\",\"red\",\"red\",\"red\",\"red\",\"red\",\"red\",\"red\",\"red\",\"blue\",\"blue\",\"red\",\"blue\",\"red\",\"red\",\"blue\",\"blue\",\"red\",\"red\",\"red\",\"red\",\"blue\",\"blue\",\"blue\",\"red\",\"red\",\"blue\",\"red\",\"red\",\"red\",\"blue\",\"red\",\"blue\",\"red\",\"red\",\"blue\",\"blue\",\"blue\",\"blue\",\"blue\",\"red\",\"red\",\"red\",\"red\",\"red\",\"blue\",\"blue\",\"blue\",\"blue\",\"red\",\"red\",\"red\",\"blue\",\"red\",\"red\",\"blue\",\"blue\",\"red\",\"red\",\"red\",\"red\",\"red\",\"blue\",\"blue\",\"red\",\"red\",\"blue\",\"red\",\"red\",\"blue\",\"blue\",\"red\",\"blue\",\"red\",\"blue\",\"blue\",\"blue\",\"red\",\"blue\",\"red\",\"blue\",\"blue\",\"red\",\"red\",\"blue\",\"red\",\"blue\",\"red\",\"blue\",\"blue\",\"red\",\"red\",\"red\",\"red\",\"red\",\"red\",\"blue\",\"blue\",\"red\",\"red\",\"blue\",\"blue\",\"blue\",\"blue\",\"red\",\"blue\",\"blue\",\"blue\",\"blue\",\"blue\",\"blue\",\"blue\",\"red\",\"blue\",\"blue\",\"blue\",\"blue\",\"blue\",\"red\",\"red\",\"blue\",\"blue\",\"blue\",\"blue\",\"red\",\"blue\",\"blue\",\"red\",\"red\",\"red\",\"blue\",\"red\",\"red\",\"red\",\"red\",\"blue\",\"blue\",\"blue\",\"red\",\"blue\",\"red\",\"red\",\"blue\",\"red\",\"red\",\"blue\",\"blue\",\"blue\",\"red\",\"red\",\"red\",\"red\",\"red\",\"red\",\"blue\",\"red\",\"red\",\"blue\",\"red\",\"red\",\"blue\",\"red\",\"blue\",\"blue\",\"red\",\"blue\",\"blue\",\"red\",\"blue\",\"blue\",\"red\",\"blue\",\"red\",\"red\",\"red\",\"blue\",\"blue\",\"blue\",\"blue\",\"red\",\"blue\",\"red\",\"blue\",\"red\",\"blue\",\"blue\",\"blue\",\"red\",\"red\",\"red\",\"red\",\"blue\",\"blue\",\"red\",\"blue\",\"red\",\"red\",\"blue\",\"red\",\"blue\",\"red\",\"blue\",\"blue\",\"blue\",\"blue\",\"blue\",\"red\",\"blue\",\"blue\",\"red\",\"blue\",\"blue\",\"blue\",\"red\",\"blue\",\"blue\",\"red\",\"red\",\"red\",\"red\",\"blue\",\"blue\",\"red\",\"red\",\"blue\",\"blue\",\"red\",\"blue\",\"blue\",\"red\",\"red\",\"red\",\"blue\",\"blue\",\"blue\",\"blue\",\"red\",\"red\",\"blue\",\"red\",\"red\",\"red\",\"blue\",\"blue\",\"red\",\"red\",\"blue\",\"blue\",\"red\",\"red\",\"blue\",\"blue\",\"blue\",\"red\",\"blue\",\"red\",\"blue\",\"red\",\"blue\",\"blue\",\"red\",\"red\",\"red\",\"red\",\"blue\",\"blue\",\"blue\",\"red\",\"blue\",\"blue\",\"red\",\"red\",\"blue\",\"red\",\"blue\",\"blue\",\"blue\",\"red\",\"blue\",\"red\",\"blue\",\"blue\",\"blue\",\"blue\",\"blue\",\"red\",\"red\",\"red\",\"blue\",\"red\",\"red\",\"blue\",\"blue\",\"blue\",\"blue\",\"blue\",\"blue\",\"red\",\"red\",\"red\",\"red\",\"red\",\"red\",\"red\",\"red\",\"blue\",\"red\",\"red\",\"blue\",\"red\",\"red\",\"blue\",\"blue\",\"blue\",\"blue\",\"blue\",\"blue\",\"blue\",\"red\",\"red\",\"red\",\"red\",\"red\",\"blue\",\"red\",\"blue\",\"red\",\"red\",\"blue\",\"red\",\"blue\",\"red\",\"blue\",\"blue\",\"blue\",\"red\",\"red\",\"red\",\"blue\",\"blue\",\"blue\",\"red\",\"red\",\"blue\",\"blue\",\"red\",\"blue\",\"red\",\"blue\",\"blue\",\"blue\",\"blue\",\"red\",\"red\",\"blue\",\"red\",\"red\",\"red\",\"blue\",\"blue\",\"red\",\"blue\",\"red\",\"red\",\"blue\",\"red\",\"red\",\"blue\",\"red\",\"blue\",\"red\",\"blue\",\"red\",\"red\",\"blue\",\"red\",\"blue\",\"red\",\"blue\",\"red\",\"blue\",\"blue\",\"blue\",\"red\",\"red\",\"red\",\"blue\",\"blue\",\"blue\",\"blue\",\"red\",\"red\",\"red\",\"red\",\"blue\",\"red\",\"red\",\"red\",\"red\",\"red\",\"blue\",\"blue\",\"red\",\"blue\",\"red\",\"red\",\"red\",\"blue\",\"blue\",\"blue\",\"red\",\"blue\",\"blue\",\"blue\",\"red\",\"red\",\"blue\",\"red\",\"red\",\"red\",\"red\",\"blue\",\"red\",\"red\",\"blue\",\"red\",\"red\",\"blue\",\"red\",\"blue\",\"red\",\"red\",\"blue\",\"blue\",\"blue\",\"blue\",\"blue\",\"blue\",\"red\",\"blue\",\"red\",\"red\",\"red\",\"blue\",\"red\",\"red\",\"red\",\"red\",\"blue\",\"red\",\"red\",\"blue\",\"red\",\"red\",\"red\",\"blue\",\"blue\",\"red\",\"red\",\"blue\",\"blue\",\"blue\",\"red\",\"red\",\"red\",\"red\",\"blue\",\"red\",\"red\",\"blue\",\"blue\",\"blue\",\"blue\",\"red\",\"blue\",\"red\",\"red\",\"blue\",\"blue\",\"blue\",\"blue\",\"red\",\"red\",\"blue\",\"blue\",\"red\",\"blue\",\"blue\",\"blue\",\"blue\",\"red\",\"red\",\"blue\",\"blue\",\"red\",\"blue\",\"blue\",\"red\",\"blue\",\"red\",\"red\",\"blue\",\"blue\",\"red\",\"red\",\"blue\",\"blue\",\"red\",\"blue\",\"blue\",\"blue\",\"blue\",\"blue\",\"blue\",\"red\",\"blue\",\"blue\",\"blue\",\"blue\",\"red\",\"red\",\"blue\",\"red\",\"blue\",\"red\",\"red\",\"blue\",\"red\",\"blue\",\"red\",\"red\",\"blue\",\"blue\",\"blue\",\"blue\",\"red\",\"red\",\"red\",\"red\",\"red\",\"red\",\"red\",\"blue\",\"blue\",\"red\",\"red\",\"blue\",\"blue\",\"blue\",\"blue\",\"red\",\"red\",\"red\",\"blue\",\"blue\",\"red\",\"blue\",\"red\",\"red\",\"red\",\"red\",\"red\",\"blue\",\"blue\",\"red\",\"red\",\"red\",\"blue\",\"red\",\"red\",\"red\",\"blue\",\"blue\",\"blue\",\"red\",\"red\",\"blue\",\"red\",\"blue\",\"red\",\"red\",\"red\",\"red\",\"blue\",\"red\",\"red\",\"blue\",\"red\",\"blue\",\"red\",\"blue\",\"blue\",\"blue\",\"blue\",\"blue\",\"red\",\"red\",\"red\",\"red\",\"red\",\"red\",\"blue\",\"red\",\"blue\",\"blue\",\"blue\",\"red\",\"red\",\"blue\",\"blue\",\"blue\",\"blue\",\"blue\",\"blue\",\"blue\",\"blue\",\"blue\",\"red\",\"red\",\"blue\",\"blue\",\"blue\",\"blue\",\"red\",\"red\",\"red\",\"blue\",\"blue\",\"red\",\"red\",\"blue\",\"red\",\"red\",\"red\",\"blue\",\"blue\",\"blue\",\"blue\",\"blue\",\"red\",\"red\",\"red\",\"blue\",\"red\",\"blue\",\"red\",\"red\",\"blue\",\"red\",\"blue\",\"red\",\"red\",\"red\",\"blue\",\"blue\",\"red\",\"blue\",\"blue\",\"blue\",\"blue\",\"blue\",\"blue\",\"red\",\"red\",\"red\",\"blue\",\"blue\",\"red\",\"blue\",\"blue\",\"red\",\"red\",\"blue\",\"blue\",\"blue\",\"red\",\"red\",\"blue\",\"blue\",\"blue\",\"red\",\"red\",\"red\",\"red\",\"red\",\"blue\",\"red\",\"blue\",\"red\",\"blue\",\"blue\",\"blue\",\"blue\",\"blue\",\"red\",\"red\",\"red\",\"blue\",\"red\",\"blue\",\"red\",\"red\",\"blue\",\"red\",\"red\",\"red\",\"red\",\"red\",\"blue\",\"blue\",\"red\",\"blue\",\"red\",\"blue\",\"blue\",\"blue\",\"red\",\"red\",\"blue\",\"red\",\"blue\",\"blue\",\"red\",\"blue\",\"blue\",\"blue\",\"red\",\"blue\",\"red\",\"blue\",\"red\",\"red\",\"red\",\"red\",\"blue\",\"red\",\"red\",\"red\",\"red\",\"red\",\"red\",\"red\",\"red\",\"red\",\"red\",\"red\",\"red\",\"blue\",\"red\",\"blue\",\"red\",\"red\",\"red\",\"red\",\"red\",\"red\",\"red\",\"red\",\"red\",\"blue\",\"blue\",\"blue\",\"blue\",\"blue\",\"red\",\"red\",\"blue\",\"red\",\"red\",\"blue\",\"blue\",\"red\",\"red\",\"red\",\"red\",\"blue\",\"red\",\"blue\",\"red\",\"blue\",\"blue\",\"blue\",\"red\",\"red\",\"blue\",\"red\",\"red\",\"blue\",\"red\",\"blue\",\"red\",\"blue\",\"red\",\"red\",\"red\",\"blue\",\"blue\",\"red\",\"red\",\"blue\",\"blue\",\"red\",\"red\",\"red\",\"blue\",\"blue\",\"red\",\"blue\",\"red\",\"red\",\"red\",\"red\",\"red\",\"red\",\"red\",\"blue\",\"red\",\"blue\",\"blue\",\"red\",\"blue\",\"red\",\"blue\",\"blue\",\"red\",\"blue\",\"blue\",\"red\",\"red\",\"red\",\"blue\",\"blue\",\"red\",\"red\",\"red\",\"blue\",\"red\",\"blue\",\"red\",\"blue\",\"blue\",\"blue\",\"blue\",\"blue\",\"blue\",\"red\",\"blue\",\"red\",\"red\",\"red\",\"blue\",\"blue\",\"blue\",\"red\",\"blue\",\"red\",\"red\",\"red\",\"red\",\"red\",\"blue\",\"red\",\"red\",\"blue\",\"blue\",\"red\",\"red\",\"blue\",\"red\",\"blue\",\"red\",\"blue\",\"red\",\"blue\",\"blue\",\"blue\",\"red\",\"blue\",\"red\",\"blue\",\"red\",\"red\",\"red\",\"red\",\"blue\",\"blue\",\"blue\",\"blue\",\"red\",\"blue\",\"red\",\"blue\",\"blue\",\"red\",\"red\",\"red\",\"red\",\"red\",\"blue\",\"red\",\"red\",\"red\",\"red\",\"blue\",\"blue\",\"blue\",\"red\",\"red\",\"red\",\"blue\",\"red\",\"blue\",\"red\",\"red\",\"red\",\"blue\",\"blue\",\"red\",\"red\",\"red\",\"blue\",\"red\",\"red\",\"blue\",\"red\",\"red\",\"red\",\"blue\",\"red\",\"blue\",\"blue\",\"red\",\"blue\",\"blue\",\"blue\",\"blue\",\"red\",\"red\",\"blue\",\"blue\",\"red\",\"red\",\"blue\",\"red\",\"blue\",\"red\",\"red\",\"red\",\"red\",\"blue\",\"blue\",\"blue\",\"blue\",\"red\",\"blue\",\"red\",\"blue\",\"red\",\"red\",\"red\",\"red\",\"red\",\"red\",\"blue\",\"red\",\"blue\",\"red\",\"red\",\"red\",\"blue\",\"blue\",\"blue\",\"blue\",\"red\",\"red\",\"blue\",\"red\",\"blue\",\"blue\",\"blue\",\"red\",\"red\",\"red\",\"blue\",\"blue\",\"red\",\"red\",\"blue\",\"blue\",\"red\",\"blue\",\"red\",\"blue\",\"red\",\"red\",\"red\",\"red\",\"blue\",\"red\",\"red\",\"blue\",\"blue\",\"red\",\"blue\",\"red\",\"red\",\"red\",\"blue\",\"blue\",\"red\",\"red\",\"red\",\"red\",\"red\",\"blue\",\"blue\",\"red\",\"red\",\"red\",\"red\",\"blue\",\"blue\",\"blue\",\"blue\",\"red\",\"red\",\"blue\",\"blue\",\"blue\",\"blue\",\"blue\",\"blue\",\"blue\",\"blue\",\"red\",\"red\",\"blue\",\"red\",\"blue\",\"red\",\"red\",\"red\",\"blue\",\"red\",\"blue\",\"red\",\"blue\",\"red\",\"blue\",\"red\",\"blue\",\"blue\",\"red\",\"red\",\"blue\",\"red\",\"blue\",\"blue\",\"red\",\"red\",\"blue\",\"blue\",\"blue\",\"red\",\"blue\",\"blue\",\"blue\",\"blue\",\"blue\",\"red\",\"blue\",\"red\",\"blue\",\"blue\",\"red\",\"red\",\"red\",\"blue\",\"red\",\"red\"],\"x\":{\"__ndarray__\":\"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\",\"dtype\":\"float32\",\"order\":\"little\",\"shape\":[1280]},\"y\":{\"__ndarray__\":\"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\",\"dtype\":\"float32\",\"order\":\"little\",\"shape\":[1280]}},\"selected\":{\"id\":\"1307\"},\"selection_policy\":{\"id\":\"1306\"}},\"id\":\"1236\",\"type\":\"ColumnDataSource\"},{\"attributes\":{\"active_scroll\":{\"id\":\"1255\"},\"tools\":[{\"id\":\"1254\"},{\"id\":\"1255\"},{\"id\":\"1256\"},{\"id\":\"1257\"},{\"id\":\"1258\"},{\"id\":\"1259\"},{\"id\":\"1274\"}]},\"id\":\"1261\",\"type\":\"Toolbar\"},{\"attributes\":{\"coordinates\":null,\"formatter\":{\"id\":\"1304\"},\"group\":null,\"major_label_policy\":{\"id\":\"1305\"},\"ticker\":{\"id\":\"1247\"}},\"id\":\"1246\",\"type\":\"LinearAxis\"},{\"attributes\":{},\"id\":\"1258\",\"type\":\"ResetTool\"},{\"attributes\":{\"axis\":{\"id\":\"1246\"},\"coordinates\":null,\"group\":null,\"ticker\":null},\"id\":\"1249\",\"type\":\"Grid\"},{\"attributes\":{},\"id\":\"1259\",\"type\":\"HelpTool\"},{\"attributes\":{\"coordinates\":null,\"group\":null},\"id\":\"1298\",\"type\":\"Title\"},{\"attributes\":{},\"id\":\"1242\",\"type\":\"LinearScale\"},{\"attributes\":{},\"id\":\"1240\",\"type\":\"DataRange1d\"},{\"attributes\":{\"source\":{\"id\":\"1236\"}},\"id\":\"1273\",\"type\":\"CDSView\"},{\"attributes\":{},\"id\":\"1307\",\"type\":\"Selection\"},{\"attributes\":{\"axis\":{\"id\":\"1250\"},\"coordinates\":null,\"dimension\":1,\"group\":null,\"ticker\":null},\"id\":\"1253\",\"type\":\"Grid\"},{\"attributes\":{},\"id\":\"1302\",\"type\":\"AllLabels\"},{\"attributes\":{},\"id\":\"1306\",\"type\":\"UnionRenderers\"},{\"attributes\":{\"coordinates\":null,\"data_source\":{\"id\":\"1236\"},\"glyph\":{\"id\":\"1269\"},\"group\":null,\"hover_glyph\":null,\"muted_glyph\":{\"id\":\"1271\"},\"nonselection_glyph\":{\"id\":\"1270\"},\"view\":{\"id\":\"1273\"}},\"id\":\"1272\",\"type\":\"GlyphRenderer\"},{\"attributes\":{},\"id\":\"1251\",\"type\":\"BasicTicker\"},{\"attributes\":{},\"id\":\"1244\",\"type\":\"LinearScale\"},{\"attributes\":{},\"id\":\"1305\",\"type\":\"AllLabels\"},{\"attributes\":{\"fill_alpha\":{\"value\":0.2},\"fill_color\":{\"field\":\"color\"},\"hatch_alpha\":{\"value\":0.2},\"hatch_color\":{\"field\":\"color\"},\"line_alpha\":{\"value\":0.2},\"line_color\":{\"field\":\"color\"},\"size\":{\"value\":10},\"x\":{\"field\":\"x\"},\"y\":{\"field\":\"y\"}},\"id\":\"1271\",\"type\":\"Scatter\"},{\"attributes\":{\"fill_alpha\":{\"value\":0.25},\"fill_color\":{\"field\":\"color\"},\"hatch_alpha\":{\"value\":0.25},\"hatch_color\":{\"field\":\"color\"},\"line_alpha\":{\"value\":0.25},\"line_color\":{\"field\":\"color\"},\"size\":{\"value\":10},\"x\":{\"field\":\"x\"},\"y\":{\"field\":\"y\"}},\"id\":\"1269\",\"type\":\"Scatter\"},{\"attributes\":{},\"id\":\"1254\",\"type\":\"PanTool\"},{\"attributes\":{\"fill_alpha\":{\"value\":0.1},\"fill_color\":{\"field\":\"color\"},\"hatch_alpha\":{\"value\":0.1},\"hatch_color\":{\"field\":\"color\"},\"line_alpha\":{\"value\":0.1},\"line_color\":{\"field\":\"color\"},\"size\":{\"value\":10},\"x\":{\"field\":\"x\"},\"y\":{\"field\":\"y\"}},\"id\":\"1270\",\"type\":\"Scatter\"}],\"root_ids\":[\"1237\"]},\"title\":\"Bokeh Application\",\"version\":\"2.4.2\"}};\n",
       "  const render_items = [{\"docid\":\"2264bd2e-5a35-47ac-b932-2495675d4dc3\",\"root_ids\":[\"1237\"],\"roots\":{\"1237\":\"49facfa8-fa19-48e2-9255-79b1dc9d508b\"}}];\n",
       "  root.Bokeh.embed.embed_items_notebook(docs_json, render_items);\n",
       "\n",
       "  }\n",
       "  if (root.Bokeh !== undefined) {\n",
       "    embed_document(root);\n",
       "  } else {\n",
       "    let attempts = 0;\n",
       "    const timer = setInterval(function(root) {\n",
       "      if (root.Bokeh !== undefined) {\n",
       "        clearInterval(timer);\n",
       "        embed_document(root);\n",
       "      } else {\n",
       "        attempts++;\n",
       "        if (attempts > 100) {\n",
       "          clearInterval(timer);\n",
       "          console.log(\"Bokeh: ERROR: Unable to run BokehJS code because BokehJS library is missing\");\n",
       "        }\n",
       "      }\n",
       "    }, 10, root)\n",
       "  }\n",
       "})(window);"
      ],
      "application/vnd.bokehjs_exec.v0+json": ""
     },
     "metadata": {
      "application/vnd.bokehjs_exec.v0+json": {
       "id": "1237"
      }
     },
     "output_type": "display_data"
    },
    {
     "data": {
      "text/html": [
       "<div style=\"display: table;\"><div style=\"display: table-row;\"><div style=\"display: table-cell;\"><b title=\"bokeh.plotting.figure.Figure\">Figure</b>(</div><div style=\"display: table-cell;\">id&nbsp;=&nbsp;'1237', <span id=\"1365\" style=\"cursor: pointer;\">&hellip;)</span></div></div><div class=\"1364\" style=\"display: none;\"><div style=\"display: table-cell;\"></div><div style=\"display: table-cell;\">above&nbsp;=&nbsp;[],</div></div><div class=\"1364\" style=\"display: none;\"><div style=\"display: table-cell;\"></div><div style=\"display: table-cell;\">align&nbsp;=&nbsp;'start',</div></div><div class=\"1364\" style=\"display: none;\"><div style=\"display: table-cell;\"></div><div style=\"display: table-cell;\">aspect_ratio&nbsp;=&nbsp;None,</div></div><div class=\"1364\" style=\"display: none;\"><div style=\"display: table-cell;\"></div><div style=\"display: table-cell;\">aspect_scale&nbsp;=&nbsp;1,</div></div><div class=\"1364\" style=\"display: none;\"><div style=\"display: table-cell;\"></div><div style=\"display: table-cell;\">background&nbsp;=&nbsp;None,</div></div><div class=\"1364\" style=\"display: none;\"><div style=\"display: table-cell;\"></div><div style=\"display: table-cell;\">background_fill_alpha&nbsp;=&nbsp;1.0,</div></div><div class=\"1364\" style=\"display: none;\"><div style=\"display: table-cell;\"></div><div style=\"display: table-cell;\">background_fill_color&nbsp;=&nbsp;'#ffffff',</div></div><div class=\"1364\" style=\"display: none;\"><div style=\"display: table-cell;\"></div><div style=\"display: table-cell;\">below&nbsp;=&nbsp;[LinearAxis(id='1246', ...)],</div></div><div class=\"1364\" style=\"display: none;\"><div style=\"display: table-cell;\"></div><div style=\"display: table-cell;\">border_fill_alpha&nbsp;=&nbsp;1.0,</div></div><div class=\"1364\" style=\"display: none;\"><div style=\"display: table-cell;\"></div><div style=\"display: table-cell;\">border_fill_color&nbsp;=&nbsp;'#ffffff',</div></div><div class=\"1364\" style=\"display: none;\"><div style=\"display: table-cell;\"></div><div style=\"display: table-cell;\">center&nbsp;=&nbsp;[Grid(id='1249', ...), Grid(id='1253', ...)],</div></div><div class=\"1364\" style=\"display: none;\"><div style=\"display: table-cell;\"></div><div style=\"display: table-cell;\">css_classes&nbsp;=&nbsp;[],</div></div><div class=\"1364\" style=\"display: none;\"><div style=\"display: table-cell;\"></div><div style=\"display: table-cell;\">disabled&nbsp;=&nbsp;False,</div></div><div class=\"1364\" style=\"display: none;\"><div style=\"display: table-cell;\"></div><div style=\"display: table-cell;\">extra_x_ranges&nbsp;=&nbsp;{},</div></div><div class=\"1364\" style=\"display: none;\"><div style=\"display: table-cell;\"></div><div style=\"display: table-cell;\">extra_x_scales&nbsp;=&nbsp;{},</div></div><div class=\"1364\" style=\"display: none;\"><div style=\"display: table-cell;\"></div><div style=\"display: table-cell;\">extra_y_ranges&nbsp;=&nbsp;{},</div></div><div class=\"1364\" style=\"display: none;\"><div style=\"display: table-cell;\"></div><div style=\"display: table-cell;\">extra_y_scales&nbsp;=&nbsp;{},</div></div><div class=\"1364\" style=\"display: none;\"><div style=\"display: table-cell;\"></div><div style=\"display: table-cell;\">frame_height&nbsp;=&nbsp;None,</div></div><div class=\"1364\" style=\"display: none;\"><div style=\"display: table-cell;\"></div><div style=\"display: table-cell;\">frame_width&nbsp;=&nbsp;None,</div></div><div class=\"1364\" style=\"display: none;\"><div style=\"display: table-cell;\"></div><div style=\"display: table-cell;\">height&nbsp;=&nbsp;400,</div></div><div class=\"1364\" style=\"display: none;\"><div style=\"display: table-cell;\"></div><div style=\"display: table-cell;\">height_policy&nbsp;=&nbsp;'auto',</div></div><div class=\"1364\" style=\"display: none;\"><div style=\"display: table-cell;\"></div><div style=\"display: table-cell;\">hidpi&nbsp;=&nbsp;True,</div></div><div class=\"1364\" style=\"display: none;\"><div style=\"display: table-cell;\"></div><div style=\"display: table-cell;\">inner_height&nbsp;=&nbsp;0,</div></div><div class=\"1364\" style=\"display: none;\"><div style=\"display: table-cell;\"></div><div style=\"display: table-cell;\">inner_width&nbsp;=&nbsp;0,</div></div><div class=\"1364\" style=\"display: none;\"><div style=\"display: table-cell;\"></div><div style=\"display: table-cell;\">js_event_callbacks&nbsp;=&nbsp;{},</div></div><div class=\"1364\" style=\"display: none;\"><div style=\"display: table-cell;\"></div><div style=\"display: table-cell;\">js_property_callbacks&nbsp;=&nbsp;{},</div></div><div class=\"1364\" style=\"display: none;\"><div style=\"display: table-cell;\"></div><div style=\"display: table-cell;\">left&nbsp;=&nbsp;[LinearAxis(id='1250', ...)],</div></div><div class=\"1364\" style=\"display: none;\"><div style=\"display: table-cell;\"></div><div style=\"display: table-cell;\">lod_factor&nbsp;=&nbsp;10,</div></div><div class=\"1364\" style=\"display: none;\"><div style=\"display: table-cell;\"></div><div style=\"display: table-cell;\">lod_interval&nbsp;=&nbsp;300,</div></div><div class=\"1364\" style=\"display: none;\"><div style=\"display: table-cell;\"></div><div style=\"display: table-cell;\">lod_threshold&nbsp;=&nbsp;2000,</div></div><div class=\"1364\" style=\"display: none;\"><div style=\"display: table-cell;\"></div><div style=\"display: table-cell;\">lod_timeout&nbsp;=&nbsp;500,</div></div><div class=\"1364\" style=\"display: none;\"><div style=\"display: table-cell;\"></div><div style=\"display: table-cell;\">margin&nbsp;=&nbsp;(0, 0, 0, 0),</div></div><div class=\"1364\" style=\"display: none;\"><div style=\"display: table-cell;\"></div><div style=\"display: table-cell;\">match_aspect&nbsp;=&nbsp;False,</div></div><div class=\"1364\" style=\"display: none;\"><div style=\"display: table-cell;\"></div><div style=\"display: table-cell;\">max_height&nbsp;=&nbsp;None,</div></div><div class=\"1364\" style=\"display: none;\"><div style=\"display: table-cell;\"></div><div style=\"display: table-cell;\">max_width&nbsp;=&nbsp;None,</div></div><div class=\"1364\" style=\"display: none;\"><div style=\"display: table-cell;\"></div><div style=\"display: table-cell;\">min_border&nbsp;=&nbsp;5,</div></div><div class=\"1364\" style=\"display: none;\"><div style=\"display: table-cell;\"></div><div style=\"display: table-cell;\">min_border_bottom&nbsp;=&nbsp;None,</div></div><div class=\"1364\" style=\"display: none;\"><div style=\"display: table-cell;\"></div><div style=\"display: table-cell;\">min_border_left&nbsp;=&nbsp;None,</div></div><div class=\"1364\" style=\"display: none;\"><div style=\"display: table-cell;\"></div><div style=\"display: table-cell;\">min_border_right&nbsp;=&nbsp;None,</div></div><div class=\"1364\" style=\"display: none;\"><div style=\"display: table-cell;\"></div><div style=\"display: table-cell;\">min_border_top&nbsp;=&nbsp;None,</div></div><div class=\"1364\" style=\"display: none;\"><div style=\"display: table-cell;\"></div><div style=\"display: table-cell;\">min_height&nbsp;=&nbsp;None,</div></div><div class=\"1364\" style=\"display: none;\"><div style=\"display: table-cell;\"></div><div style=\"display: table-cell;\">min_width&nbsp;=&nbsp;None,</div></div><div class=\"1364\" style=\"display: none;\"><div style=\"display: table-cell;\"></div><div style=\"display: table-cell;\">name&nbsp;=&nbsp;None,</div></div><div class=\"1364\" style=\"display: none;\"><div style=\"display: table-cell;\"></div><div style=\"display: table-cell;\">outer_height&nbsp;=&nbsp;0,</div></div><div class=\"1364\" style=\"display: none;\"><div style=\"display: table-cell;\"></div><div style=\"display: table-cell;\">outer_width&nbsp;=&nbsp;0,</div></div><div class=\"1364\" style=\"display: none;\"><div style=\"display: table-cell;\"></div><div style=\"display: table-cell;\">outline_line_alpha&nbsp;=&nbsp;1.0,</div></div><div class=\"1364\" style=\"display: none;\"><div style=\"display: table-cell;\"></div><div style=\"display: table-cell;\">outline_line_cap&nbsp;=&nbsp;'butt',</div></div><div class=\"1364\" style=\"display: none;\"><div style=\"display: table-cell;\"></div><div style=\"display: table-cell;\">outline_line_color&nbsp;=&nbsp;'#e5e5e5',</div></div><div class=\"1364\" style=\"display: none;\"><div style=\"display: table-cell;\"></div><div style=\"display: table-cell;\">outline_line_dash&nbsp;=&nbsp;[],</div></div><div class=\"1364\" style=\"display: none;\"><div style=\"display: table-cell;\"></div><div style=\"display: table-cell;\">outline_line_dash_offset&nbsp;=&nbsp;0,</div></div><div class=\"1364\" style=\"display: none;\"><div style=\"display: table-cell;\"></div><div style=\"display: table-cell;\">outline_line_join&nbsp;=&nbsp;'bevel',</div></div><div class=\"1364\" style=\"display: none;\"><div style=\"display: table-cell;\"></div><div style=\"display: table-cell;\">outline_line_width&nbsp;=&nbsp;1,</div></div><div class=\"1364\" style=\"display: none;\"><div style=\"display: table-cell;\"></div><div style=\"display: table-cell;\">output_backend&nbsp;=&nbsp;'canvas',</div></div><div class=\"1364\" style=\"display: none;\"><div style=\"display: table-cell;\"></div><div style=\"display: table-cell;\">renderers&nbsp;=&nbsp;[GlyphRenderer(id='1272', ...)],</div></div><div class=\"1364\" style=\"display: none;\"><div style=\"display: table-cell;\"></div><div style=\"display: table-cell;\">reset_policy&nbsp;=&nbsp;'standard',</div></div><div class=\"1364\" style=\"display: none;\"><div style=\"display: table-cell;\"></div><div style=\"display: table-cell;\">right&nbsp;=&nbsp;[],</div></div><div class=\"1364\" style=\"display: none;\"><div style=\"display: table-cell;\"></div><div style=\"display: table-cell;\">sizing_mode&nbsp;=&nbsp;None,</div></div><div class=\"1364\" style=\"display: none;\"><div style=\"display: table-cell;\"></div><div style=\"display: table-cell;\">subscribed_events&nbsp;=&nbsp;[],</div></div><div class=\"1364\" style=\"display: none;\"><div style=\"display: table-cell;\"></div><div style=\"display: table-cell;\">syncable&nbsp;=&nbsp;True,</div></div><div class=\"1364\" style=\"display: none;\"><div style=\"display: table-cell;\"></div><div style=\"display: table-cell;\">tags&nbsp;=&nbsp;[],</div></div><div class=\"1364\" style=\"display: none;\"><div style=\"display: table-cell;\"></div><div style=\"display: table-cell;\">title&nbsp;=&nbsp;Title(id='1298', ...),</div></div><div class=\"1364\" style=\"display: none;\"><div style=\"display: table-cell;\"></div><div style=\"display: table-cell;\">title_location&nbsp;=&nbsp;'above',</div></div><div class=\"1364\" style=\"display: none;\"><div style=\"display: table-cell;\"></div><div style=\"display: table-cell;\">toolbar&nbsp;=&nbsp;Toolbar(id='1261', ...),</div></div><div class=\"1364\" style=\"display: none;\"><div style=\"display: table-cell;\"></div><div style=\"display: table-cell;\">toolbar_location&nbsp;=&nbsp;'right',</div></div><div class=\"1364\" style=\"display: none;\"><div style=\"display: table-cell;\"></div><div style=\"display: table-cell;\">toolbar_sticky&nbsp;=&nbsp;True,</div></div><div class=\"1364\" style=\"display: none;\"><div style=\"display: table-cell;\"></div><div style=\"display: table-cell;\">visible&nbsp;=&nbsp;True,</div></div><div class=\"1364\" style=\"display: none;\"><div style=\"display: table-cell;\"></div><div style=\"display: table-cell;\">width&nbsp;=&nbsp;600,</div></div><div class=\"1364\" style=\"display: none;\"><div style=\"display: table-cell;\"></div><div style=\"display: table-cell;\">width_policy&nbsp;=&nbsp;'auto',</div></div><div class=\"1364\" style=\"display: none;\"><div style=\"display: table-cell;\"></div><div style=\"display: table-cell;\">x_range&nbsp;=&nbsp;DataRange1d(id='1238', ...),</div></div><div class=\"1364\" style=\"display: none;\"><div style=\"display: table-cell;\"></div><div style=\"display: table-cell;\">x_scale&nbsp;=&nbsp;LinearScale(id='1242', ...),</div></div><div class=\"1364\" style=\"display: none;\"><div style=\"display: table-cell;\"></div><div style=\"display: table-cell;\">y_range&nbsp;=&nbsp;DataRange1d(id='1240', ...),</div></div><div class=\"1364\" style=\"display: none;\"><div style=\"display: table-cell;\"></div><div style=\"display: table-cell;\">y_scale&nbsp;=&nbsp;LinearScale(id='1244', ...))</div></div></div>\n",
       "<script>\n",
       "(function() {\n",
       "  let expanded = false;\n",
       "  const ellipsis = document.getElementById(\"1365\");\n",
       "  ellipsis.addEventListener(\"click\", function() {\n",
       "    const rows = document.getElementsByClassName(\"1364\");\n",
       "    for (let i = 0; i < rows.length; i++) {\n",
       "      const el = rows[i];\n",
       "      el.style.display = expanded ? \"none\" : \"table-row\";\n",
       "    }\n",
       "    ellipsis.innerHTML = expanded ? \"&hellip;)\" : \"&lsaquo;&lsaquo;&lsaquo;\";\n",
       "    expanded = !expanded;\n",
       "  });\n",
       "})();\n",
       "</script>\n"
      ],
      "text/plain": [
       "Figure(id='1237', ...)"
      ]
     },
     "execution_count": 42,
     "metadata": {},
     "output_type": "execute_result"
    }
   ],
   "source": [
    "import bokeh.models as bm, bokeh.plotting as pl\n",
    "from bokeh.io import output_notebook\n",
    "output_notebook()\n",
    "\n",
    "def draw_vectors(x, y, radius=10, alpha=0.25, color='blue',\n",
    "                 width=600, height=400, show=True, **kwargs):\n",
    "    \"\"\" draws an interactive plot for data points with auxilirary info on hover \"\"\"\n",
    "    data_source = bm.ColumnDataSource({ 'x' : x, 'y' : y, 'color': color, **kwargs })\n",
    "\n",
    "    fig = pl.figure(active_scroll='wheel_zoom', width=width, height=height)\n",
    "    fig.scatter('x', 'y', size=radius, color='color', alpha=alpha, source=data_source)\n",
    "\n",
    "    fig.add_tools(bm.HoverTool(tooltips=[(key, \"@\" + key) for key in kwargs.keys()]))\n",
    "    if show: pl.show(fig)\n",
    "    return fig\n",
    "\n",
    "draw_vectors(\n",
    "    examples[\"transformed_features\"][:, 0], \n",
    "    examples[\"transformed_features\"][:, 1], \n",
    "    color=[[\"red\", \"blue\"][t] for t in examples[\"targets\"]]\n",
    "    )"
   ]
  },
  {
   "cell_type": "code",
   "execution_count": 43,
   "metadata": {},
   "outputs": [],
   "source": [
    "from torch.utils.data import DataLoader\n",
    "\n",
    "\n",
    "batch_size = 1024\n",
    "# При других значениях не работает на моём компьютере\n",
    "num_workers = 0\n",
    "\n",
    "def average_emb(batch):\n",
    "    features = [np.mean(b[\"feature\"], axis=0) for b in batch]\n",
    "    targets = [b[\"target\"] for b in batch]\n",
    "\n",
    "    return {\"features\": torch.FloatTensor(features), \"targets\": torch.LongTensor(targets)}\n",
    "\n",
    "\n",
    "train_size = math.ceil(len(dev) * 0.8)\n",
    "\n",
    "train, valid = random_split(dev, [train_size, len(dev) - train_size])\n",
    "\n",
    "train_loader = DataLoader(train, batch_size=batch_size, num_workers=num_workers, shuffle=True, drop_last=True, collate_fn=average_emb)\n",
    "valid_loader = DataLoader(valid, batch_size=batch_size, num_workers=num_workers, shuffle=False, drop_last=False, collate_fn=average_emb)"
   ]
  },
  {
   "cell_type": "code",
   "execution_count": 45,
   "metadata": {},
   "outputs": [
    {
     "data": {
      "application/vnd.jupyter.widget-view+json": {
       "model_id": "ac6809719ea342c6bd2b55b8aa553160",
       "version_major": 2,
       "version_minor": 0
      },
      "text/plain": [
       "Epoch 1. Train Loss: 0:   0%|          | 0/1000 [00:00<?, ?it/s]"
      ]
     },
     "metadata": {},
     "output_type": "display_data"
    },
    {
     "data": {
      "application/vnd.jupyter.widget-view+json": {
       "model_id": "6f40cebc152e430ea8282257737d0ec1",
       "version_major": 2,
       "version_minor": 0
      },
      "text/plain": [
       "Test Loss: 0, Test Acc: 0:   0%|          | 0/250 [00:00<?, ?it/s]"
      ]
     },
     "metadata": {},
     "output_type": "display_data"
    },
    {
     "name": "stdout",
     "output_type": "stream",
     "text": [
      "{'Test Loss': 0.5061777769327164, 'Test Acc': 0.7496796875}\n"
     ]
    },
    {
     "data": {
      "application/vnd.jupyter.widget-view+json": {
       "model_id": "6ae8510924ee47b1b1641e26efe1e3af",
       "version_major": 2,
       "version_minor": 0
      },
      "text/plain": [
       "Epoch 2. Train Loss: 0:   0%|          | 0/1000 [00:00<?, ?it/s]"
      ]
     },
     "metadata": {},
     "output_type": "display_data"
    },
    {
     "data": {
      "application/vnd.jupyter.widget-view+json": {
       "model_id": "c74c05a7414b46839256db350e72f506",
       "version_major": 2,
       "version_minor": 0
      },
      "text/plain": [
       "Test Loss: 0, Test Acc: 0:   0%|          | 0/250 [00:00<?, ?it/s]"
      ]
     },
     "metadata": {},
     "output_type": "display_data"
    },
    {
     "name": "stdout",
     "output_type": "stream",
     "text": [
      "{'Test Loss': 0.4964480060338974, 'Test Acc': 0.75629296875}\n"
     ]
    },
    {
     "data": {
      "application/vnd.jupyter.widget-view+json": {
       "model_id": "d63b73297c474a12a873067397e3d88c",
       "version_major": 2,
       "version_minor": 0
      },
      "text/plain": [
       "Epoch 3. Train Loss: 0:   0%|          | 0/1000 [00:00<?, ?it/s]"
      ]
     },
     "metadata": {},
     "output_type": "display_data"
    },
    {
     "data": {
      "application/vnd.jupyter.widget-view+json": {
       "model_id": "0c29b6b3b7934e29bebff10d74b3e724",
       "version_major": 2,
       "version_minor": 0
      },
      "text/plain": [
       "Test Loss: 0, Test Acc: 0:   0%|          | 0/250 [00:00<?, ?it/s]"
      ]
     },
     "metadata": {},
     "output_type": "display_data"
    },
    {
     "name": "stdout",
     "output_type": "stream",
     "text": [
      "{'Test Loss': 0.4937968516349793, 'Test Acc': 0.75690625}\n"
     ]
    },
    {
     "data": {
      "application/vnd.jupyter.widget-view+json": {
       "model_id": "169ec441b1f64da29092f6575ac954dc",
       "version_major": 2,
       "version_minor": 0
      },
      "text/plain": [
       "Epoch 4. Train Loss: 0:   0%|          | 0/1000 [00:00<?, ?it/s]"
      ]
     },
     "metadata": {},
     "output_type": "display_data"
    },
    {
     "data": {
      "application/vnd.jupyter.widget-view+json": {
       "model_id": "e9af21360e0b450c8b8a59146c3b2eb7",
       "version_major": 2,
       "version_minor": 0
      },
      "text/plain": [
       "Test Loss: 0, Test Acc: 0:   0%|          | 0/250 [00:00<?, ?it/s]"
      ]
     },
     "metadata": {},
     "output_type": "display_data"
    },
    {
     "name": "stdout",
     "output_type": "stream",
     "text": [
      "{'Test Loss': 0.4908607691526413, 'Test Acc': 0.75896875}\n"
     ]
    }
   ],
   "source": [
    "model =  one_model(vector_size, num_classes)\n",
    "model = model.cuda()\n",
    "\n",
    "# Твой лосс\n",
    "criterion = nn.BCELoss()\n",
    "# Твой оптимайзер\n",
    "optimizer = torch.optim.Adam(model.parameters(), lr=lr)\n",
    "\n",
    "\n",
    "best_metric = np.inf\n",
    "for e in range(num_epochs):\n",
    "    training(model, optimizer, criterion, train_loader, e, device)\n",
    "    log = testing(model, criterion, valid_loader, device)\n",
    "    print(log)\n",
    "    if log[\"Test Loss\"] < best_metric:\n",
    "        torch.save(model.state_dict(), \"model.pt\")\n",
    "        best_metric = log[\"Test Loss\"]"
   ]
  },
  {
   "cell_type": "code",
   "execution_count": 46,
   "metadata": {},
   "outputs": [
    {
     "data": {
      "application/vnd.jupyter.widget-view+json": {
       "model_id": "975907af9ff74ee6be890f59fbf1700b",
       "version_major": 2,
       "version_minor": 0
      },
      "text/plain": [
       "Test Loss: 0, Test Acc: 0:   0%|          | 0/313 [00:00<?, ?it/s]"
      ]
     },
     "metadata": {},
     "output_type": "display_data"
    },
    {
     "name": "stdout",
     "output_type": "stream",
     "text": [
      "{'Test Loss': 1.1730557002198583, 'Test Acc': 0.625948482428115}\n"
     ]
    }
   ],
   "source": [
    "test_loader = DataLoader(\n",
    "    TwitterDataset(test_data, \"text\", \"emotion\", word2vec), \n",
    "    batch_size=batch_size, \n",
    "    num_workers=num_workers, \n",
    "    shuffle=False,\n",
    "    drop_last=False, \n",
    "    collate_fn=average_emb)\n",
    "\n",
    "model.load_state_dict(torch.load(\"model.pt\", map_location=device))\n",
    "\n",
    "print(testing(model, criterion, test_loader, device=device))"
   ]
  },
  {
   "cell_type": "markdown",
   "metadata": {},
   "source": [
    "# Выводы"
   ]
  },
  {
   "cell_type": "markdown",
   "metadata": {},
   "source": [
    "Наблюдается переобучение в первой и второй резализации. По моим предположениям, необходимо просить нейронную сеть иначе, так как получаем преобучение. \n",
    "\n",
    "При этом, мы не занимались особым подбором гиперпараметров, что тоже оказало влияние на качество модели. Так же, первый и второй вариант можно улучшить, что очень важно. Например, мы можем тот же TF-IDF задать иначе, указав некоторые параметры модели, можно изменить настройки метода понижения размерности, можно улучшить сами эмбэдинги, например, дообучать их вместе с графом вычислений.\n",
    "\n",
    "Так же, стоит отметить, что в подходе 1 и 2 мы даём больше информации для нейронной сети, особенно, когда используем TF-IDF. Но, по всей видимости, модель не может извлечь дополнительные закономерности. И тут следующие размышления - нейронная сеть простая или новые данные первого и второго подхода несут мало информативности. "
   ]
  }
 ],
 "metadata": {
  "accelerator": "GPU",
  "colab": {
   "collapsed_sections": [],
   "name": "[homework]embeddings.ipynb",
   "private_outputs": true,
   "provenance": []
  },
  "kernelspec": {
   "display_name": "Python 3 (ipykernel)",
   "language": "python",
   "name": "python3"
  },
  "language_info": {
   "codemirror_mode": {
    "name": "ipython",
    "version": 3
   },
   "file_extension": ".py",
   "mimetype": "text/x-python",
   "name": "python",
   "nbconvert_exporter": "python",
   "pygments_lexer": "ipython3",
   "version": "3.9.12"
  },
  "varInspector": {
   "cols": {
    "lenName": 16,
    "lenType": 16,
    "lenVar": 40
   },
   "kernels_config": {
    "python": {
     "delete_cmd_postfix": "",
     "delete_cmd_prefix": "del ",
     "library": "var_list.py",
     "varRefreshCmd": "print(var_dic_list())"
    },
    "r": {
     "delete_cmd_postfix": ") ",
     "delete_cmd_prefix": "rm(",
     "library": "var_list.r",
     "varRefreshCmd": "cat(var_dic_list()) "
    }
   },
   "types_to_exclude": [
    "module",
    "function",
    "builtin_function_or_method",
    "instance",
    "_Feature"
   ],
   "window_display": false
  }
 },
 "nbformat": 4,
 "nbformat_minor": 4
}
