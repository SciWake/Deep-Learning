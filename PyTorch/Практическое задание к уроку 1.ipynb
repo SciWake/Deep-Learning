{
  "cells": [
    {
      "attachments": {},
      "cell_type": "markdown",
      "metadata": {},
      "source": [
        "**Задачи для практического задания к уроку 1**\n",
        "\n",
        "1. Создайте случайный FloatTensor размера 3x4x5\n",
        "2. Выведите его форму (shape)\n",
        "3. Приведите его к форме 6х10\n",
        "4. Создайте случайный IntTensor размера 10\n",
        "5. Умножьте созданный FloatTensor на созданный IntTensor поэлементно\n",
        "6. Умножьте тензор матрично на себя, чтобы результат был размерности 6x6 Подсказка: .dot может не подойти\n",
        "7. Посчитайте производную функции y = x**3 + z - 75t в точке (1, 0.5, 2)\n",
        "8. Создайте единичный тензор размера 5x6\n",
        "9. Переведите его в формат numpy"
      ]
    },
    {
      "cell_type": "code",
      "execution_count": 1,
      "metadata": {
        "id": "1WDJ--aSL9fI"
      },
      "outputs": [],
      "source": [
        "import torch"
      ]
    },
    {
      "cell_type": "code",
      "execution_count": 2,
      "metadata": {
        "colab": {
          "base_uri": "https://localhost:8080/"
        },
        "id": "SO6qPahsNVVU",
        "outputId": "e17fd22b-613c-487e-fea4-b3f523300c40"
      },
      "outputs": [
        {
          "data": {
            "text/plain": [
              "tensor([[[ 0.9851, -1.2953,  1.0926, -1.1445,  1.6767],\n",
              "         [ 0.8756,  0.0185,  0.0299, -2.2373, -0.4395],\n",
              "         [ 2.0111,  1.2784,  0.5479,  0.5374,  1.1884],\n",
              "         [-0.2313, -0.0331,  1.8974, -1.3184, -0.4224]],\n",
              "\n",
              "        [[ 1.6230, -0.0971, -0.0101,  1.2767, -1.1594],\n",
              "         [ 0.4946, -1.5093,  0.6165,  2.0378,  1.0296],\n",
              "         [-0.4164,  0.1368,  1.2391, -1.0944, -0.4602],\n",
              "         [ 1.2978, -0.2276, -0.4234, -0.4676, -1.4700]],\n",
              "\n",
              "        [[ 0.7109, -2.4217, -0.3448, -1.3401, -0.7334],\n",
              "         [-1.4754, -0.1367, -0.7094,  1.4383, -1.3699],\n",
              "         [-0.7349,  0.9295,  0.9484, -1.1385,  0.6664],\n",
              "         [-2.0492, -1.1754, -1.8016,  0.1094, -0.0676]]])"
            ]
          },
          "execution_count": 2,
          "metadata": {},
          "output_type": "execute_result"
        }
      ],
      "source": [
        "# 1. Создайте случайный FloatTensor размера 3x4x5\n",
        "float_tensor = torch.randn(3, 4, 5).float()\n",
        "float_tensor"
      ]
    },
    {
      "cell_type": "code",
      "execution_count": 3,
      "metadata": {
        "colab": {
          "base_uri": "https://localhost:8080/"
        },
        "id": "h01-PQPMNVYO",
        "outputId": "bad5a22e-9d6f-43a6-b323-d40960fe7f18"
      },
      "outputs": [
        {
          "data": {
            "text/plain": [
              "torch.Size([3, 4, 5])"
            ]
          },
          "execution_count": 3,
          "metadata": {},
          "output_type": "execute_result"
        }
      ],
      "source": [
        "# 2. Выведите его форму (shape)\n",
        "float_tensor.shape"
      ]
    },
    {
      "cell_type": "code",
      "execution_count": 4,
      "metadata": {
        "colab": {
          "base_uri": "https://localhost:8080/"
        },
        "id": "tYfW9tDBNVbE",
        "outputId": "17d514cf-5385-4534-8d71-67b77817d03e"
      },
      "outputs": [
        {
          "data": {
            "text/plain": [
              "torch.Size([6, 10])"
            ]
          },
          "execution_count": 4,
          "metadata": {},
          "output_type": "execute_result"
        }
      ],
      "source": [
        "# 3. Приведите его к форме 6х10\n",
        "float_tensor = float_tensor.reshape(6, 10)\n",
        "float_tensor.size()"
      ]
    },
    {
      "cell_type": "code",
      "execution_count": 5,
      "metadata": {
        "colab": {
          "base_uri": "https://localhost:8080/"
        },
        "id": "AInQ1YpvNVeG",
        "outputId": "5f379653-1836-4d07-e5f6-22deb6b7f8ca"
      },
      "outputs": [
        {
          "data": {
            "text/plain": [
              "tensor([ 0,  0,  0,  0,  0, -1,  0,  0,  1,  0], dtype=torch.int32)"
            ]
          },
          "execution_count": 5,
          "metadata": {},
          "output_type": "execute_result"
        }
      ],
      "source": [
        "# 4. Создайте случайный IntTensor размера 10\n",
        "int_tensor = torch.randn(10).int()\n",
        "int_tensor"
      ]
    },
    {
      "cell_type": "code",
      "execution_count": 6,
      "metadata": {
        "colab": {
          "base_uri": "https://localhost:8080/"
        },
        "id": "YE0VAkY8Onua",
        "outputId": "fff494e7-f554-4c32-9d2e-95a1c8c74ab5"
      },
      "outputs": [
        {
          "data": {
            "text/plain": [
              "tensor([[ 0.0000, -0.0000,  0.0000, -0.0000,  0.0000, -0.8756,  0.0000,  0.0000,\n",
              "         -2.2373, -0.0000],\n",
              "        [ 0.0000,  0.0000,  0.0000,  0.0000,  0.0000,  0.2313, -0.0000,  0.0000,\n",
              "         -1.3184, -0.0000],\n",
              "        [ 0.0000, -0.0000, -0.0000,  0.0000, -0.0000, -0.4946, -0.0000,  0.0000,\n",
              "          2.0378,  0.0000],\n",
              "        [-0.0000,  0.0000,  0.0000, -0.0000, -0.0000, -1.2978, -0.0000, -0.0000,\n",
              "         -0.4676, -0.0000],\n",
              "        [ 0.0000, -0.0000, -0.0000, -0.0000, -0.0000,  1.4754, -0.0000, -0.0000,\n",
              "          1.4383, -0.0000],\n",
              "        [-0.0000,  0.0000,  0.0000, -0.0000,  0.0000,  2.0492, -0.0000, -0.0000,\n",
              "          0.1094, -0.0000]])"
            ]
          },
          "execution_count": 6,
          "metadata": {},
          "output_type": "execute_result"
        }
      ],
      "source": [
        "# 5. Умножьте созданный FloatTensor на созданный IntTensor поэлементно\n",
        "float_tensor * int_tensor"
      ]
    },
    {
      "cell_type": "code",
      "execution_count": 7,
      "metadata": {
        "colab": {
          "base_uri": "https://localhost:8080/"
        },
        "id": "R6nWnkh4On1t",
        "outputId": "57275365-6823-433d-d2b0-619683285be4"
      },
      "outputs": [
        {
          "data": {
            "text/plain": [
              "torch.Size([6, 6])"
            ]
          },
          "execution_count": 7,
          "metadata": {},
          "output_type": "execute_result"
        }
      ],
      "source": [
        "# 6. Умножьте тензор матрично на себя, чтобы результат был размерности 6x6\n",
        "# Подсказка: .dot может не подойти\n",
        "mm_tensor = float_tensor.mm(float_tensor.T)\n",
        "mm_tensor.shape"
      ]
    },
    {
      "cell_type": "code",
      "execution_count": 8,
      "metadata": {
        "colab": {
          "base_uri": "https://localhost:8080/"
        },
        "id": "6af4WjRcOn4p",
        "outputId": "35a949e1-172a-4659-91bd-7686b6f89486"
      },
      "outputs": [
        {
          "data": {
            "text/plain": [
              "(tensor([3.]), tensor([1.]), tensor([-75.]))"
            ]
          },
          "execution_count": 8,
          "metadata": {},
          "output_type": "execute_result"
        }
      ],
      "source": [
        "# 7. Посчитайте производную функции y = x**3 + z - 75t в точке (1, 0.5, 2)\n",
        "x = torch.tensor([1.0], requires_grad=True)\n",
        "z = torch.tensor([0.5], requires_grad=True)\n",
        "t = torch.tensor([2.0], requires_grad=True)\n",
        "\n",
        "y = (x**3) + z - 75 * t\n",
        "y.backward()\n",
        "x.grad, z.grad, t.grad"
      ]
    },
    {
      "cell_type": "code",
      "execution_count": 9,
      "metadata": {
        "id": "R7d-5j99OqP3"
      },
      "outputs": [],
      "source": [
        "# 8. Создайте единичный тензор размера 5x6\n",
        "nm_tensor = torch.randn(5, 6)"
      ]
    },
    {
      "cell_type": "code",
      "execution_count": 15,
      "metadata": {
        "colab": {
          "base_uri": "https://localhost:8080/"
        },
        "id": "LhQAlStTOqSz",
        "outputId": "6ed5f56e-3391-41cf-e734-d0519e1d63d8"
      },
      "outputs": [
        {
          "data": {
            "text/plain": [
              "array([[-0.6356018 ,  0.7674357 ,  1.2977653 ,  1.5355566 ,  0.41834548,\n",
              "         1.1885126 ],\n",
              "       [ 0.5522573 , -0.14125705, -0.68019027,  0.80297494,  0.8723489 ,\n",
              "         1.1799629 ],\n",
              "       [ 0.30663657, -0.6124171 , -0.2662205 ,  0.5420237 , -0.4199632 ,\n",
              "        -1.8126323 ],\n",
              "       [-0.56907284, -0.5265977 ,  1.0244882 , -1.2007574 , -0.28403944,\n",
              "         0.71688944],\n",
              "       [ 0.7075372 , -0.46512887, -0.16157514, -2.0431497 , -0.78299946,\n",
              "         0.6982327 ]], dtype=float32)"
            ]
          },
          "execution_count": 15,
          "metadata": {},
          "output_type": "execute_result"
        }
      ],
      "source": [
        "# 9. Переведите его в формат numpy\n",
        "nm_tensor.numpy()"
      ]
    }
  ],
  "metadata": {
    "accelerator": "GPU",
    "colab": {
      "name": "Untitled0.ipynb",
      "provenance": []
    },
    "gpuClass": "standard",
    "kernelspec": {
      "display_name": "Python 3",
      "name": "python3"
    },
    "language_info": {
      "codemirror_mode": {
        "name": "ipython",
        "version": 3
      },
      "file_extension": ".py",
      "mimetype": "text/x-python",
      "name": "python",
      "nbconvert_exporter": "python",
      "pygments_lexer": "ipython3",
      "version": "3.9.13"
    }
  },
  "nbformat": 4,
  "nbformat_minor": 0
}
