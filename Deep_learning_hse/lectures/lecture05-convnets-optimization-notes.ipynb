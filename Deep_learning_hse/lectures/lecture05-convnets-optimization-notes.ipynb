{
 "cells": [
  {
   "cell_type": "markdown",
   "id": "978f8e2e",
   "metadata": {},
   "source": [
    "<h1 style=\"color:black\" align=\"center\">Нормализации</h1>\n",
    "\n",
    "<!-- <h1 style=\"color:#008B8B\">1. Covariate shift</h1> -->\n",
    "\n",
    "### Covariate shift\n",
    "\n",
    "Имеется некоторая обучающая выборка с двумя классами, которая устроена следующим образом:\n",
    "\n",
    "<img src='img/lecture05/1.png' width=\"500\" height=\"500\">\n",
    "\n",
    "Исходный набор данных модель способна отделить прямой синего цвета. После, на тестовой выборке, которую мы собрали позже, распределение признаков изменилось (немного съехали под другим углом). Тогда, синяя модель будет плохо работать на тестовых данных и тут будет хорошей моделью красная линия.\n",
    "\n",
    "* В классическом машинном обучении — изменение распределения данных\n",
    "* Много методов решения"
   ]
  },
  {
   "cell_type": "markdown",
   "id": "0034fd4e",
   "metadata": {},
   "source": [
    "### Domain adaptation\n",
    "\n",
    "Имеется обучающая и тестовая выборка. Предположим у нас имеются тестовые объекты, но мы не имеем значение целевой переменной. \n",
    "\n",
    "* Объекты по-разному распределены на обучении и на контроле\n",
    "* Идея: взвешивать объекты при обучении\n",
    "\n",
    "Тогда при обучении в функционал вставим веса $s_i$ при каждом объекте $x_i$ и этот вес будет большим, если $x_i$ объект похож на объект из тестовой выборки, а если объект не похож на тестовый, тогда вес будет маленьким:\n",
    "\n",
    "$$\\large \\sum\\limits_{i=1}^{\\ell} s_i (a(x_i) - y_i)^2 \\to \\underset{a(x)}{\\text{min}} $$\n",
    "\n",
    "* Большие веса будем ставить объектам, которые похожи на объекты из тестовой выборки\n",
    "\n",
    "Да, при обучении мы смотрим на тестовоую выборку, но мы используем только признаки тестовой выборки не используя целевую переменную."
   ]
  },
  {
   "cell_type": "markdown",
   "id": "142c8def",
   "metadata": {},
   "source": [
    "### Internal covariate shift\n",
    "\n",
    "* В нейронной сети каждый слой обучается на выходах предыдущих слоёв\n",
    "* Если слой в начале сильно меняется, то все следующие слои надо переделывать"
   ]
  },
  {
   "cell_type": "code",
   "execution_count": null,
   "id": "bbb3da3e",
   "metadata": {},
   "outputs": [],
   "source": []
  }
 ],
 "metadata": {
  "kernelspec": {
   "display_name": "Python 3 (ipykernel)",
   "language": "python",
   "name": "python3"
  },
  "language_info": {
   "codemirror_mode": {
    "name": "ipython",
    "version": 3
   },
   "file_extension": ".py",
   "mimetype": "text/x-python",
   "name": "python",
   "nbconvert_exporter": "python",
   "pygments_lexer": "ipython3",
   "version": "3.9.7"
  },
  "varInspector": {
   "cols": {
    "lenName": 16,
    "lenType": 16,
    "lenVar": 40
   },
   "kernels_config": {
    "python": {
     "delete_cmd_postfix": "",
     "delete_cmd_prefix": "del ",
     "library": "var_list.py",
     "varRefreshCmd": "print(var_dic_list())"
    },
    "r": {
     "delete_cmd_postfix": ") ",
     "delete_cmd_prefix": "rm(",
     "library": "var_list.r",
     "varRefreshCmd": "cat(var_dic_list()) "
    }
   },
   "types_to_exclude": [
    "module",
    "function",
    "builtin_function_or_method",
    "instance",
    "_Feature"
   ],
   "window_display": false
  }
 },
 "nbformat": 4,
 "nbformat_minor": 5
}
