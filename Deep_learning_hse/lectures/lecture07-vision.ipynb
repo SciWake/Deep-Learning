{
 "cells": [
  {
   "cell_type": "markdown",
   "id": "ab71f9cf",
   "metadata": {},
   "source": [
    "<h1 style=\"color:black\" align=\"center\">Интерпретация моделей</h1>\n",
    "\n",
    "<h1 style=\"color:#008B8B\">1. Что находят свёрточные сети?</h1>\n",
    "\n",
    "https://cs.nyu.edu/~fergus/papers/zeilerECCV2014.pdf\n",
    "\n",
    "* Можно для каждого фильтра найти кусочки картинок, дающие самый сильный отклик\n",
    "* Сделаем это для AlexNet\n",
    "\n",
    "Можно среди всей обучающей выборки найти картинку и кусочек на ней, где фильтр дает наибольший отклик. Посомтрим на пример 3-го сверточного слоя:\n",
    "\n",
    "<img src='img/lecture07/1.png'>"
   ]
  },
  {
   "cell_type": "markdown",
   "id": "7daaa97f",
   "metadata": {},
   "source": [
    "## Максимизация вероятности класса\n",
    "\n",
    "### Вариант 1\n",
    "\n",
    "https://arxiv.org/pdf/1312.6034.pdf\n",
    "\n",
    "Возьмем обученную нейронную сеть $a_y(x)$, где $y$ - это выход конкретного класса, например, вероятность того, что это кошка. Дальше подаем на вход случайную картинку $x$, после чего начинаем изменять данную картинку градиентным спуском, чтобы максимизировать вероятность того, что на картинке кошка. Мы же можем градиентным спуском обучать не параметры, а саму картинку. Тогда посчитам backprop выходы сетки по пикселям входной картинки, после чего сдвигать пиксели, чтобы вероятность максимизировалась.\n",
    "\n",
    "Так же, имеется регуляризатор, который ограничивает величины интенсивности цветов, которые записаны в пикселях.\n",
    "\n",
    "$\\large a_y(x) - \\lambda \\|x\\|_2^2 \\to \\underset{x}{\\text{min}}$\n",
    "\n",
    "Посмотрим, какие картинки с точки зрения нейронной сети с большей вероятностью содержат тот или иной класс:\n",
    "\n",
    "<img src='img/lecture07/2.png'>"
   ]
  },
  {
   "cell_type": "markdown",
   "id": "033cc9af",
   "metadata": {},
   "source": [
    "### Вариант 2\n",
    "\n",
    "Здесь улучшенная версия\n",
    "\n",
    "https://ai.googleblog.com/2015/06/inceptionism-going-deeper-into-neural.html\n",
    "\n",
    "<img src='img/lecture07/3.png'>\n",
    "\n",
    "Давайте теперь инициализировть вход не случайным шумом, как это было на прошлых картинках, а возьмем за основу некоторую картинку и будем максимизировать вероятность некоторого класса.\n",
    "\n",
    "<img src='img/lecture07/4.png'>\n",
    "\n",
    "Дальше можно взять большие картинки и максимизировать вероятность некоторого класса.\n",
    "\n",
    "<img src='img/lecture07/5.png'>"
   ]
  },
  {
   "cell_type": "code",
   "execution_count": null,
   "id": "92625072",
   "metadata": {},
   "outputs": [],
   "source": []
  }
 ],
 "metadata": {
  "kernelspec": {
   "display_name": "Python 3 (ipykernel)",
   "language": "python",
   "name": "python3"
  },
  "language_info": {
   "codemirror_mode": {
    "name": "ipython",
    "version": 3
   },
   "file_extension": ".py",
   "mimetype": "text/x-python",
   "name": "python",
   "nbconvert_exporter": "python",
   "pygments_lexer": "ipython3",
   "version": "3.9.7"
  },
  "varInspector": {
   "cols": {
    "lenName": 16,
    "lenType": 16,
    "lenVar": 40
   },
   "kernels_config": {
    "python": {
     "delete_cmd_postfix": "",
     "delete_cmd_prefix": "del ",
     "library": "var_list.py",
     "varRefreshCmd": "print(var_dic_list())"
    },
    "r": {
     "delete_cmd_postfix": ") ",
     "delete_cmd_prefix": "rm(",
     "library": "var_list.r",
     "varRefreshCmd": "cat(var_dic_list()) "
    }
   },
   "types_to_exclude": [
    "module",
    "function",
    "builtin_function_or_method",
    "instance",
    "_Feature"
   ],
   "window_display": false
  }
 },
 "nbformat": 4,
 "nbformat_minor": 5
}
