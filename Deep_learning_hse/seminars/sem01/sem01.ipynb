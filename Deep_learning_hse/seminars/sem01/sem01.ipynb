{
 "cells": [
  {
   "cell_type": "markdown",
   "metadata": {},
   "source": [
    "## Вступление\n",
    "\n",
    "Всем привет! На сегодняшнем семинаре мы познакомимся с библиотекой **pytorch**. Он очень похож на numpy, с одним лишь отличием (на самом деле их больше, но сейчас мы поговорим про самое главное) -- pytorch может считать градиенты за вас. Таким образом вам не надо будет руками писать обратный проход в нейросетях. \n",
    "\n",
    "#### Семинар построен следующим образом:\n",
    "\n",
    "1. Вспоминаем numpy и сравниваем операции в pytorch\n",
    "2. Создаем тензоры в pytorch\n",
    "3. Работаем с градиентами руками\n",
    "4. Моя первая нейросеть "
   ]
  },
  {
   "cell_type": "markdown",
   "metadata": {},
   "source": [
    "### 1. Вспоминаем numpy и сравниваем операции в pytorch\n",
    "\n",
    "Мы можем создавать матрицы, перемножать их, складывать, транспонировать и в целом совершать любые матричные операции"
   ]
  },
  {
   "cell_type": "code",
   "execution_count": 1,
   "metadata": {},
   "outputs": [],
   "source": [
    "import matplotlib.pyplot as plt\n",
    "import numpy as np\n",
    "import torch\n",
    "import torch.nn.functional as F\n",
    "import torchvision\n",
    "from sklearn.datasets import load_boston\n",
    "from torch import nn\n",
    "from tqdm.notebook import tqdm\n",
    "\n",
    "%matplotlib inline"
   ]
  },
  {
   "cell_type": "code",
   "execution_count": 2,
   "metadata": {},
   "outputs": [
    {
     "data": {
      "text/plain": [
       "array([[0.49803094, 0.33140825, 0.99219413],\n",
       "       [0.62115007, 0.29233049, 0.70824738],\n",
       "       [0.14581228, 0.43986106, 0.14363464],\n",
       "       [0.63357616, 0.70712787, 0.9252272 ],\n",
       "       [0.9317031 , 0.98424173, 0.8088179 ]])"
      ]
     },
     "execution_count": 2,
     "metadata": {},
     "output_type": "execute_result"
    }
   ],
   "source": [
    "# случайная матрица\n",
    "a = np.random.rand(5, 3)\n",
    "a"
   ]
  },
  {
   "cell_type": "code",
   "execution_count": 3,
   "metadata": {},
   "outputs": [
    {
     "name": "stdout",
     "output_type": "stream",
     "text": [
      "Размеры: (5, 3)\n"
     ]
    }
   ],
   "source": [
    "print(f\"Размеры: {a.shape}\")"
   ]
  },
  {
   "cell_type": "code",
   "execution_count": 4,
   "metadata": {},
   "outputs": [
    {
     "name": "stdout",
     "output_type": "stream",
     "text": [
      "Добавили 5:\n",
      "[[5.49803094 5.33140825 5.99219413]\n",
      " [5.62115007 5.29233049 5.70824738]\n",
      " [5.14581228 5.43986106 5.14363464]\n",
      " [5.63357616 5.70712787 5.9252272 ]\n",
      " [5.9317031  5.98424173 5.8088179 ]]\n"
     ]
    }
   ],
   "source": [
    "print(f\"Добавили 5:\\n{a + 5}\")"
   ]
  },
  {
   "cell_type": "code",
   "execution_count": 5,
   "metadata": {},
   "outputs": [
    {
     "name": "stdout",
     "output_type": "stream",
     "text": [
      "Посчитали произведение X X^T:\n",
      "[[1.34231543 1.10895159 0.36090605 1.46789353 1.59270717]\n",
      " [1.10895159 0.97289889 0.32088496 1.25555066 1.43929448]\n",
      " [0.36090605 0.32088496 0.23536988 0.53631587 0.68495763]\n",
      " [1.46789353 1.25555066 0.53631587 1.75749394 2.03462995]\n",
      " [1.59270717 1.43929448 0.68495763 2.03462995 2.49098886]]\n"
     ]
    }
   ],
   "source": [
    "print(f\"Посчитали произведение X X^T:\\n{a @ a.T}\")"
   ]
  },
  {
   "cell_type": "code",
   "execution_count": 6,
   "metadata": {},
   "outputs": [
    {
     "name": "stdout",
     "output_type": "stream",
     "text": [
      "Среднее по колонкам:\n",
      "[0.60721111 0.54057598 0.24310266 0.75531041 0.90825424]\n"
     ]
    }
   ],
   "source": [
    "print(f\"Среднее по колонкам:\\n{a.mean(axis=-1)}\")"
   ]
  },
  {
   "cell_type": "code",
   "execution_count": 7,
   "metadata": {},
   "outputs": [
    {
     "name": "stdout",
     "output_type": "stream",
     "text": [
      "Изменили размеры: (3, 5)\n"
     ]
    }
   ],
   "source": [
    "print(f\"Изменили размеры: {a.reshape(3, 5).shape}\")"
   ]
  },
  {
   "cell_type": "markdown",
   "metadata": {},
   "source": [
    "#### Разминка.\n",
    "\n",
    "При помощи numpy посчитайте сумму квадратов натуральных чисел от 1 до 10000."
   ]
  },
  {
   "cell_type": "code",
   "execution_count": 23,
   "metadata": {},
   "outputs": [],
   "source": [
    "# YOUR CODE"
   ]
  },
  {
   "cell_type": "markdown",
   "metadata": {},
   "source": [
    "Аналогичные операции в **pytorch** выглядят следующим образом, синтаксис отличается, но совсем немного:"
   ]
  },
  {
   "cell_type": "code",
   "execution_count": 24,
   "metadata": {},
   "outputs": [
    {
     "data": {
      "text/plain": [
       "tensor([[0.2140, 0.6696, 0.7240],\n",
       "        [0.4310, 0.0536, 0.8582],\n",
       "        [0.4818, 0.3731, 0.8224],\n",
       "        [0.3555, 0.5991, 0.5583],\n",
       "        [0.9455, 0.4990, 0.7068]])"
      ]
     },
     "execution_count": 24,
     "metadata": {},
     "output_type": "execute_result"
    }
   ],
   "source": [
    "x = torch.rand(5, 3)\n",
    "x"
   ]
  },
  {
   "cell_type": "code",
   "execution_count": 25,
   "metadata": {},
   "outputs": [
    {
     "name": "stdout",
     "output_type": "stream",
     "text": [
      "Размеры: torch.Size([5, 3])\n"
     ]
    }
   ],
   "source": [
    "print(f\"Размеры: {x.shape}\")"
   ]
  },
  {
   "cell_type": "code",
   "execution_count": 26,
   "metadata": {},
   "outputs": [
    {
     "name": "stdout",
     "output_type": "stream",
     "text": [
      "Добавили 5:\n",
      "tensor([[5.2140, 5.6696, 5.7240],\n",
      "        [5.4310, 5.0536, 5.8582],\n",
      "        [5.4818, 5.3731, 5.8224],\n",
      "        [5.3555, 5.5991, 5.5583],\n",
      "        [5.9455, 5.4990, 5.7068]])\n"
     ]
    }
   ],
   "source": [
    "print(f\"Добавили 5:\\n{x + 5}\")"
   ]
  },
  {
   "cell_type": "code",
   "execution_count": 28,
   "metadata": {},
   "outputs": [
    {
     "name": "stdout",
     "output_type": "stream",
     "text": [
      "X X^T  (1):\n",
      "tensor([[1.0183, 0.7494, 0.9483, 0.8814, 1.0482],\n",
      "        [0.7494, 0.9252, 0.9334, 0.6645, 1.0409],\n",
      "        [0.9483, 0.9334, 1.0476, 0.8539, 1.2230],\n",
      "        [0.8814, 0.6645, 0.8539, 0.7970, 1.0297],\n",
      "        [1.0482, 1.0409, 1.2230, 1.0297, 1.6426]])\n",
      "\n",
      "X X^T  (2):\n",
      "tensor([[1.0183, 0.7494, 0.9483, 0.8814, 1.0482],\n",
      "        [0.7494, 0.9252, 0.9334, 0.6645, 1.0409],\n",
      "        [0.9483, 0.9334, 1.0476, 0.8539, 1.2230],\n",
      "        [0.8814, 0.6645, 0.8539, 0.7970, 1.0297],\n",
      "        [1.0482, 1.0409, 1.2230, 1.0297, 1.6426]])\n"
     ]
    }
   ],
   "source": [
    "# для перемножения тензоров высокой размерности читайте документацию по различным вариантам:\n",
    "# torch.mm, torch.matmul, torch.bmm, @\n",
    "print(f\"X X^T  (1):\\n{torch.matmul(x, x.transpose(1, 0))}\\n\")\n",
    "print(f\"X X^T  (2):\\n{x.mm(x.t())}\")"
   ]
  },
  {
   "cell_type": "code",
   "execution_count": 29,
   "metadata": {},
   "outputs": [
    {
     "name": "stdout",
     "output_type": "stream",
     "text": [
      "Среднее по колонкам:\n",
      "tensor([0.5359, 0.4476, 0.5591, 0.5043, 0.7171])\n"
     ]
    }
   ],
   "source": [
    "print(f\"Среднее по колонкам:\\n{x.mean(dim=-1)}\")"
   ]
  },
  {
   "cell_type": "code",
   "execution_count": 30,
   "metadata": {},
   "outputs": [
    {
     "name": "stdout",
     "output_type": "stream",
     "text": [
      "Изменили размеры:\n",
      "torch.Size([3, 5])\n",
      "\n",
      "По-другому изменили размеры:\n",
      "torch.Size([3, 5])\n",
      "\n",
      "Но не транспонировали!\n",
      "tensor([[ True, False, False, False, False],\n",
      "        [False, False,  True, False, False],\n",
      "        [False, False, False, False,  True]])\n"
     ]
    }
   ],
   "source": [
    "print(f\"Изменили размеры:\\n{x.view([3, 5]).shape}\\n\")\n",
    "\n",
    "# будьте внимательны и не используйте view для транспонирования осей\n",
    "print(f\"По-другому изменили размеры:\\n{x.view_as(x.t()).shape}\\n\")\n",
    "print(f\"Но не транспонировали!\\n{x.view_as(x.t()) == x.t()}\")"
   ]
  },
  {
   "cell_type": "markdown",
   "metadata": {},
   "source": [
    "Небольшой пример того, как меняются операции:\n",
    "\n",
    "* `x.reshape([1,2,8]) -> x.view(1,2,8)`\n",
    "\n",
    "* `x.sum(axis=-1) -> x.sum(dim=-1)`\n",
    "\n",
    "* `x.astype(\"int64\") -> x.type(torch.LongTensor)`\n",
    "\n",
    "Для помощи вам есть [таблица](https://github.com/torch/torch7/wiki/Torch-for-Numpy-users), которая поможет вам найти аналог операции в numpy\n"
   ]
  },
  {
   "cell_type": "markdown",
   "metadata": {},
   "source": [
    "#### Разминка на pytorch\n",
    "\n",
    "При помощи pytorch посчитайте сумму квадратов натуральных чисел от 1 до 10000."
   ]
  },
  {
   "cell_type": "code",
   "execution_count": 86,
   "metadata": {},
   "outputs": [
    {
     "data": {
      "text/plain": [
       "tensor(333383335000)"
      ]
     },
     "execution_count": 86,
     "metadata": {},
     "output_type": "execute_result"
    }
   ],
   "source": [
    "# YOUR CODE\n",
    "torch.sum(torch.arange(1, 10000 + 1)**2)"
   ]
  },
  {
   "cell_type": "markdown",
   "metadata": {},
   "source": [
    "### 2. Создаем тензоры в pytorch и снова изучаем базовые операции"
   ]
  },
  {
   "cell_type": "code",
   "execution_count": 92,
   "metadata": {},
   "outputs": [
    {
     "name": "stdout",
     "output_type": "stream",
     "text": [
      "tensor([[1.0561e-38, 1.0653e-38, 4.1327e-39],\n",
      "        [8.9082e-39, 9.8265e-39, 9.4592e-39],\n",
      "        [1.0561e-38, 1.0653e-38, 1.0469e-38],\n",
      "        [9.5510e-39, 8.7245e-39, 9.6429e-39],\n",
      "        [9.6429e-39, 8.7245e-39, 4.2246e-39]])\n"
     ]
    }
   ],
   "source": [
    "x = torch.empty(5, 3)  # пустой тензор\n",
    "print(x)"
   ]
  },
  {
   "cell_type": "code",
   "execution_count": 93,
   "metadata": {},
   "outputs": [
    {
     "name": "stdout",
     "output_type": "stream",
     "text": [
      "tensor([[0.7739, 0.2574, 0.3881],\n",
      "        [0.4934, 0.8252, 0.2661],\n",
      "        [0.8795, 0.1672, 0.4857],\n",
      "        [0.1852, 0.2615, 0.1908],\n",
      "        [0.5042, 0.7935, 0.9162]])\n"
     ]
    }
   ],
   "source": [
    "x = torch.rand(5, 3)  # случайный тензор\n",
    "print(x)"
   ]
  },
  {
   "cell_type": "code",
   "execution_count": 94,
   "metadata": {},
   "outputs": [
    {
     "name": "stdout",
     "output_type": "stream",
     "text": [
      "tensor([[0., 0., 0.],\n",
      "        [0., 0., 0.],\n",
      "        [0., 0., 0.],\n",
      "        [0., 0., 0.],\n",
      "        [0., 0., 0.]])\n"
     ]
    }
   ],
   "source": [
    "x = torch.zeros(5, 3, dtype=torch.float32)  # тензор с нулями и указанием типов чисел\n",
    "print(x)"
   ]
  },
  {
   "cell_type": "code",
   "execution_count": 101,
   "metadata": {},
   "outputs": [
    {
     "name": "stdout",
     "output_type": "stream",
     "text": [
      "tensor([5.5000, 3.0000])\n"
     ]
    }
   ],
   "source": [
    "x = torch.tensor([5.5, 3])  # конструируем тензор из питоновского листа\n",
    "print(x)"
   ]
  },
  {
   "cell_type": "code",
   "execution_count": 103,
   "metadata": {},
   "outputs": [
    {
     "name": "stdout",
     "output_type": "stream",
     "text": [
      "tensor([[1., 1., 1.],\n",
      "        [1., 1., 1.],\n",
      "        [1., 1., 1.],\n",
      "        [1., 1., 1.],\n",
      "        [1., 1., 1.]], dtype=torch.float64) torch.Size([5, 3])\n"
     ]
    }
   ],
   "source": [
    "x1 = x.new_ones(5, 3, dtype=torch.double)  # используем уже созданный тензор для создания тензора из единичек\n",
    "print(x1, x1.size()) "
   ]
  },
  {
   "cell_type": "code",
   "execution_count": 104,
   "metadata": {},
   "outputs": [
    {
     "name": "stdout",
     "output_type": "stream",
     "text": [
      "tensor([[-0.0487,  0.3883, -0.8117],\n",
      "        [ 0.0529, -1.1389,  0.3662],\n",
      "        [-0.0913, -1.2695, -0.3967],\n",
      "        [-1.9362, -0.0896,  1.0593],\n",
      "        [ 0.7158, -0.4237, -2.2518]]) torch.Size([5, 3])\n"
     ]
    }
   ],
   "source": [
    "x = torch.randn_like(x1, dtype=torch.float)  # создаем случайный тензор с размерами x\n",
    "print(x, x.size())"
   ]
  },
  {
   "cell_type": "code",
   "execution_count": 105,
   "metadata": {},
   "outputs": [
    {
     "name": "stdout",
     "output_type": "stream",
     "text": [
      "tensor([[ 0.2488,  0.8078, -0.1348],\n",
      "        [ 0.8766, -0.2184,  0.6611],\n",
      "        [ 0.4884, -0.5624, -0.2091],\n",
      "        [-1.6839,  0.5176,  1.6600],\n",
      "        [ 1.2233, -0.1752, -1.6131]])\n"
     ]
    }
   ],
   "source": [
    "y = torch.rand(5, 3)\n",
    "print(x + y)  # операция сложения"
   ]
  },
  {
   "cell_type": "code",
   "execution_count": 106,
   "metadata": {},
   "outputs": [
    {
     "name": "stdout",
     "output_type": "stream",
     "text": [
      "tensor([[ 0.2488,  0.8078, -0.1348],\n",
      "        [ 0.8766, -0.2184,  0.6611],\n",
      "        [ 0.4884, -0.5624, -0.2091],\n",
      "        [-1.6839,  0.5176,  1.6600],\n",
      "        [ 1.2233, -0.1752, -1.6131]])\n"
     ]
    }
   ],
   "source": [
    "z = torch.add(x, y)  # очередная операция сложения\n",
    "print(z)"
   ]
  },
  {
   "cell_type": "code",
   "execution_count": 107,
   "metadata": {},
   "outputs": [
    {
     "name": "stdout",
     "output_type": "stream",
     "text": [
      "tensor([[ 0.2488,  0.8078, -0.1348],\n",
      "        [ 0.8766, -0.2184,  0.6611],\n",
      "        [ 0.4884, -0.5624, -0.2091],\n",
      "        [-1.6839,  0.5176,  1.6600],\n",
      "        [ 1.2233, -0.1752, -1.6131]])\n"
     ]
    }
   ],
   "source": [
    "torch.add(x, y, out=z)  # и наконец последний вид\n",
    "print(z)"
   ]
  },
  {
   "cell_type": "code",
   "execution_count": 108,
   "metadata": {},
   "outputs": [
    {
     "name": "stdout",
     "output_type": "stream",
     "text": [
      "tensor([[-0.0145,  0.1629, -0.5494],\n",
      "        [ 0.0436, -1.0483,  0.1080],\n",
      "        [-0.0529, -0.8976, -0.0744],\n",
      "        [-0.4885, -0.0544,  0.6364],\n",
      "        [ 0.3633, -0.1053, -1.4380]])\n"
     ]
    }
   ],
   "source": [
    "print(x * y)  # поэлементное умножение"
   ]
  },
  {
   "cell_type": "code",
   "execution_count": 109,
   "metadata": {},
   "outputs": [
    {
     "name": "stdout",
     "output_type": "stream",
     "text": [
      "tensor([[-0.4009,  0.0779,  0.0941, -0.2641, -0.4465],\n",
      "        [-0.2142, -0.8967, -0.7060, -0.4582, -0.0223],\n",
      "        [-0.8282, -1.3606, -1.0249, -1.0322, -0.6151],\n",
      "        [ 0.1034, -1.3649, -0.9869,  0.0935, -0.3284],\n",
      "        [-1.4889, -0.4645, -0.3070, -1.4294, -1.1801]])\n"
     ]
    }
   ],
   "source": [
    "print(x @ y.t())  # матричное умножение"
   ]
  },
  {
   "cell_type": "code",
   "execution_count": 110,
   "metadata": {},
   "outputs": [
    {
     "name": "stdout",
     "output_type": "stream",
     "text": [
      "tensor([[-0.4009,  0.0779,  0.0941, -0.2641, -0.4465],\n",
      "        [-0.2142, -0.8967, -0.7060, -0.4582, -0.0223],\n",
      "        [-0.8282, -1.3606, -1.0249, -1.0322, -0.6151],\n",
      "        [ 0.1034, -1.3649, -0.9869,  0.0935, -0.3284],\n",
      "        [-1.4889, -0.4645, -0.3070, -1.4294, -1.1801]])\n"
     ]
    }
   ],
   "source": [
    "print(x.mm(y.t()))  # и опять матричное умножение"
   ]
  },
  {
   "cell_type": "code",
   "execution_count": 111,
   "metadata": {},
   "outputs": [
    {
     "name": "stdout",
     "output_type": "stream",
     "text": [
      "torch.Size([1, 5, 3])\n"
     ]
    }
   ],
   "source": [
    "print(x.unsqueeze(0).shape)  # добавили измерение в начало, аналог броадкастинга"
   ]
  },
  {
   "cell_type": "code",
   "execution_count": 112,
   "metadata": {},
   "outputs": [
    {
     "name": "stdout",
     "output_type": "stream",
     "text": [
      "torch.Size([5, 3])\n"
     ]
    }
   ],
   "source": [
    "print(x.unsqueeze(0).unsqueeze(1).squeeze().shape)  # убрали измерение в начале"
   ]
  },
  {
   "cell_type": "markdown",
   "metadata": {},
   "source": [
    "Мы также можем делать обычные срезы и переводить матрицы назад в numpy:"
   ]
  },
  {
   "cell_type": "code",
   "execution_count": 113,
   "metadata": {},
   "outputs": [
    {
     "name": "stdout",
     "output_type": "stream",
     "text": [
      "True\n",
      "True\n"
     ]
    }
   ],
   "source": [
    "a = np.ones((3, 5))\n",
    "x = torch.ones((3, 5))\n",
    "print(np.allclose(x.numpy(), a))\n",
    "print(np.allclose(x.numpy()[:, 1], a[:, 1]))"
   ]
  },
  {
   "cell_type": "markdown",
   "metadata": {},
   "source": [
    "### 3. Работаем с градиентами руками"
   ]
  },
  {
   "cell_type": "code",
   "execution_count": 116,
   "metadata": {},
   "outputs": [
    {
     "data": {
      "image/png": "[encoded data removed]",
      "text/plain": [
       "<Figure size 432x288 with 1 Axes>"
      ]
     },
     "metadata": {
      "needs_background": "light"
     },
     "output_type": "display_data"
    }
   ],
   "source": [
    "boston = load_boston()\n",
    "plt.scatter(boston.data[:, -1], boston.target);"
   ]
  },
  {
   "cell_type": "markdown",
   "metadata": {},
   "source": [
    "В pytorch есть возможность при создании тензора указывать нужно ли считать по нему градиент или нет, с помощью параметра `requires_grad`. Когда `requires_grad=True` мы сообщаем фреймворку, о том, что мы хотим следить за всеми тензорами, которые получаются из созданного. Иными словами, у любого тензора, у которого указан данный параметр, будет доступ к цепочке операций и преобразований совершенными с ними. Если эти функции дифференцируемые, то у тензора появляется параметр `.grad`, в котором хранится значение градиента."
   ]
  },
  {
   "attachments": {
    "torch_grad.png": {
     "image/png": "[encoded data removed]"
    }
   },
   "cell_type": "markdown",
   "metadata": {},
   "source": [
    "![torch_grad.png](attachment:torch_grad.png)"
   ]
  },
  {
   "cell_type": "markdown",
   "metadata": {},
   "source": [
    "Если к результирующему тензору применить метод `.backward()`, то фреймворк посчитает по цепочке градиенту для всех тензоров, у которых `requires_grad=True`."
   ]
  },
  {
   "cell_type": "code",
   "execution_count": 143,
   "metadata": {},
   "outputs": [],
   "source": [
    "w = torch.rand(1, requires_grad=True)\n",
    "b = torch.rand(1, requires_grad=True)\n",
    "\n",
    "x = torch.tensor(boston.data[:, -1] / boston.data[:, -1].max(), dtype=torch.float32)\n",
    "y = torch.tensor(boston.target, dtype=torch.float32)\n",
    "\n",
    "# только создали тензоры и в них нет градиентов\n",
    "assert w.grad is None\n",
    "assert b.grad is None"
   ]
  },
  {
   "cell_type": "code",
   "execution_count": 144,
   "metadata": {},
   "outputs": [],
   "source": [
    "y_pred = w * x + b                    # и опять совершаем операции с тензорами\n",
    "loss = torch.mean((y_pred - y) ** 2)  # совершаем операции с тензорами\n",
    "loss.backward()                       # считаем градиенты"
   ]
  },
  {
   "cell_type": "code",
   "execution_count": 145,
   "metadata": {},
   "outputs": [
    {
     "name": "stdout",
     "output_type": "stream",
     "text": [
      "dL/dw = \n",
      " tensor([-11.7967])\n",
      "dL/db = \n",
      " tensor([-43.0956])\n"
     ]
    }
   ],
   "source": [
    "# сделали операции и посчитали градиенты, значение должно было появится\n",
    "assert w.grad is not None\n",
    "assert b.grad is not None\n",
    "\n",
    "print(\"dL/dw = \\n\", w.grad)\n",
    "print(\"dL/db = \\n\", b.grad)"
   ]
  },
  {
   "cell_type": "markdown",
   "metadata": {},
   "source": [
    "__Ремарка__. Для доступа к значениям в тензоре используйте атрибут `.data`:"
   ]
  },
  {
   "cell_type": "code",
   "execution_count": 146,
   "metadata": {},
   "outputs": [
    {
     "data": {
      "text/plain": [
       "tensor([0.2482])"
      ]
     },
     "execution_count": 146,
     "metadata": {},
     "output_type": "execute_result"
    }
   ],
   "source": [
    "w.data"
   ]
  },
  {
   "cell_type": "code",
   "execution_count": 153,
   "metadata": {},
   "outputs": [
    {
     "data": {
      "image/png": "[encoded data removed]",
      "text/plain": [
       "<Figure size 720x576 with 1 Axes>"
      ]
     },
     "metadata": {
      "needs_background": "light"
     },
     "output_type": "display_data"
    },
    {
     "name": "stdout",
     "output_type": "stream",
     "text": [
      "loss =  38.482967\n"
     ]
    }
   ],
   "source": [
    "from IPython.display import clear_output\n",
    "\n",
    "for i in range(1000):\n",
    "    y_pred = w * x + b\n",
    "    # попробуйте сделать полиномиальную регрессию в данном предсказании и посчитать градиенты после\n",
    "    loss = torch.mean((y_pred - y)**2)\n",
    "    loss.backward()\n",
    "\n",
    "    # делаем шаг градиентного спуска с lr = .05\n",
    "    w.data -=  0.05 * w.grad# YOUR CODE\n",
    "    b.data -=  0.05 * b.grad# YOUR CODE\n",
    "\n",
    "    # обнуляем градиенты, чтобы на следующем шаге опять посчитать и не аккумулировать их\n",
    "    w.grad.data.zero_()\n",
    "    b.grad.data.zero_()\n",
    "\n",
    "    # рисуем картинки\n",
    "    if (i + 1) % 5 == 0:\n",
    "        clear_output(True)\n",
    "        plt.figure(figsize=(10,8))\n",
    "        plt.scatter(x.data.numpy(), y.data.numpy(), label=\"data\")\n",
    "        plt.scatter(x.data.numpy(), y_pred.data.numpy(),\n",
    "                    color=\"orange\", linewidth=5, label=\"predictions\")\n",
    "        plt.xlabel(\"LSTAT\", fontsize=14)\n",
    "        plt.ylabel(\"MEDV (target)\", fontsize=14)\n",
    "        plt.title(\"Boston modelling\", fontsize=18)\n",
    "        plt.legend(fontsize=14)\n",
    "        plt.show()\n",
    "\n",
    "        print(\"loss = \", loss.data.numpy())\n",
    "        if loss.data.numpy() < 0.1:\n",
    "            print(\"Done!\")\n",
    "            break\n"
   ]
  },
  {
   "cell_type": "markdown",
   "metadata": {},
   "source": [
    "### 4. Моя первая нейросеть"
   ]
  },
  {
   "cell_type": "markdown",
   "metadata": {},
   "source": [
    "Для того, чтобы разобраться как обучать нейросите в pytorch, нужно освоить три вещи: \n",
    "\n",
    "1. Как формировать батчи и пихать их в сетку\n",
    "2. Как сделать сетку\n",
    "3. Как написать цикл обучения и отслеживать метрики"
   ]
  },
  {
   "cell_type": "markdown",
   "metadata": {},
   "source": [
    "#### Как формировать батчи и подавать их на вход нейросети\n",
    "\n",
    "Чтобы в данном фреймворке иметь возможность итерироваться по данным и применять к ним преобразования, например, аугментации, о которых вы узнаете позже - нужно создать свой класс унаследованный от `torch.utils.data.Dataset`.\n",
    "\n",
    "Вот пример из документации:\n",
    "\n",
    "```python\n",
    "class FaceLandmarksDataset(torch.utils.data.Dataset):\n",
    "    \"\"\"Face Landmarks dataset.\"\"\"\n",
    "\n",
    "    def __init__(self, csv_file, root_dir, transform=None):\n",
    "        \"\"\"\n",
    "        Args:\n",
    "            csv_file (string): Path to the csv file with annotations.\n",
    "            root_dir (string): Directory with all the images.\n",
    "            transform (callable, optional): Optional transform to be applied\n",
    "                on a sample.\n",
    "        \"\"\"\n",
    "        self.landmarks_frame = pd.read_csv(csv_file)\n",
    "        self.root_dir = root_dir\n",
    "        self.transform = transform\n",
    "\n",
    "    def __len__(self):\n",
    "        return len(self.landmarks_frame)\n",
    "\n",
    "    def __getitem__(self, idx):\n",
    "        if torch.is_tensor(idx):\n",
    "            idx = idx.tolist()\n",
    "\n",
    "        img_name = os.path.join(self.root_dir,\n",
    "                                self.landmarks_frame.iloc[idx, 0])\n",
    "        image = io.imread(img_name)\n",
    "        landmarks = self.landmarks_frame.iloc[idx, 1:]\n",
    "        landmarks = np.array([landmarks])\n",
    "        landmarks = landmarks.astype('float').reshape(-1, 2)\n",
    "        sample = {'image': image, 'landmarks': landmarks}\n",
    "\n",
    "        if self.transform:\n",
    "            sample = self.transform(sample)\n",
    "\n",
    "        return sample\n",
    "```\n",
    "\n",
    "Как вы видите, у такого класса **должно быть** два метода: \n",
    "\n",
    "* `__len__` -- возвращает информацию о том, сколько объектов у нас в датасете\n",
    "* `__getitem__` -- возвращает семпл и таргет к нему\n",
    "\n",
    "\n",
    "Теперь давайте напишем такой сами, в качестве датасета сгенерируем рандомные данные."
   ]
  },
  {
   "cell_type": "code",
   "execution_count": 189,
   "metadata": {},
   "outputs": [],
   "source": [
    "class RandomDataset(torch.utils.data.Dataset):\n",
    "    \"\"\"\n",
    "    Our random dataset\n",
    "    \"\"\"\n",
    "    def __init__(self, x, y):\n",
    "        self.x = x\n",
    "        self.y = y\n",
    "        \n",
    "    def __len__(self):\n",
    "        return len(self.x)\n",
    "    \n",
    "    def __getitem__(self, idx):\n",
    "        return {\"sample\": torch.tensor(x[idx, :], dtype=torch.float), \"target\": y[idx]}"
   ]
  },
  {
   "cell_type": "code",
   "execution_count": 190,
   "metadata": {},
   "outputs": [],
   "source": [
    "x = np.random.rand(1000, 5)\n",
    "y = np.random.rand(1000)"
   ]
  },
  {
   "cell_type": "code",
   "execution_count": 191,
   "metadata": {},
   "outputs": [],
   "source": [
    "our_dataset = RandomDataset(x, y)"
   ]
  },
  {
   "cell_type": "code",
   "execution_count": 192,
   "metadata": {},
   "outputs": [
    {
     "data": {
      "text/plain": [
       "{'sample': tensor([0.1119, 0.4750, 0.6929, 0.3158, 0.8826]),\n",
       " 'target': 0.887012526428211}"
      ]
     },
     "execution_count": 192,
     "metadata": {},
     "output_type": "execute_result"
    }
   ],
   "source": [
    "our_dataset.__getitem__(1)"
   ]
  },
  {
   "cell_type": "markdown",
   "metadata": {},
   "source": [
    "Для того, чтобы из данных получать батчи в pytorch используется такая сущность как даталоадер, который принимает на вход класс унаследованный от `torch.utils.data.Dataset`. Сейчас посмотрим на пример:"
   ]
  },
  {
   "cell_type": "code",
   "execution_count": 162,
   "metadata": {},
   "outputs": [],
   "source": [
    "dataloader = torch.utils.data.DataLoader(our_dataset, batch_size=4)"
   ]
  },
  {
   "cell_type": "markdown",
   "metadata": {},
   "source": [
    "Работают с ним следующим образом:"
   ]
  },
  {
   "cell_type": "code",
   "execution_count": 195,
   "metadata": {},
   "outputs": [
    {
     "name": "stdout",
     "output_type": "stream",
     "text": [
      "Sample:\n",
      "tensor([[0.1742, 0.3691, 0.3057, 0.7394, 0.2346],\n",
      "        [0.1119, 0.4750, 0.6929, 0.3158, 0.8826],\n",
      "        [0.1510, 0.6335, 0.1908, 0.2103, 0.6664],\n",
      "        [0.6050, 0.9753, 0.6482, 0.1794, 0.3867]])\n",
      "Target:\n",
      "tensor([0.1478, 0.8870, 0.8620, 0.0905], dtype=torch.float64)\n"
     ]
    }
   ],
   "source": [
    "batch = next(iter(dataloader))\n",
    "\n",
    "print(f\"Sample:\\n{batch['sample']}\")\n",
    "print(f\"Target:\\n{batch['target']}\")"
   ]
  },
  {
   "cell_type": "markdown",
   "metadata": {},
   "source": [
    "#### Как сделать нейросеть"
   ]
  },
  {
   "cell_type": "markdown",
   "metadata": {},
   "source": [
    "Для того, чтобы в high-level pytorch создавать нейросети используется модуль `nn`. Нейросеть должна быть унаследована от класса `nn.Module`. Пример как это может выглядеть:\n",
    "\n",
    "```python\n",
    "class Model(nn.Module):\n",
    "    def __init__(self):\n",
    "        super(Model, self).__init__()\n",
    "        self.conv1 = nn.Conv2d(1, 20, 5)\n",
    "        self.conv2 = nn.Conv2d(20, 20, 5)\n",
    "\n",
    "    def forward(self, x):\n",
    "        x = F.relu(self.conv1(x))\n",
    "        return F.relu(self.conv2(x))\n",
    "```\n",
    "\n",
    "Как мы видим на данном примере, у данного класса **должен быть** метод `forward`, который определяет прямой проход нейросети. Также из класса выше видно, что модуль `nn` содержит в себе реализацию большинства слоев, а модуль `nn.functional` -- функций активаций.\n",
    "\n",
    "Есть еще один способ создать нейросеть и давайте его разберем на практике:"
   ]
  },
  {
   "cell_type": "code",
   "execution_count": 196,
   "metadata": {},
   "outputs": [],
   "source": [
    "model = nn.Sequential()                   # создаем пустую модель, в которую будем добавлять слои\n",
    "model.add_module(\"l1\", nn.Linear(5, 10))  # добавили слой с 5-ю нейронами на вход и 3-мя на выход\n",
    "model.add_module(\"l2\", nn.ReLU())         # добавили функцию активации\n",
    "model.add_module(\"l3\", nn.Linear(10, 1))  # добавили слой с 3-мя нейронами на вход и 5-ю на выход\n",
    "\n",
    "# альтернативный способ\n",
    "another_model = nn.Sequential(\n",
    "    nn.Linear(5, 10),\n",
    "    nn.ReLU(),\n",
    "    nn.Linear(10, 1)\n",
    ")"
   ]
  },
  {
   "cell_type": "code",
   "execution_count": 198,
   "metadata": {},
   "outputs": [
    {
     "data": {
      "text/plain": [
       "tensor([[-0.1477],\n",
       "        [-0.2518],\n",
       "        [-0.2702],\n",
       "        [-0.3471]], grad_fn=<AddmmBackward0>)"
      ]
     },
     "execution_count": 198,
     "metadata": {},
     "output_type": "execute_result"
    }
   ],
   "source": [
    "y_pred = model(batch['sample']) # получили предсказания модели\n",
    "y_pred"
   ]
  },
  {
   "cell_type": "markdown",
   "metadata": {},
   "source": [
    "#### Как написать цикл обучения и отслеживать метрики\n",
    " \n",
    "Давайте теперь соберем теперь загрузку данных, создание модели и обучим на уже созданном для нас датасете MNIST"
   ]
  },
  {
   "cell_type": "code",
   "execution_count": 199,
   "metadata": {},
   "outputs": [
    {
     "name": "stdout",
     "output_type": "stream",
     "text": [
      "Downloading http://yann.lecun.com/exdb/mnist/train-images-idx3-ubyte.gz\n",
      "Downloading http://yann.lecun.com/exdb/mnist/train-images-idx3-ubyte.gz to ./mnist/MNIST\\raw\\train-images-idx3-ubyte.gz\n"
     ]
    },
    {
     "data": {
      "application/vnd.jupyter.widget-view+json": {
       "model_id": "373839c2d24549788a594beec53e66b4",
       "version_major": 2,
       "version_minor": 0
      },
      "text/plain": [
       "  0%|          | 0/9912422 [00:00<?, ?it/s]"
      ]
     },
     "metadata": {},
     "output_type": "display_data"
    },
    {
     "name": "stdout",
     "output_type": "stream",
     "text": [
      "Extracting ./mnist/MNIST\\raw\\train-images-idx3-ubyte.gz to ./mnist/MNIST\\raw\n",
      "\n",
      "Downloading http://yann.lecun.com/exdb/mnist/train-labels-idx1-ubyte.gz\n",
      "Downloading http://yann.lecun.com/exdb/mnist/train-labels-idx1-ubyte.gz to ./mnist/MNIST\\raw\\train-labels-idx1-ubyte.gz\n"
     ]
    },
    {
     "data": {
      "application/vnd.jupyter.widget-view+json": {
       "model_id": "b8c5a6f6ed7b4e88b3dd5f26c4766ca9",
       "version_major": 2,
       "version_minor": 0
      },
      "text/plain": [
       "  0%|          | 0/28881 [00:00<?, ?it/s]"
      ]
     },
     "metadata": {},
     "output_type": "display_data"
    },
    {
     "name": "stdout",
     "output_type": "stream",
     "text": [
      "Extracting ./mnist/MNIST\\raw\\train-labels-idx1-ubyte.gz to ./mnist/MNIST\\raw\n",
      "\n",
      "Downloading http://yann.lecun.com/exdb/mnist/t10k-images-idx3-ubyte.gz\n",
      "Downloading http://yann.lecun.com/exdb/mnist/t10k-images-idx3-ubyte.gz to ./mnist/MNIST\\raw\\t10k-images-idx3-ubyte.gz\n"
     ]
    },
    {
     "data": {
      "application/vnd.jupyter.widget-view+json": {
       "model_id": "d63e72d3122a446ca55b03a2b9c34f67",
       "version_major": 2,
       "version_minor": 0
      },
      "text/plain": [
       "  0%|          | 0/1648877 [00:00<?, ?it/s]"
      ]
     },
     "metadata": {},
     "output_type": "display_data"
    },
    {
     "name": "stdout",
     "output_type": "stream",
     "text": [
      "Extracting ./mnist/MNIST\\raw\\t10k-images-idx3-ubyte.gz to ./mnist/MNIST\\raw\n",
      "\n",
      "Downloading http://yann.lecun.com/exdb/mnist/t10k-labels-idx1-ubyte.gz\n",
      "Downloading http://yann.lecun.com/exdb/mnist/t10k-labels-idx1-ubyte.gz to ./mnist/MNIST\\raw\\t10k-labels-idx1-ubyte.gz\n"
     ]
    },
    {
     "data": {
      "application/vnd.jupyter.widget-view+json": {
       "model_id": "34f75cd54248414cbb41bca737be0359",
       "version_major": 2,
       "version_minor": 0
      },
      "text/plain": [
       "  0%|          | 0/4542 [00:00<?, ?it/s]"
      ]
     },
     "metadata": {},
     "output_type": "display_data"
    },
    {
     "name": "stdout",
     "output_type": "stream",
     "text": [
      "Extracting ./mnist/MNIST\\raw\\t10k-labels-idx1-ubyte.gz to ./mnist/MNIST\\raw\n",
      "\n"
     ]
    }
   ],
   "source": [
    "# используем готовый класс от торча для загрузки данных для тренировки\n",
    "mnist_train = torchvision.datasets.MNIST(\n",
    "    \"./mnist/\", \n",
    "    train=True, \n",
    "    download=True, \n",
    "    transform=torchvision.transforms.ToTensor()\n",
    ") \n",
    "mnist_val = torchvision.datasets.MNIST(\n",
    "    \"./mnist/\",\n",
    "    train=False, \n",
    "    download=True,\n",
    "    transform=torchvision.transforms.ToTensor()\n",
    ")\n",
    "\n",
    "# так как это уже унаследованный от Dataset класс, его можно сразу обернуть в даталоадер\n",
    "train_dataloader = torch.utils.data.DataLoader(\n",
    "    mnist_train, \n",
    "    batch_size=4, \n",
    "    shuffle=True, \n",
    "    num_workers=1\n",
    ") \n",
    "\n",
    "val_dataloader = torch.utils.data.DataLoader(\n",
    "    mnist_val, \n",
    "    batch_size=4, \n",
    "    shuffle=True, \n",
    "    num_workers=1\n",
    ")"
   ]
  },
  {
   "cell_type": "code",
   "execution_count": 200,
   "metadata": {
    "scrolled": true
   },
   "outputs": [
    {
     "data": {
      "image/png": "[encoded data removed]",
      "text/plain": [
       "<Figure size 432x288 with 2 Axes>"
      ]
     },
     "metadata": {
      "needs_background": "light"
     },
     "output_type": "display_data"
    }
   ],
   "source": [
    "# посмотрим на то, с чем мы работаем\n",
    "for i in [0, 1]:\n",
    "    plt.subplot(1, 2, i + 1)\n",
    "    plt.imshow(mnist_train[i][0].squeeze(0).numpy().reshape([28, 28]))\n",
    "    plt.title(str(mnist_train[i][1]))\n",
    "plt.show()"
   ]
  },
  {
   "cell_type": "code",
   "execution_count": 202,
   "metadata": {},
   "outputs": [],
   "source": [
    "model = nn.Sequential(\n",
    "    nn.Flatten(),             # превращаем картинку 28х28 в вектор размером 784\n",
    "    nn.Linear(28 * 28, 128),  # линейный слой, преобразующий вектор размера 784 в вектор размера 128\n",
    "    nn.ReLU(),                # нелинейность\n",
    "    nn.Linear(128, 10),       # линейный слой, преобразующий вектор размера 128 в вектор размера 10\n",
    ")\n",
    "\n",
    "# создаем оптимизатор, который будет обновлять веса модели\n",
    "optimizer = torch.optim.SGD(model.parameters(), lr=0.05) "
   ]
  },
  {
   "cell_type": "markdown",
   "metadata": {},
   "source": [
    "Веса моделей хранятся в виде матриц и выглядят так:"
   ]
  },
  {
   "cell_type": "code",
   "execution_count": 203,
   "metadata": {
    "scrolled": false
   },
   "outputs": [
    {
     "data": {
      "text/plain": [
       "[('1.weight',\n",
       "  Parameter containing:\n",
       "  tensor([[-0.0282, -0.0121,  0.0166,  ..., -0.0260, -0.0278, -0.0147],\n",
       "          [-0.0196, -0.0130, -0.0147,  ...,  0.0198,  0.0128, -0.0070],\n",
       "          [-0.0210, -0.0062,  0.0325,  ...,  0.0343, -0.0062,  0.0320],\n",
       "          ...,\n",
       "          [ 0.0183, -0.0120, -0.0296,  ...,  0.0088, -0.0077, -0.0332],\n",
       "          [ 0.0174,  0.0082,  0.0003,  ..., -0.0037,  0.0284,  0.0315],\n",
       "          [-0.0342, -0.0224, -0.0002,  ...,  0.0154, -0.0283, -0.0247]],\n",
       "         requires_grad=True)),\n",
       " ('1.bias',\n",
       "  Parameter containing:\n",
       "  tensor([ 2.9393e-02, -8.9669e-03, -2.1632e-03,  5.9055e-03, -1.2635e-02,\n",
       "          -9.4151e-03, -3.2285e-02, -1.5041e-02,  8.5730e-03, -1.6560e-02,\n",
       "          -2.2352e-02,  1.8726e-02,  2.4625e-03,  1.3936e-02,  1.5794e-02,\n",
       "           6.1516e-03,  6.8880e-03, -2.0618e-02, -1.1401e-02,  2.6140e-02,\n",
       "          -1.5277e-02,  2.4932e-02,  2.3898e-02, -1.3590e-02, -1.9307e-02,\n",
       "          -3.2514e-02,  1.7636e-02, -1.7674e-02, -1.1722e-02, -3.2707e-02,\n",
       "          -3.0085e-02,  3.4888e-02, -5.8379e-03,  2.7505e-02,  3.3568e-02,\n",
       "           3.3285e-02,  1.0731e-02,  3.1831e-02, -2.6002e-02,  1.0259e-02,\n",
       "          -4.2532e-03, -3.5607e-02,  7.0550e-03,  2.0313e-02,  2.1755e-02,\n",
       "          -5.5204e-03, -2.8412e-02, -3.3978e-02,  2.6639e-02,  1.0066e-02,\n",
       "           1.3149e-03, -2.4312e-03, -3.0347e-02,  5.5343e-05,  2.6855e-02,\n",
       "          -7.5637e-03, -1.1079e-03,  2.7705e-02,  3.0478e-02, -3.0421e-02,\n",
       "           1.3890e-02, -2.6233e-02,  7.9075e-03, -2.8955e-02, -5.5673e-03,\n",
       "           1.0593e-02,  1.7565e-02, -1.2490e-02, -5.7115e-03, -2.8390e-02,\n",
       "          -7.2901e-03,  2.1294e-03,  2.8461e-02, -8.6559e-03, -1.7348e-02,\n",
       "           2.8637e-02,  1.0748e-02,  1.9929e-02, -2.6231e-02, -3.2231e-02,\n",
       "           1.9752e-02, -2.5671e-02, -3.1422e-02,  1.4983e-02,  5.3930e-03,\n",
       "           1.1567e-02, -1.5068e-03, -1.0967e-02, -3.2053e-02,  1.9484e-02,\n",
       "          -2.7336e-02,  2.5287e-02,  2.9129e-02,  9.1478e-03,  2.0647e-02,\n",
       "          -7.0501e-03, -2.6201e-02,  9.0149e-03, -3.4903e-02, -2.0704e-02,\n",
       "           3.6992e-03, -1.3784e-02,  9.7541e-03,  9.3197e-03,  2.6395e-02,\n",
       "          -1.1854e-02, -1.8142e-02, -2.5582e-02, -8.1569e-03, -2.5297e-02,\n",
       "          -1.4005e-02, -3.1447e-02,  1.0363e-02, -1.6292e-02, -9.5927e-03,\n",
       "          -1.8662e-02, -1.0109e-02,  1.9417e-02, -2.7365e-02,  1.3039e-02,\n",
       "           2.9687e-02, -2.8785e-02, -1.8188e-03, -3.0385e-02,  1.2159e-02,\n",
       "           2.6611e-02,  2.3008e-02,  3.3691e-02], requires_grad=True)),\n",
       " ('3.weight',\n",
       "  Parameter containing:\n",
       "  tensor([[-0.0640, -0.0352,  0.0735,  ...,  0.0867, -0.0651, -0.0718],\n",
       "          [-0.0226,  0.0135,  0.0378,  ..., -0.0776,  0.0351, -0.0364],\n",
       "          [-0.0118,  0.0233, -0.0600,  ..., -0.0488, -0.0308, -0.0508],\n",
       "          ...,\n",
       "          [-0.0565, -0.0660,  0.0237,  ...,  0.0294,  0.0786, -0.0576],\n",
       "          [-0.0010,  0.0503, -0.0558,  ..., -0.0615, -0.0716, -0.0251],\n",
       "          [ 0.0795, -0.0171,  0.0461,  ..., -0.0480, -0.0286,  0.0671]],\n",
       "         requires_grad=True)),\n",
       " ('3.bias',\n",
       "  Parameter containing:\n",
       "  tensor([ 0.0818, -0.0174, -0.0306, -0.0404,  0.0171,  0.0095,  0.0477, -0.0308,\n",
       "           0.0091, -0.0691], requires_grad=True))]"
      ]
     },
     "execution_count": 203,
     "metadata": {},
     "output_type": "execute_result"
    }
   ],
   "source": [
    "[x for x in model.named_parameters()] "
   ]
  },
  {
   "cell_type": "markdown",
   "metadata": {},
   "source": [
    "_Красиво_ трекать метрики в полуавтоматическом режиме мы будем в [wandb](https://wandb.ai). Для этого регистрируемся на сайте, устанавливаем и логинимся(это того стоит):"
   ]
  },
  {
   "cell_type": "code",
   "execution_count": 206,
   "metadata": {},
   "outputs": [
    {
     "name": "stderr",
     "output_type": "stream",
     "text": [
      "\u001b[34m\u001b[1mwandb\u001b[0m: You can find your API key in your browser here: https://wandb.ai/authorize\n"
     ]
    },
    {
     "name": "stdout",
     "output_type": "stream",
     "text": [
      "wandb: Paste an API key from your profile and hit enter, or press ctrl+c to quit: ········\n"
     ]
    },
    {
     "name": "stderr",
     "output_type": "stream",
     "text": [
      "\u001b[34m\u001b[1mwandb\u001b[0m: Appending key for api.wandb.ai to your netrc file: C:\\Users\\bimas/.netrc\n",
      "\u001b[34m\u001b[1mwandb\u001b[0m: Currently logged in as: \u001b[33mbimastics\u001b[0m (use `wandb login --relogin` to force relogin)\n"
     ]
    },
    {
     "data": {
      "text/html": [
       "Tracking run with wandb version 0.12.11"
      ],
      "text/plain": [
       "<IPython.core.display.HTML object>"
      ]
     },
     "metadata": {},
     "output_type": "display_data"
    },
    {
     "data": {
      "text/html": [
       "Run data is saved locally in <code>D:\\GitHub\\Deep-Learning\\Deep_learning_hse\\seminars\\sem01\\wandb\\run-20220319_121056-13wetpfz</code>"
      ],
      "text/plain": [
       "<IPython.core.display.HTML object>"
      ]
     },
     "metadata": {},
     "output_type": "display_data"
    },
    {
     "data": {
      "text/html": [
       "Syncing run <strong><a href=\"https://wandb.ai/bimastics/pytorch-demo/runs/13wetpfz\" target=\"_blank\">magic-frost-1</a></strong> to <a href=\"https://wandb.ai/bimastics/pytorch-demo\" target=\"_blank\">Weights & Biases</a> (<a href=\"https://wandb.me/run\" target=\"_blank\">docs</a>)<br/>"
      ],
      "text/plain": [
       "<IPython.core.display.HTML object>"
      ]
     },
     "metadata": {},
     "output_type": "display_data"
    }
   ],
   "source": [
    "# !pip install wandb --upgrade --quiet\n",
    "import wandb\n",
    "\n",
    "# логинимся в своего пользователя (предварительно нужно ввести ключ из настроек с wandb.ai через консоль)\n",
    "wandb.login()\n",
    "# инициализируем проект\n",
    "wandb.init(project=\"pytorch-demo\")\n",
    "# сохраняем параметры сетки в wandb + просим следить за градиентами сетки\n",
    "wandb.watch(model);"
   ]
  },
  {
   "cell_type": "markdown",
   "metadata": {},
   "source": [
    "Можно перейти по ссылке и следить за нашей моделью прямо во время обучения!"
   ]
  },
  {
   "cell_type": "code",
   "execution_count": 209,
   "metadata": {
    "scrolled": false
   },
   "outputs": [
    {
     "data": {
      "application/vnd.jupyter.widget-view+json": {
       "model_id": "bd8e71ee5a0c4ab39532af681283c8ff",
       "version_major": 2,
       "version_minor": 0
      },
      "text/plain": [
       "  0%|          | 0/15000 [00:00<?, ?it/s]"
      ]
     },
     "metadata": {},
     "output_type": "display_data"
    },
    {
     "data": {
      "application/vnd.jupyter.widget-view+json": {
       "model_id": "9e7a32098744480389e87c8f5ecdc8e8",
       "version_major": 2,
       "version_minor": 0
      },
      "text/plain": [
       "  0%|          | 0/2500 [00:00<?, ?it/s]"
      ]
     },
     "metadata": {},
     "output_type": "display_data"
    },
    {
     "name": "stdout",
     "output_type": "stream",
     "text": [
      "Epoch: 0, loss: 0.09171060472726822, accuracy: 0.9788\n"
     ]
    },
    {
     "data": {
      "application/vnd.jupyter.widget-view+json": {
       "model_id": "e6d3031998a5425198f3ccd0b3e706b9",
       "version_major": 2,
       "version_minor": 0
      },
      "text/plain": [
       "  0%|          | 0/15000 [00:00<?, ?it/s]"
      ]
     },
     "metadata": {},
     "output_type": "display_data"
    },
    {
     "data": {
      "application/vnd.jupyter.widget-view+json": {
       "model_id": "8839ac42cd1548198b3785cddbf73914",
       "version_major": 2,
       "version_minor": 0
      },
      "text/plain": [
       "  0%|          | 0/15000 [00:00<?, ?it/s]"
      ]
     },
     "metadata": {},
     "output_type": "display_data"
    },
    {
     "data": {
      "application/vnd.jupyter.widget-view+json": {
       "model_id": "c1628e3614274ebba8b4707ff4f53374",
       "version_major": 2,
       "version_minor": 0
      },
      "text/plain": [
       "  0%|          | 0/2500 [00:00<?, ?it/s]"
      ]
     },
     "metadata": {},
     "output_type": "display_data"
    },
    {
     "name": "stdout",
     "output_type": "stream",
     "text": [
      "Epoch: 2, loss: 0.08363435417413712, accuracy: 0.9813\n"
     ]
    },
    {
     "data": {
      "application/vnd.jupyter.widget-view+json": {
       "model_id": "890dfc5953a549929a7a99995e5a4343",
       "version_major": 2,
       "version_minor": 0
      },
      "text/plain": [
       "  0%|          | 0/15000 [00:00<?, ?it/s]"
      ]
     },
     "metadata": {},
     "output_type": "display_data"
    },
    {
     "data": {
      "application/vnd.jupyter.widget-view+json": {
       "model_id": "dbf77cc5c4514d399ffc6c8fb590aecf",
       "version_major": 2,
       "version_minor": 0
      },
      "text/plain": [
       "  0%|          | 0/15000 [00:00<?, ?it/s]"
      ]
     },
     "metadata": {},
     "output_type": "display_data"
    },
    {
     "data": {
      "application/vnd.jupyter.widget-view+json": {
       "model_id": "5c1c92ea1cfa4abe86fdcd4b16615428",
       "version_major": 2,
       "version_minor": 0
      },
      "text/plain": [
       "  0%|          | 0/2500 [00:00<?, ?it/s]"
      ]
     },
     "metadata": {},
     "output_type": "display_data"
    },
    {
     "name": "stdout",
     "output_type": "stream",
     "text": [
      "Epoch: 4, loss: 0.0857161283493042, accuracy: 0.9815\n"
     ]
    }
   ],
   "source": [
    "# всего у нас будет 5 эпох (5 раз подряд пройдемся по всем батчам из трейна)\n",
    "for epoch in range(5):\n",
    "    for x_train, y_train in tqdm(train_dataloader):    # берем батч из трейн лоадера\n",
    "        y_pred = model(x_train)                        # делаем предсказания\n",
    "        loss = F.cross_entropy(y_pred, y_train)        # считаем лосс F = torch.nn.functional\n",
    "        loss.backward()                                # считаем градиенты обратным проходом\n",
    "        optimizer.step()                               # обновляем параметры сети\n",
    "        optimizer.zero_grad()                          # обнуляем посчитанные градиенты параметров\n",
    "    \n",
    "    if epoch % 2 == 0:\n",
    "        val_loss = []                                  # сюда будем складывать **средний по бачу** лосс\n",
    "        val_accuracy = []\n",
    "        with torch.no_grad():                          # на валидации запрещаем фреймворку считать градиенты по параметрам\n",
    "            for x_val, y_val in tqdm(val_dataloader):  # берем батч из вал лоадера\n",
    "                y_pred = model(x_val)                  # делаем предсказания\n",
    "                loss = F.cross_entropy(y_pred, y_val)  # считаем лосс\n",
    "                val_loss.append(loss.numpy())          # добавляем в массив \n",
    "                val_accuracy.extend((torch.argmax(y_pred, dim=-1) == y_val).numpy().tolist())\n",
    "          \n",
    "        # скидываем метрики на wandb и автоматом смотрим на графики\n",
    "        wandb.log({\"mean val loss\": np.mean(val_loss),\n",
    "                   \"mean val accuracy\": np.mean(val_accuracy)})\n",
    "        \n",
    "        # печатаем метрики\n",
    "        print(f\"Epoch: {epoch}, loss: {np.mean(val_loss)}, accuracy: {np.mean(val_accuracy)}\")"
   ]
  },
  {
   "cell_type": "markdown",
   "metadata": {},
   "source": [
    "### Дополнительные материалы:\n",
    "\n",
    "* [PyTroch на простейшем примере с пояснениями](https://github.com/Kaixhin/grokking-pytorch)\n",
    "* [Хорошая книга про pytorch](https://pytorch.org/assets/deep-learning/Deep-Learning-with-PyTorch.pdf)\n",
    "* [Использование pytorch на GPU](https://pytorch.org/docs/master/notes/cuda.html)\n",
    "* [Pytorch за 60 минут](http://pytorch.org/tutorials/beginner/deep_learning_60min_blitz.html)\n",
    "* [Как устроено автоматическое дифференцирование в pytorch](http://videolectures.net/site/normal_dl/tag=1129745/deeplearning2017_johnson_automatic_differentiation_01.pdf)"
   ]
  }
 ],
 "metadata": {
  "kernelspec": {
   "display_name": "Python 3 (ipykernel)",
   "language": "python",
   "name": "python3"
  },
  "language_info": {
   "codemirror_mode": {
    "name": "ipython",
    "version": 3
   },
   "file_extension": ".py",
   "mimetype": "text/x-python",
   "name": "python",
   "nbconvert_exporter": "python",
   "pygments_lexer": "ipython3",
   "version": "3.9.7"
  },
  "varInspector": {
   "cols": {
    "lenName": 16,
    "lenType": 16,
    "lenVar": 40
   },
   "kernels_config": {
    "python": {
     "delete_cmd_postfix": "",
     "delete_cmd_prefix": "del ",
     "library": "var_list.py",
     "varRefreshCmd": "print(var_dic_list())"
    },
    "r": {
     "delete_cmd_postfix": ") ",
     "delete_cmd_prefix": "rm(",
     "library": "var_list.r",
     "varRefreshCmd": "cat(var_dic_list()) "
    }
   },
   "types_to_exclude": [
    "module",
    "function",
    "builtin_function_or_method",
    "instance",
    "_Feature"
   ],
   "window_display": false
  }
 },
 "nbformat": 4,
 "nbformat_minor": 4
}
